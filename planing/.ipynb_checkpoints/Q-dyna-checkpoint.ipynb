{
 "cells": [
  {
   "cell_type": "code",
   "execution_count": 1,
   "id": "2df78f1f-396e-4283-a16a-bf8990f14e9f",
   "metadata": {},
   "outputs": [],
   "source": [
    "import numpy as np\n",
    "import matplotlib.pyplot as plt\n",
    "from tqdm import tqdm"
   ]
  },
  {
   "cell_type": "code",
   "execution_count": 2,
   "id": "8dc4dd09-a547-4a45-952d-c5ddaebf0cfa",
   "metadata": {},
   "outputs": [
    {
     "data": {
      "text/plain": [
       "<matplotlib.image.AxesImage at 0x7f6540737a60>"
      ]
     },
     "execution_count": 2,
     "metadata": {},
     "output_type": "execute_result"
    },
    {
     "data": {
      "image/png": "[encoded data removed]",
      "text/plain": [
       "<Figure size 432x288 with 1 Axes>"
      ]
     },
     "metadata": {
      "needs_background": "light"
     },
     "output_type": "display_data"
    }
   ],
   "source": [
    "\n",
    "map_size = (6,9)\n",
    "race_map = np.zeros((map_size[0], map_size[1]))\n",
    "\n",
    "\n",
    "race_map[1:4,2] = 1\n",
    "race_map[:3,7] = 1\n",
    "race_map[-2,5] = 1\n",
    "\n",
    "race_map[2,0] = 2\n",
    "race_map[0,-1] = 3\n",
    "\n",
    "\n",
    "plt.imshow(race_map)"
   ]
  },
  {
   "cell_type": "code",
   "execution_count": 3,
   "id": "4b696b78-b6d3-43cb-bfde-10a4f4d4d79c",
   "metadata": {},
   "outputs": [],
   "source": [
    "def step(state, action):\n",
    "        \n",
    "    next_state =  state.copy()\n",
    "        \n",
    "    if action == 0:\n",
    "        next_state[0] += 1\n",
    "    elif action == 1:\n",
    "        next_state[0] -= 1\n",
    "    elif action == 2:\n",
    "        next_state[1] += 1\n",
    "    elif action == 3:\n",
    "        next_state[1] -= 1\n",
    "        \n",
    "    next_state[0] = next_state[0] if next_state[0] >= 0 else 0\n",
    "    next_state[0] = next_state[0] if next_state[0] < map_size[0] else map_size[0]-1\n",
    "    \n",
    "    next_state[1] = next_state[1] if next_state[1] >= 0 else 0\n",
    "    next_state[1] = next_state[1] if next_state[1] < map_size[1] else map_size[1]-1\n",
    "    \n",
    "    \n",
    "    next_state[0] = next_state[0] if race_map[next_state[0],next_state[1]] != 1 else state[0]\n",
    "    next_state[1] = next_state[1] if race_map[next_state[0],next_state[1]] != 1 else state[1]\n",
    "            \n",
    "            \n",
    "    reward = 0\n",
    "    reward = 1 if next_state[0] == 0 and next_state[1] == race_map.shape[1]-1 else reward      \n",
    "    \n",
    "    return (next_state,reward)"
   ]
  },
  {
   "cell_type": "code",
   "execution_count": 6,
   "id": "8e3b15a6-ee5e-46a6-9a64-6751bb635d3c",
   "metadata": {},
   "outputs": [
    {
     "ename": "IndentationError",
     "evalue": "expected an indented block (<ipython-input-6-9a2eb764e368>, line 58)",
     "output_type": "error",
     "traceback": [
      "\u001b[0;36m  File \u001b[0;32m\"<ipython-input-6-9a2eb764e368>\"\u001b[0;36m, line \u001b[0;32m58\u001b[0m\n\u001b[0;31m    plt.imshow(race_map)\u001b[0m\n\u001b[0m    ^\u001b[0m\n\u001b[0;31mIndentationError\u001b[0m\u001b[0;31m:\u001b[0m expected an indented block\n"
     ]
    }
   ],
   "source": [
    "\n",
    "\n",
    "def test_planing(planing_steps = 0,color = \"c\"):\n",
    "    Q = np.random.rand(map_size[0],map_size[1],4) \n",
    "    C = np.zeros((map_size[0],map_size[1],4))\n",
    "    Model = np.zeros((map_size[0],map_size[1],4,3)) # S,A,(S',R)\n",
    "    \n",
    "    policy_pi = np.argmax(Q,axis=-1)\n",
    "    \n",
    "    time_to_end=[]\n",
    "    \n",
    "    episodes = 1\n",
    "    #planing_steps = 5\n",
    "    gamma = .9\n",
    "    alpha = .1\n",
    "\n",
    "    for episode_idx in tqdm(range(episodes)):\n",
    "\n",
    "        state = [2,0]\n",
    "\n",
    "        # Prepare soft policy\n",
    "        rsh_pi = policy_pi.reshape((map_size[0]*map_size[1]))\n",
    "        policy_b = np.zeros((rsh_pi.size, 4))\n",
    "        policy_b[:,:] = .1/3\n",
    "        policy_b[np.arange(rsh_pi.size),rsh_pi] = .9\n",
    "        policy_b = policy_b.reshape(Q.shape)\n",
    "\n",
    "        episode_len = 0\n",
    "        while True:\n",
    "            episode_len+=1\n",
    "\n",
    "            action = np.random.choice(4,p=policy_b[state[0],state[1]])\n",
    "\n",
    "            state_p, R = step(state, action)\n",
    "\n",
    "            action_p = np.random.choice(4,p=policy_b[state_p[0],state_p[1]])\n",
    "\n",
    "            C[state[0],state[1],action] += 1\n",
    "            Q[state[0],state[1],action] += alpha * (R + gamma * np.max(Q[state_p[0],state_p[1]]) - Q[state[0],state[1],action])#/C[state[0],state[1],action]\n",
    "\n",
    "            Model[state[0],state[1],action,0] = state_p[0]\n",
    "            Model[state[0],state[1],action,1] = state_p[1]\n",
    "            Model[state[0],state[1],action,2] = R\n",
    "\n",
    "            policy_pi = np.argmax(Q,axis=-1)\n",
    "\n",
    "            # Prepare soft policy\n",
    "            policy_b[state[0],state[1],:] = .1/3\n",
    "            policy_b[state[0],state[1],policy_pi[state[0],state[1]]] = .9\n",
    "\n",
    "            action = action_p\n",
    "            state = state_p\n",
    "\n",
    "            if state[0] == 0 and state[1] == race_map.shape[1]-1:\n",
    "                break\n",
    "\n",
    "        \n",
    "        model_visited_sa = np.where(C!=0)\n",
    "        for i in range(model_visited_sa[0]):\n",
    "            for j in range(model_visited_sa[0]):\n",
    "        plt.imshow(race_map)        \n",
    "        \n",
    "        # Planing\n",
    "\n",
    "        \n",
    "        model_visited_sa = np.where(C!=0)\n",
    "        for planing_step in range(planing_steps):\n",
    "            \n",
    "            random_sa = np.random.choice(np.arange(len(model_visited_sa[0])))\n",
    "            state = [model_visited_sa[0][random_sa],model_visited_sa[1][random_sa]]\n",
    "            action = model_visited_sa[2][random_sa]\n",
    "            state_p = [\n",
    "                int(Model[state[0],state[1],action, 0]),\n",
    "                int(Model[state[0],state[1],action, 1]),\n",
    "            ]\n",
    "            R = Model[state[0],state[1],action, 2]\n",
    "            #print(state)\n",
    "            #C[state[0],state[1],action] += 1\n",
    "            #print(state_p)\n",
    "            Q[state[0],state[1],action] +=  alpha * (R + gamma * np.max(Q[state_p[0],state_p[1]]) - Q[state[0],state[1],action])#/C[state[0],state[1],action]\n",
    "\n",
    "        time_to_end.append(episode_len)\n",
    "    \n",
    "    \"\"\"mean = []\n",
    "    ran = []\n",
    "    window_size = 10\n",
    "    te = time_to_end[-50000:]\n",
    "    for i in range(len(te)-window_size):\n",
    "        mean.append(np.mean(te[i:i+window_size]))\n",
    "        ran.append(np.mean(np.abs(te[i:i+window_size]-mean[-1])))\n",
    "\n",
    "    plt.fill_between(np.arange(len(mean)),np.array(mean)+np.array(ran), np.array(mean)-np.array(ran),alpha=0.3,facecolor=color)\n",
    "    plt.plot(mean,c=color)\"\"\"\n",
    "    \n",
    "    plt.plot(time_to_end,c=color)\n",
    "    return Model"
   ]
  },
  {
   "cell_type": "code",
   "execution_count": 5,
   "id": "303c41f6-c5cf-4b01-b892-e14c5da650eb",
   "metadata": {
    "tags": []
   },
   "outputs": [
    {
     "name": "stderr",
     "output_type": "stream",
     "text": [
      "100%|██████████| 1/1 [00:00<00:00,  5.95it/s]\n",
      "100%|██████████| 1/1 [00:00<00:00,  7.31it/s]\n",
      "100%|██████████| 1/1 [00:00<00:00, 23.04it/s]\n"
     ]
    },
    {
     "data": {
      "image/png": "[encoded data removed]",
      "text/plain": [
       "<Figure size 432x288 with 1 Axes>"
      ]
     },
     "metadata": {
      "needs_background": "light"
     },
     "output_type": "display_data"
    }
   ],
   "source": [
    "M=test_planing(planing_steps=50,color=\"c\")\n",
    "M=test_planing(planing_steps=5,color=\"r\")\n",
    "M=test_planing(planing_steps=0,color=\"k\")\n"
   ]
  },
  {
   "cell_type": "code",
   "execution_count": 68,
   "id": "bf687d6b-37fd-4941-b94e-f3bd58fd7a4b",
   "metadata": {
    "collapsed": true,
    "jupyter": {
     "outputs_hidden": true
    },
    "tags": []
   },
   "outputs": [
    {
     "data": {
      "text/plain": [
       "array([[[[0., 0., 0.],\n",
       "         [0., 0., 0.],\n",
       "         [0., 0., 0.],\n",
       "         [0., 0., 0.]],\n",
       "\n",
       "        [[0., 1., 0.],\n",
       "         [0., 1., 0.],\n",
       "         [0., 1., 0.],\n",
       "         [0., 1., 0.]],\n",
       "\n",
       "        [[0., 2., 0.],\n",
       "         [0., 2., 0.],\n",
       "         [0., 2., 0.],\n",
       "         [0., 2., 0.]],\n",
       "\n",
       "        [[0., 3., 0.],\n",
       "         [0., 3., 0.],\n",
       "         [0., 3., 0.],\n",
       "         [0., 3., 0.]],\n",
       "\n",
       "        [[0., 4., 0.],\n",
       "         [0., 4., 0.],\n",
       "         [0., 4., 0.],\n",
       "         [0., 4., 0.]],\n",
       "\n",
       "        [[0., 5., 0.],\n",
       "         [0., 5., 0.],\n",
       "         [0., 5., 0.],\n",
       "         [0., 5., 0.]],\n",
       "\n",
       "        [[0., 6., 0.],\n",
       "         [0., 6., 0.],\n",
       "         [0., 6., 0.],\n",
       "         [0., 6., 0.]],\n",
       "\n",
       "        [[0., 0., 0.],\n",
       "         [0., 0., 0.],\n",
       "         [0., 0., 0.],\n",
       "         [0., 0., 0.]],\n",
       "\n",
       "        [[0., 0., 0.],\n",
       "         [0., 0., 0.],\n",
       "         [0., 0., 0.],\n",
       "         [0., 0., 0.]]],\n",
       "\n",
       "\n",
       "       [[[1., 0., 0.],\n",
       "         [1., 0., 0.],\n",
       "         [1., 0., 0.],\n",
       "         [1., 0., 0.]],\n",
       "\n",
       "        [[1., 1., 0.],\n",
       "         [1., 1., 0.],\n",
       "         [1., 1., 0.],\n",
       "         [1., 1., 0.]],\n",
       "\n",
       "        [[0., 0., 0.],\n",
       "         [0., 0., 0.],\n",
       "         [0., 0., 0.],\n",
       "         [0., 0., 0.]],\n",
       "\n",
       "        [[1., 3., 0.],\n",
       "         [1., 3., 0.],\n",
       "         [1., 3., 0.],\n",
       "         [1., 3., 0.]],\n",
       "\n",
       "        [[1., 4., 0.],\n",
       "         [1., 4., 0.],\n",
       "         [1., 4., 0.],\n",
       "         [1., 4., 0.]],\n",
       "\n",
       "        [[1., 5., 0.],\n",
       "         [1., 5., 0.],\n",
       "         [1., 5., 0.],\n",
       "         [1., 5., 0.]],\n",
       "\n",
       "        [[1., 6., 0.],\n",
       "         [1., 6., 0.],\n",
       "         [1., 6., 0.],\n",
       "         [1., 6., 0.]],\n",
       "\n",
       "        [[0., 0., 0.],\n",
       "         [0., 0., 0.],\n",
       "         [0., 0., 0.],\n",
       "         [0., 0., 0.]],\n",
       "\n",
       "        [[1., 8., 0.],\n",
       "         [1., 8., 1.],\n",
       "         [1., 8., 0.],\n",
       "         [1., 8., 0.]]],\n",
       "\n",
       "\n",
       "       [[[2., 0., 0.],\n",
       "         [2., 0., 0.],\n",
       "         [2., 0., 0.],\n",
       "         [2., 0., 0.]],\n",
       "\n",
       "        [[2., 1., 0.],\n",
       "         [2., 1., 0.],\n",
       "         [2., 1., 0.],\n",
       "         [2., 1., 0.]],\n",
       "\n",
       "        [[0., 0., 0.],\n",
       "         [0., 0., 0.],\n",
       "         [0., 0., 0.],\n",
       "         [0., 0., 0.]],\n",
       "\n",
       "        [[2., 3., 0.],\n",
       "         [2., 3., 0.],\n",
       "         [2., 3., 0.],\n",
       "         [2., 3., 0.]],\n",
       "\n",
       "        [[2., 4., 0.],\n",
       "         [2., 4., 0.],\n",
       "         [2., 4., 0.],\n",
       "         [2., 4., 0.]],\n",
       "\n",
       "        [[2., 5., 0.],\n",
       "         [2., 5., 0.],\n",
       "         [2., 5., 0.],\n",
       "         [2., 5., 0.]],\n",
       "\n",
       "        [[2., 6., 0.],\n",
       "         [2., 6., 0.],\n",
       "         [2., 6., 0.],\n",
       "         [2., 6., 0.]],\n",
       "\n",
       "        [[0., 0., 0.],\n",
       "         [0., 0., 0.],\n",
       "         [0., 0., 0.],\n",
       "         [0., 0., 0.]],\n",
       "\n",
       "        [[2., 8., 0.],\n",
       "         [2., 8., 0.],\n",
       "         [2., 8., 0.],\n",
       "         [2., 8., 0.]]],\n",
       "\n",
       "\n",
       "       [[[3., 0., 0.],\n",
       "         [3., 0., 0.],\n",
       "         [3., 0., 0.],\n",
       "         [3., 0., 0.]],\n",
       "\n",
       "        [[3., 1., 0.],\n",
       "         [3., 1., 0.],\n",
       "         [3., 1., 0.],\n",
       "         [3., 1., 0.]],\n",
       "\n",
       "        [[0., 0., 0.],\n",
       "         [0., 0., 0.],\n",
       "         [0., 0., 0.],\n",
       "         [0., 0., 0.]],\n",
       "\n",
       "        [[3., 3., 0.],\n",
       "         [3., 3., 0.],\n",
       "         [3., 3., 0.],\n",
       "         [3., 3., 0.]],\n",
       "\n",
       "        [[3., 4., 0.],\n",
       "         [3., 4., 0.],\n",
       "         [3., 4., 0.],\n",
       "         [3., 4., 0.]],\n",
       "\n",
       "        [[3., 5., 0.],\n",
       "         [3., 5., 0.],\n",
       "         [3., 5., 0.],\n",
       "         [3., 5., 0.]],\n",
       "\n",
       "        [[3., 6., 0.],\n",
       "         [3., 6., 0.],\n",
       "         [3., 6., 0.],\n",
       "         [3., 6., 0.]],\n",
       "\n",
       "        [[3., 7., 0.],\n",
       "         [3., 7., 0.],\n",
       "         [3., 7., 0.],\n",
       "         [3., 7., 0.]],\n",
       "\n",
       "        [[3., 8., 0.],\n",
       "         [3., 8., 0.],\n",
       "         [3., 8., 0.],\n",
       "         [3., 8., 0.]]],\n",
       "\n",
       "\n",
       "       [[[4., 0., 0.],\n",
       "         [4., 0., 0.],\n",
       "         [4., 0., 0.],\n",
       "         [4., 0., 0.]],\n",
       "\n",
       "        [[4., 1., 0.],\n",
       "         [4., 1., 0.],\n",
       "         [4., 1., 0.],\n",
       "         [4., 1., 0.]],\n",
       "\n",
       "        [[4., 2., 0.],\n",
       "         [4., 2., 0.],\n",
       "         [4., 2., 0.],\n",
       "         [4., 2., 0.]],\n",
       "\n",
       "        [[4., 3., 0.],\n",
       "         [4., 3., 0.],\n",
       "         [4., 3., 0.],\n",
       "         [4., 3., 0.]],\n",
       "\n",
       "        [[4., 4., 0.],\n",
       "         [4., 4., 0.],\n",
       "         [4., 4., 0.],\n",
       "         [4., 4., 0.]],\n",
       "\n",
       "        [[0., 0., 0.],\n",
       "         [0., 0., 0.],\n",
       "         [0., 0., 0.],\n",
       "         [0., 0., 0.]],\n",
       "\n",
       "        [[4., 6., 0.],\n",
       "         [4., 6., 0.],\n",
       "         [4., 6., 0.],\n",
       "         [4., 6., 0.]],\n",
       "\n",
       "        [[4., 7., 0.],\n",
       "         [4., 7., 0.],\n",
       "         [4., 7., 0.],\n",
       "         [4., 7., 0.]],\n",
       "\n",
       "        [[4., 8., 0.],\n",
       "         [4., 8., 0.],\n",
       "         [4., 8., 0.],\n",
       "         [4., 8., 0.]]],\n",
       "\n",
       "\n",
       "       [[[5., 0., 0.],\n",
       "         [5., 0., 0.],\n",
       "         [5., 0., 0.],\n",
       "         [5., 0., 0.]],\n",
       "\n",
       "        [[5., 1., 0.],\n",
       "         [5., 1., 0.],\n",
       "         [5., 1., 0.],\n",
       "         [5., 1., 0.]],\n",
       "\n",
       "        [[5., 2., 0.],\n",
       "         [5., 2., 0.],\n",
       "         [5., 2., 0.],\n",
       "         [5., 2., 0.]],\n",
       "\n",
       "        [[5., 3., 0.],\n",
       "         [5., 3., 0.],\n",
       "         [5., 3., 0.],\n",
       "         [5., 3., 0.]],\n",
       "\n",
       "        [[5., 4., 0.],\n",
       "         [5., 4., 0.],\n",
       "         [5., 4., 0.],\n",
       "         [5., 4., 0.]],\n",
       "\n",
       "        [[5., 5., 0.],\n",
       "         [5., 5., 0.],\n",
       "         [5., 5., 0.],\n",
       "         [5., 5., 0.]],\n",
       "\n",
       "        [[5., 6., 0.],\n",
       "         [5., 6., 0.],\n",
       "         [5., 6., 0.],\n",
       "         [5., 6., 0.]],\n",
       "\n",
       "        [[5., 7., 0.],\n",
       "         [5., 7., 0.],\n",
       "         [5., 7., 0.],\n",
       "         [5., 7., 0.]],\n",
       "\n",
       "        [[5., 8., 0.],\n",
       "         [5., 8., 0.],\n",
       "         [5., 8., 0.],\n",
       "         [5., 8., 0.]]]])"
      ]
     },
     "execution_count": 68,
     "metadata": {},
     "output_type": "execute_result"
    }
   ],
   "source": [
    "M"
   ]
  },
  {
   "cell_type": "code",
   "execution_count": null,
   "id": "e5cb2fdd-8720-470f-992c-e9a7ef83d9b9",
   "metadata": {
    "tags": []
   },
   "outputs": [],
   "source": []
  },
  {
   "cell_type": "code",
   "execution_count": 122,
   "id": "ae4808b0-cbe8-4df0-beaa-1f33901277c4",
   "metadata": {},
   "outputs": [
    {
     "data": {
      "text/plain": [
       "[<matplotlib.lines.Line2D at 0x7fd1c41ef130>]"
      ]
     },
     "execution_count": 122,
     "metadata": {},
     "output_type": "execute_result"
    },
    {
     "data": {
      "image/png": "[encoded data removed]",
      "text/plain": [
       "<Figure size 432x288 with 1 Axes>"
      ]
     },
     "metadata": {
      "needs_background": "light"
     },
     "output_type": "display_data"
    }
   ],
   "source": [
    "plt.plot(time_to_end)"
   ]
  },
  {
   "cell_type": "code",
   "execution_count": 118,
   "id": "465bcd79-a4b1-49fc-a547-704655cd9702",
   "metadata": {},
   "outputs": [
    {
     "data": {
      "text/plain": [
       "[<matplotlib.lines.Line2D at 0x7fd1c424eb80>]"
      ]
     },
     "execution_count": 118,
     "metadata": {},
     "output_type": "execute_result"
    },
    {
     "data": {
      "image/png": "[encoded data removed]",
      "text/plain": [
       "<Figure size 432x288 with 1 Axes>"
      ]
     },
     "metadata": {
      "needs_background": "light"
     },
     "output_type": "display_data"
    }
   ],
   "source": [
    "plt.plot(time_to_end)"
   ]
  },
  {
   "cell_type": "code",
   "execution_count": 114,
   "id": "4d283caf-83f6-42f9-bff0-e407b29ce434",
   "metadata": {},
   "outputs": [
    {
     "data": {
      "text/plain": [
       "[<matplotlib.lines.Line2D at 0x7fd1bfb60310>]"
      ]
     },
     "execution_count": 114,
     "metadata": {},
     "output_type": "execute_result"
    },
    {
     "data": {
      "image/png": "[encoded data removed]",
      "text/plain": [
       "<Figure size 432x288 with 1 Axes>"
      ]
     },
     "metadata": {
      "needs_background": "light"
     },
     "output_type": "display_data"
    }
   ],
   "source": [
    "plt.plot(time_to_end)"
   ]
  },
  {
   "cell_type": "code",
   "execution_count": 123,
   "id": "bbf9f3b7-7a63-4398-9cc1-02cff0e54005",
   "metadata": {},
   "outputs": [
    {
     "data": {
      "text/plain": [
       "[<matplotlib.lines.Line2D at 0x7fd1bf7434c0>]"
      ]
     },
     "execution_count": 123,
     "metadata": {},
     "output_type": "execute_result"
    },
    {
     "data": {
      "image/png": "[encoded data removed]",
      "text/plain": [
       "<Figure size 432x288 with 1 Axes>"
      ]
     },
     "metadata": {
      "needs_background": "light"
     },
     "output_type": "display_data"
    }
   ],
   "source": [
    "mean = []\n",
    "ran = []\n",
    "window_size = 10\n",
    "te = time_to_end[-50000:]\n",
    "for i in range(len(te)-window_size):\n",
    "    mean.append(np.mean(te[i:i+window_size]))\n",
    "    ran.append(np.mean(np.abs(te[i:i+window_size]-mean[-1])))\n",
    "\n",
    "plt.fill_between(np.arange(len(mean)),np.array(mean)+np.array(ran), np.array(mean)-np.array(ran),alpha=0.3,facecolor=\"c\")\n",
    "plt.plot(mean,c=\"c\")"
   ]
  },
  {
   "cell_type": "code",
   "execution_count": 85,
   "id": "a3de44bb-5861-4aa0-9e10-1fc771ababe8",
   "metadata": {},
   "outputs": [],
   "source": [
    "state = [2,0]\n",
    "\n",
    "# Prepare soft policy\n",
    "rsh_pi = policy_pi.reshape((map_size[0]*map_size[1] ))\n",
    "policy_b = np.zeros((rsh_pi.size, 4))\n",
    "policy_b[:,:] = .1/3\n",
    "policy_b[np.arange(rsh_pi.size),rsh_pi] = .9\n",
    "policy_b = policy_b.reshape(Q.shape)\n",
    "    \n",
    "action = np.random.choice(4,p=policy_b[state[0],state[1]])\n",
    "action = 0 if episode_idx==0 else action\n",
    "    \n",
    "\n",
    "states,actions,rewards = [state],[action],[]\n",
    "\n",
    "episode_len = 0\n",
    "while True:\n",
    "    episode_len+=1\n",
    "    state_p, R = step(state, action)\n",
    "        \n",
    "    action_p = np.random.choice(4,p=policy_b[state_p[0],state_p[1]])\n",
    "    \n",
    "    action = action_p\n",
    "    state = state_p\n",
    "    states.append(state)\n",
    "    actions.append(action)\n",
    "    rewards.append(R)\n",
    "    \n",
    "    if state[0] == 0 and state[1] == race_map.shape[1]-1:\n",
    "        break"
   ]
  },
  {
   "cell_type": "code",
   "execution_count": 82,
   "id": "a68ae8c7-97e0-429f-ba1f-355fe5b1950f",
   "metadata": {
    "tags": []
   },
   "outputs": [
    {
     "data": {
      "image/png": "[encoded data removed]",
      "text/plain": [
       "<Figure size 432x288 with 1 Axes>"
      ]
     },
     "metadata": {
      "needs_background": "light"
     },
     "output_type": "display_data"
    },
    {
     "name": "stdout",
     "output_type": "stream",
     "text": [
      "state:[2, 0]\n",
      "actions:1\n",
      " rewards:-1\n"
     ]
    },
    {
     "data": {
      "image/png": "[encoded data removed]",
      "text/plain": [
       "<Figure size 432x288 with 1 Axes>"
      ]
     },
     "metadata": {
      "needs_background": "light"
     },
     "output_type": "display_data"
    },
    {
     "name": "stdout",
     "output_type": "stream",
     "text": [
      "state:[1, 0]\n",
      "actions:1\n",
      " rewards:-1\n"
     ]
    },
    {
     "data": {
      "image/png": "[encoded data removed]",
      "text/plain": [
       "<Figure size 432x288 with 1 Axes>"
      ]
     },
     "metadata": {
      "needs_background": "light"
     },
     "output_type": "display_data"
    },
    {
     "name": "stdout",
     "output_type": "stream",
     "text": [
      "state:[0, 0]\n",
      "actions:2\n",
      " rewards:-1\n"
     ]
    },
    {
     "data": {
      "image/png": "[encoded data removed]",
      "text/plain": [
       "<Figure size 432x288 with 1 Axes>"
      ]
     },
     "metadata": {
      "needs_background": "light"
     },
     "output_type": "display_data"
    },
    {
     "name": "stdout",
     "output_type": "stream",
     "text": [
      "state:[0, 1]\n",
      "actions:2\n",
      " rewards:-1\n"
     ]
    },
    {
     "data": {
      "image/png": "[encoded data removed]",
      "text/plain": [
       "<Figure size 432x288 with 1 Axes>"
      ]
     },
     "metadata": {
      "needs_background": "light"
     },
     "output_type": "display_data"
    },
    {
     "name": "stdout",
     "output_type": "stream",
     "text": [
      "state:[0, 2]\n",
      "actions:2\n",
      " rewards:-1\n"
     ]
    },
    {
     "data": {
      "image/png": "[encoded data removed]",
      "text/plain": [
       "<Figure size 432x288 with 1 Axes>"
      ]
     },
     "metadata": {
      "needs_background": "light"
     },
     "output_type": "display_data"
    },
    {
     "name": "stdout",
     "output_type": "stream",
     "text": [
      "state:[0, 3]\n",
      "actions:2\n",
      " rewards:-1\n"
     ]
    },
    {
     "data": {
      "image/png": "[encoded data removed]",
      "text/plain": [
       "<Figure size 432x288 with 1 Axes>"
      ]
     },
     "metadata": {
      "needs_background": "light"
     },
     "output_type": "display_data"
    },
    {
     "name": "stdout",
     "output_type": "stream",
     "text": [
      "state:[0, 4]\n",
      "actions:0\n",
      " rewards:-1\n"
     ]
    },
    {
     "data": {
      "image/png": "[encoded data removed]",
      "text/plain": [
       "<Figure size 432x288 with 1 Axes>"
      ]
     },
     "metadata": {
      "needs_background": "light"
     },
     "output_type": "display_data"
    },
    {
     "name": "stdout",
     "output_type": "stream",
     "text": [
      "state:[1, 4]\n",
      "actions:2\n",
      " rewards:-1\n"
     ]
    },
    {
     "data": {
      "image/png": "[encoded data removed]",
      "text/plain": [
       "<Figure size 432x288 with 1 Axes>"
      ]
     },
     "metadata": {
      "needs_background": "light"
     },
     "output_type": "display_data"
    },
    {
     "name": "stdout",
     "output_type": "stream",
     "text": [
      "state:[1, 5]\n",
      "actions:1\n",
      " rewards:-1\n"
     ]
    },
    {
     "data": {
      "image/png": "[encoded data removed]",
      "text/plain": [
       "<Figure size 432x288 with 1 Axes>"
      ]
     },
     "metadata": {
      "needs_background": "light"
     },
     "output_type": "display_data"
    },
    {
     "name": "stdout",
     "output_type": "stream",
     "text": [
      "state:[0, 5]\n",
      "actions:0\n",
      " rewards:-1\n"
     ]
    },
    {
     "data": {
      "image/png": "[encoded data removed]",
      "text/plain": [
       "<Figure size 432x288 with 1 Axes>"
      ]
     },
     "metadata": {
      "needs_background": "light"
     },
     "output_type": "display_data"
    },
    {
     "name": "stdout",
     "output_type": "stream",
     "text": [
      "state:[1, 5]\n",
      "actions:0\n",
      " rewards:-1\n"
     ]
    },
    {
     "data": {
      "image/png": "[encoded data removed]",
      "text/plain": [
       "<Figure size 432x288 with 1 Axes>"
      ]
     },
     "metadata": {
      "needs_background": "light"
     },
     "output_type": "display_data"
    },
    {
     "name": "stdout",
     "output_type": "stream",
     "text": [
      "state:[2, 5]\n",
      "actions:0\n",
      " rewards:-1\n"
     ]
    },
    {
     "data": {
      "image/png": "[encoded data removed]",
      "text/plain": [
       "<Figure size 432x288 with 1 Axes>"
      ]
     },
     "metadata": {
      "needs_background": "light"
     },
     "output_type": "display_data"
    },
    {
     "name": "stdout",
     "output_type": "stream",
     "text": [
      "state:[3, 5]\n",
      "actions:2\n",
      " rewards:-1\n"
     ]
    },
    {
     "data": {
      "image/png": "[encoded data removed]",
      "text/plain": [
       "<Figure size 432x288 with 1 Axes>"
      ]
     },
     "metadata": {
      "needs_background": "light"
     },
     "output_type": "display_data"
    },
    {
     "name": "stdout",
     "output_type": "stream",
     "text": [
      "state:[3, 6]\n",
      "actions:2\n",
      " rewards:-1\n"
     ]
    },
    {
     "data": {
      "image/png": "[encoded data removed]",
      "text/plain": [
       "<Figure size 432x288 with 1 Axes>"
      ]
     },
     "metadata": {
      "needs_background": "light"
     },
     "output_type": "display_data"
    },
    {
     "name": "stdout",
     "output_type": "stream",
     "text": [
      "state:[3, 7]\n",
      "actions:2\n",
      " rewards:-1\n"
     ]
    },
    {
     "data": {
      "image/png": "[encoded data removed]",
      "text/plain": [
       "<Figure size 432x288 with 1 Axes>"
      ]
     },
     "metadata": {
      "needs_background": "light"
     },
     "output_type": "display_data"
    },
    {
     "name": "stdout",
     "output_type": "stream",
     "text": [
      "state:[3, 8]\n",
      "actions:1\n",
      " rewards:-1\n"
     ]
    },
    {
     "data": {
      "image/png": "[encoded data removed]",
      "text/plain": [
       "<Figure size 432x288 with 1 Axes>"
      ]
     },
     "metadata": {
      "needs_background": "light"
     },
     "output_type": "display_data"
    },
    {
     "name": "stdout",
     "output_type": "stream",
     "text": [
      "state:[2, 8]\n",
      "actions:1\n",
      " rewards:-1\n"
     ]
    },
    {
     "data": {
      "image/png": "[encoded data removed]",
      "text/plain": [
       "<Figure size 432x288 with 1 Axes>"
      ]
     },
     "metadata": {
      "needs_background": "light"
     },
     "output_type": "display_data"
    },
    {
     "name": "stdout",
     "output_type": "stream",
     "text": [
      "state:[1, 8]\n",
      "actions:1\n",
      " rewards:30\n"
     ]
    },
    {
     "data": {
      "image/png": "[encoded data removed]",
      "text/plain": [
       "<Figure size 432x288 with 1 Axes>"
      ]
     },
     "metadata": {
      "needs_background": "light"
     },
     "output_type": "display_data"
    }
   ],
   "source": [
    "for i,j,k in zip(states,rewards,actions):\n",
    "    plt.imshow(race_map)\n",
    "    plt.scatter(i[1],i[0])\n",
    "    plt.show()\n",
    "    print(f\"state:{i}\")\n",
    "    print(f\"actions:{k}\\n rewards:{j}\")\n",
    "\n",
    "\n",
    "plt.imshow(race_map)\n",
    "plt.scatter(states[-1][1],states[-1][0])\n",
    "plt.show()"
   ]
  },
  {
   "cell_type": "code",
   "execution_count": 42,
   "id": "581f938a-0c6e-4fe0-b901-57f4bb8540f5",
   "metadata": {},
   "outputs": [],
   "source": [
    "C[0,0,0]=1\n",
    "C[0,0,1]=1"
   ]
  },
  {
   "cell_type": "code",
   "execution_count": 49,
   "id": "64f29b71-c62e-4aa0-a64f-038a3eac1c95",
   "metadata": {},
   "outputs": [
    {
     "data": {
      "text/plain": [
       "(array([0, 0]), array([0, 0]), array([0, 1]))"
      ]
     },
     "execution_count": 49,
     "metadata": {},
     "output_type": "execute_result"
    }
   ],
   "source": [
    "np.where(C!=0)\n"
   ]
  },
  {
   "cell_type": "code",
   "execution_count": 62,
   "id": "9a94426d-1132-4c66-8f0e-a35bc9e85fec",
   "metadata": {},
   "outputs": [
    {
     "data": {
      "text/plain": [
       "0"
      ]
     },
     "execution_count": 62,
     "metadata": {},
     "output_type": "execute_result"
    }
   ],
   "source": [
    "np.random.choice(np.arange(len(np.where(C!=0)[0])))"
   ]
  },
  {
   "cell_type": "code",
   "execution_count": 53,
   "id": "04d485c4-4da4-4f8c-8156-2a9ba99868f0",
   "metadata": {},
   "outputs": [
    {
     "data": {
      "text/plain": [
       "2"
      ]
     },
     "execution_count": 53,
     "metadata": {},
     "output_type": "execute_result"
    }
   ],
   "source": [
    "len(np.where(C!=0)[0])"
   ]
  },
  {
   "cell_type": "code",
   "execution_count": 54,
   "id": "d58399df-0d7d-485b-b7b6-14dd77bd6bca",
   "metadata": {},
   "outputs": [
    {
     "data": {
      "text/plain": [
       "array([0, 1])"
      ]
     },
     "execution_count": 54,
     "metadata": {},
     "output_type": "execute_result"
    }
   ],
   "source": [
    "np.arange(len(np.where(C!=0)[0]))"
   ]
  },
  {
   "cell_type": "code",
   "execution_count": null,
   "id": "bb84b7be-57bc-4942-9e96-43a33fba1a43",
   "metadata": {},
   "outputs": [],
   "source": []
  }
 ],
 "metadata": {
  "kernelspec": {
   "display_name": "Python 3",
   "language": "python",
   "name": "python3"
  },
  "language_info": {
   "codemirror_mode": {
    "name": "ipython",
    "version": 3
   },
   "file_extension": ".py",
   "mimetype": "text/x-python",
   "name": "python",
   "nbconvert_exporter": "python",
   "pygments_lexer": "ipython3",
   "version": "3.8.5"
  }
 },
 "nbformat": 4,
 "nbformat_minor": 5
}
