{
 "cells": [
  {
   "cell_type": "code",
   "execution_count": 1,
   "id": "2df78f1f-396e-4283-a16a-bf8990f14e9f",
   "metadata": {},
   "outputs": [],
   "source": [
    "import numpy as np\n",
    "import matplotlib.pyplot as plt\n",
    "from tqdm import tqdm"
   ]
  },
  {
   "cell_type": "code",
   "execution_count": 2,
   "id": "8dc4dd09-a547-4a45-952d-c5ddaebf0cfa",
   "metadata": {},
   "outputs": [
    {
     "data": {
      "text/plain": [
       "<matplotlib.image.AxesImage at 0x7f4dc55fcc40>"
      ]
     },
     "execution_count": 2,
     "metadata": {},
     "output_type": "execute_result"
    },
    {
     "data": {
      "image/png": "[encoded data removed]",
      "text/plain": [
       "<Figure size 432x288 with 1 Axes>"
      ]
     },
     "metadata": {
      "needs_background": "light"
     },
     "output_type": "display_data"
    }
   ],
   "source": [
    "\n",
    "map_size = (6,9)\n",
    "race_map = np.zeros((map_size[0], map_size[1]))\n",
    "\n",
    "\n",
    "race_map[1:4,2] = 1\n",
    "race_map[:3,7] = 1\n",
    "race_map[-2,5] = 1\n",
    "\n",
    "race_map[2,0] = 2\n",
    "race_map[0,-1] = 3\n",
    "\n",
    "\n",
    "plt.imshow(race_map)"
   ]
  },
  {
   "cell_type": "code",
   "execution_count": 192,
   "id": "4b696b78-b6d3-43cb-bfde-10a4f4d4d79c",
   "metadata": {},
   "outputs": [],
   "source": [
    "def step(state, action):\n",
    "        \n",
    "    next_state =  state.copy()\n",
    "        \n",
    "    if action == 0:\n",
    "        next_state[0] += 1\n",
    "    elif action == 1:\n",
    "        next_state[0] -= 1\n",
    "    elif action == 2:\n",
    "        next_state[1] += 1\n",
    "    elif action == 3:\n",
    "        next_state[1] -= 1\n",
    "        [-1,0],[+1,0],[0,1],[0,-1]\n",
    "        [-1,0],[+1,0],[0,1],[0,-1]\n",
    "        \n",
    "    next_state[0] = next_state[0] if next_state[0] >= 0 else 0\n",
    "    next_state[0] = next_state[0] if next_state[0] < map_size[0] else map_size[0]-1\n",
    "    \n",
    "    next_state[1] = next_state[1] if next_state[1] >= 0 else 0\n",
    "    next_state[1] = next_state[1] if next_state[1] < map_size[1] else map_size[1]-1\n",
    "    \n",
    "    \n",
    "    next_state[0] = next_state[0] if race_map[next_state[0],next_state[1]] != 1 else state[0]\n",
    "    next_state[1] = next_state[1] if race_map[next_state[0],next_state[1]] != 1 else state[1]\n",
    "            \n",
    "            \n",
    "    reward = 0\n",
    "    reward = 1 if next_state[0] == 0 and next_state[1] == race_map.shape[1]-1 else reward      \n",
    "    \n",
    "    return (next_state,reward)"
   ]
  },
  {
   "cell_type": "code",
   "execution_count": 202,
   "id": "8e3b15a6-ee5e-46a6-9a64-6751bb635d3c",
   "metadata": {},
   "outputs": [],
   "source": [
    "\n",
    "\n",
    "def test_planing(planing_steps = 0,color = \"c\"):\n",
    "    Q = np.random.rand(map_size[0],map_size[1],4)/10\n",
    "    C = np.zeros((map_size[0],map_size[1],4))\n",
    "    Model = np.zeros((map_size[0],map_size[1],4,3)) # S,A,(S',R)\n",
    "    \n",
    "    policy_pi = np.argmax(Q,axis=-1)\n",
    "    \n",
    "    time_to_end=[]\n",
    "    \n",
    "    episodes = 40\n",
    "    #planing_steps = 5\n",
    "    gamma = .9\n",
    "    alpha = .1\n",
    "\n",
    "    for episode_idx in tqdm(range(episodes)):\n",
    "\n",
    "        state = [2,0]\n",
    "\n",
    "        # Prepare soft policy\n",
    "        rsh_pi = policy_pi.reshape((map_size[0]*map_size[1]))\n",
    "        policy_b = np.zeros((rsh_pi.size, 4))\n",
    "        policy_b[:,:] = .1/3\n",
    "        policy_b[np.arange(rsh_pi.size),rsh_pi] = .9\n",
    "        policy_b = policy_b.reshape(Q.shape)\n",
    "\n",
    "        episode_len = 0\n",
    "        while True:\n",
    "            episode_len += 1\n",
    "\n",
    "            action = np.random.choice(4,p=policy_b[state[0],state[1]])\n",
    "\n",
    "            state_p, R = step(state, action)\n",
    "\n",
    "            #action_p = np.random.choice(4,p=policy_b[state_p[0],state_p[1]])\n",
    "\n",
    "            C[state[0],state[1],action] += 1\n",
    "            Q[state[0],state[1],action] += alpha * (R + gamma * np.max(Q[state_p[0],state_p[1]]) - Q[state[0],state[1],action])#/C[state[0],state[1],action]\n",
    "\n",
    "            Model[state[0],state[1],action,0] = state_p[0]\n",
    "            Model[state[0],state[1],action,1] = state_p[1]\n",
    "            Model[state[0],state[1],action,2] = R\n",
    "\n",
    "            policy_pi = np.argmax(Q,axis=-1)\n",
    "\n",
    "            # Prepare soft policy\n",
    "            policy_b[state[0],state[1],:] = .1/3\n",
    "            policy_b[state[0],state[1],policy_pi[state[0],state[1]]] = .9\n",
    "\n",
    "            action = action_p\n",
    "            state = state_p\n",
    "\n",
    "            if state[0] == 0 and state[1] == race_map.shape[1]-1:\n",
    "                break\n",
    "\n",
    "        # plot model\n",
    "        \"\"\"plt.imshow(race_map)        \n",
    "        model_visited_sa = np.where(C!=0)\n",
    "        for p in range(len(model_visited_sa[0])):\n",
    "            j,i=model_visited_sa[0][p],model_visited_sa[1][p]\n",
    "            if model_visited_sa[2][p] == 3:\n",
    "                plt.arrow(i, j, -.3, 0, width = 0.05,color=\"y\")\n",
    "            if model_visited_sa[2][p] == 2:\n",
    "                plt.arrow(i, j, .3, 0, width = 0.05,color=\"y\")\n",
    "            if model_visited_sa[2][p] == 0:\n",
    "                plt.arrow(i, j, 0, +.3, width = 0.05,color=\"y\")\n",
    "            if model_visited_sa[2][p] == 1:\n",
    "                plt.arrow(i, j, 0, -.3, width = 0.05,color=\"y\")\n",
    "                \n",
    "        plt.show()\"\"\"\n",
    "        \n",
    "        #plot optimal policy \n",
    "        def plot_Q():\n",
    "            plt.imshow(race_map)       \n",
    "            for i in range(Q.shape[0]):\n",
    "                for j in range(Q.shape[1]):\n",
    "                    for a in range(Q.shape[2]):\n",
    "                        #j,i=model_visited_sa[0][p],model_visited_sa[1][p]\n",
    "                        \n",
    "                        if Q[i,j,a]==np.max(Q[i,j]):\n",
    "                            if a == 3:\n",
    "                                plt.arrow(j, i, -.3, 0, width = 0.05,color=\"w\",alpha=Q[i,j,a]/np.max(Q))\n",
    "                            if a == 2:\n",
    "                                plt.arrow(j, i, .3, 0, width = 0.05,color=\"w\",alpha=Q[i,j,a]/np.max(Q))\n",
    "                            if a == 0:\n",
    "                                plt.arrow(j, i, 0, +.3, width = 0.05,color=\"w\",alpha=Q[i,j,a]/np.max(Q))\n",
    "                            if a == 1:\n",
    "                                plt.arrow(j, i, 0, -.3, width = 0.05,color=\"w\",alpha=Q[i,j,a]/np.max(Q))\n",
    "\n",
    "            plt.show()\n",
    "            \n",
    "        #plot_Q()\n",
    "        # Planing        \n",
    "        model_visited_sa = np.where(C!=0)\n",
    "            \n",
    "            \n",
    "            \n",
    "        for planing_step in range(planing_steps):\n",
    "            for i in range(len(model_visited_sa[0])):\n",
    "                random_sa = np.random.choice(np.arange(len(model_visited_sa[0])))\n",
    "                state = [model_visited_sa[0][random_sa],model_visited_sa[1][random_sa]]\n",
    "                action = model_visited_sa[2][random_sa]\n",
    "                state_p = [\n",
    "                    int(Model[state[0],state[1],action, 0]),\n",
    "                    int(Model[state[0],state[1],action, 1]),\n",
    "                ]\n",
    "                R = Model[state[0],state[1],action, 2]\n",
    "                \n",
    "                Q[state[0],state[1],action] +=  alpha * (R + gamma * np.max(Q[state_p[0],state_p[1]]) - Q[state[0],state[1],action])#/C[state[0],state[1],action]\n",
    "            \n",
    "        \n",
    "        time_to_end.append(episode_len)\n",
    "    \n",
    "    \"\"\"mean = []\n",
    "    ran = []\n",
    "    window_size = 10\n",
    "    te = time_to_end[-50000:]\n",
    "    for i in range(len(te)-window_size):\n",
    "        mean.append(np.mean(te[i:i+window_size]))\n",
    "        ran.append(np.mean(np.abs(te[i:i+window_size]-mean[-1])))\n",
    "\n",
    "    plt.fill_between(np.arange(len(mean)),np.array(mean)+np.array(ran), np.array(mean)-np.array(ran),alpha=0.3,facecolor=color)\n",
    "    plt.plot(mean,c=color)\"\"\"\n",
    "    plot_Q()\n",
    "    #plt.plot(time_to_end[1:],c=color)\n",
    "    plt.show()\n",
    "    return policy_pi"
   ]
  },
  {
   "cell_type": "code",
   "execution_count": 203,
   "id": "b5db08b8-8077-4d1e-8378-99814a4c74f4",
   "metadata": {},
   "outputs": [
    {
     "data": {
      "text/plain": [
       "216"
      ]
     },
     "execution_count": 203,
     "metadata": {},
     "output_type": "execute_result"
    }
   ],
   "source": [
    "(6* 9* 4)"
   ]
  },
  {
   "cell_type": "code",
   "execution_count": 204,
   "id": "303c41f6-c5cf-4b01-b892-e14c5da650eb",
   "metadata": {
    "tags": []
   },
   "outputs": [
    {
     "name": "stderr",
     "output_type": "stream",
     "text": [
      "100%|██████████| 40/40 [00:01<00:00, 36.78it/s]\n"
     ]
    },
    {
     "data": {
      "image/png": "[encoded data removed]",
      "text/plain": [
       "<Figure size 432x288 with 1 Axes>"
      ]
     },
     "metadata": {
      "needs_background": "light"
     },
     "output_type": "display_data"
    },
    {
     "name": "stderr",
     "output_type": "stream",
     "text": [
      "100%|██████████| 40/40 [00:01<00:00, 38.88it/s]\n"
     ]
    },
    {
     "data": {
      "image/png": "[encoded data removed]",
      "text/plain": [
       "<Figure size 432x288 with 1 Axes>"
      ]
     },
     "metadata": {
      "needs_background": "light"
     },
     "output_type": "display_data"
    },
    {
     "name": "stderr",
     "output_type": "stream",
     "text": [
      "100%|██████████| 40/40 [00:02<00:00, 17.52it/s]\n"
     ]
    },
    {
     "data": {
      "image/png": "[encoded data removed]",
      "text/plain": [
       "<Figure size 432x288 with 1 Axes>"
      ]
     },
     "metadata": {
      "needs_background": "light"
     },
     "output_type": "display_data"
    }
   ],
   "source": [
    "policy_pi = test_planing(planing_steps=0,color=\"c\")\n",
    "policy_pi = test_planing(planing_steps=2,color=\"r\")\n",
    "policy_pi = test_planing(planing_steps=10,color=\"k\")\n"
   ]
  },
  {
   "cell_type": "code",
   "execution_count": null,
   "id": "7affdc49-49de-4ec8-b35f-17fc3f8391d7",
   "metadata": {},
   "outputs": [],
   "source": []
  },
  {
   "cell_type": "code",
   "execution_count": 169,
   "id": "bbf9f3b7-7a63-4398-9cc1-02cff0e54005",
   "metadata": {},
   "outputs": [
    {
     "ename": "NameError",
     "evalue": "name 'time_to_end' is not defined",
     "output_type": "error",
     "traceback": [
      "\u001b[0;31m---------------------------------------------------------------------------\u001b[0m",
      "\u001b[0;31mNameError\u001b[0m                                 Traceback (most recent call last)",
      "\u001b[0;32m<ipython-input-169-1a27d328d0b0>\u001b[0m in \u001b[0;36m<module>\u001b[0;34m\u001b[0m\n\u001b[1;32m      2\u001b[0m \u001b[0mran\u001b[0m \u001b[0;34m=\u001b[0m \u001b[0;34m[\u001b[0m\u001b[0;34m]\u001b[0m\u001b[0;34m\u001b[0m\u001b[0;34m\u001b[0m\u001b[0m\n\u001b[1;32m      3\u001b[0m \u001b[0mwindow_size\u001b[0m \u001b[0;34m=\u001b[0m \u001b[0;36m10\u001b[0m\u001b[0;34m\u001b[0m\u001b[0;34m\u001b[0m\u001b[0m\n\u001b[0;32m----> 4\u001b[0;31m \u001b[0mte\u001b[0m \u001b[0;34m=\u001b[0m \u001b[0mtime_to_end\u001b[0m\u001b[0;34m[\u001b[0m\u001b[0;34m-\u001b[0m\u001b[0;36m50000\u001b[0m\u001b[0;34m:\u001b[0m\u001b[0;34m]\u001b[0m\u001b[0;34m\u001b[0m\u001b[0;34m\u001b[0m\u001b[0m\n\u001b[0m\u001b[1;32m      5\u001b[0m \u001b[0;32mfor\u001b[0m \u001b[0mi\u001b[0m \u001b[0;32min\u001b[0m \u001b[0mrange\u001b[0m\u001b[0;34m(\u001b[0m\u001b[0mlen\u001b[0m\u001b[0;34m(\u001b[0m\u001b[0mte\u001b[0m\u001b[0;34m)\u001b[0m\u001b[0;34m-\u001b[0m\u001b[0mwindow_size\u001b[0m\u001b[0;34m)\u001b[0m\u001b[0;34m:\u001b[0m\u001b[0;34m\u001b[0m\u001b[0;34m\u001b[0m\u001b[0m\n\u001b[1;32m      6\u001b[0m     \u001b[0mmean\u001b[0m\u001b[0;34m.\u001b[0m\u001b[0mappend\u001b[0m\u001b[0;34m(\u001b[0m\u001b[0mnp\u001b[0m\u001b[0;34m.\u001b[0m\u001b[0mmean\u001b[0m\u001b[0;34m(\u001b[0m\u001b[0mte\u001b[0m\u001b[0;34m[\u001b[0m\u001b[0mi\u001b[0m\u001b[0;34m:\u001b[0m\u001b[0mi\u001b[0m\u001b[0;34m+\u001b[0m\u001b[0mwindow_size\u001b[0m\u001b[0;34m]\u001b[0m\u001b[0;34m)\u001b[0m\u001b[0;34m)\u001b[0m\u001b[0;34m\u001b[0m\u001b[0;34m\u001b[0m\u001b[0m\n",
      "\u001b[0;31mNameError\u001b[0m: name 'time_to_end' is not defined"
     ]
    }
   ],
   "source": [
    "mean = []\n",
    "ran = []\n",
    "window_size = 10\n",
    "te = time_to_end[-50000:]\n",
    "for i in range(len(te)-window_size):\n",
    "    mean.append(np.mean(te[i:i+window_size]))\n",
    "    ran.append(np.mean(np.abs(te[i:i+window_size]-mean[-1])))\n",
    "\n",
    "plt.fill_between(np.arange(len(mean)),np.array(mean)+np.array(ran), np.array(mean)-np.array(ran),alpha=0.3,facecolor=\"c\")\n",
    "plt.plot(mean,c=\"c\")"
   ]
  },
  {
   "cell_type": "code",
   "execution_count": 175,
   "id": "a3de44bb-5861-4aa0-9e10-1fc771ababe8",
   "metadata": {},
   "outputs": [],
   "source": [
    "state = [2,0]\n",
    "\n",
    "# Prepare soft policy\n",
    "rsh_pi = policy_pi.reshape((map_size[0]*map_size[1] ))\n",
    "policy_b = np.zeros((rsh_pi.size, 4))\n",
    "policy_b[:,:] = .1/3\n",
    "policy_b[np.arange(rsh_pi.size),rsh_pi] = .9\n",
    "policy_b = policy_b.reshape((6,9,4))\n",
    "    \n",
    "action = np.random.choice(4,p=policy_b[state[0],state[1]])\n",
    "#action = 0 if episode_idx==0 else action\n",
    "    \n",
    "\n",
    "states,actions,rewards = [state],[action],[]\n",
    "\n",
    "episode_len = 0\n",
    "while True:\n",
    "    episode_len+=1\n",
    "    state_p, R = step(state, action)\n",
    "        \n",
    "    action_p = np.random.choice(4,p=policy_b[state_p[0],state_p[1]])\n",
    "    \n",
    "    action = action_p\n",
    "    state = state_p\n",
    "    states.append(state)\n",
    "    actions.append(action)\n",
    "    rewards.append(R)\n",
    "    \n",
    "    if state[0] == 0 and state[1] == race_map.shape[1]-1:\n",
    "        break"
   ]
  },
  {
   "cell_type": "code",
   "execution_count": 176,
   "id": "a68ae8c7-97e0-429f-ba1f-355fe5b1950f",
   "metadata": {
    "tags": []
   },
   "outputs": [
    {
     "data": {
      "image/png": "[encoded data removed]",
      "text/plain": [
       "<Figure size 432x288 with 1 Axes>"
      ]
     },
     "metadata": {
      "needs_background": "light"
     },
     "output_type": "display_data"
    },
    {
     "name": "stdout",
     "output_type": "stream",
     "text": [
      "state:[2, 0]\n",
      "actions:0\n",
      " rewards:0\n"
     ]
    },
    {
     "data": {
      "image/png": "[encoded data removed]",
      "text/plain": [
       "<Figure size 432x288 with 1 Axes>"
      ]
     },
     "metadata": {
      "needs_background": "light"
     },
     "output_type": "display_data"
    },
    {
     "name": "stdout",
     "output_type": "stream",
     "text": [
      "state:[3, 0]\n",
      "actions:2\n",
      " rewards:0\n"
     ]
    },
    {
     "data": {
      "image/png": "[encoded data removed]",
      "text/plain": [
       "<Figure size 432x288 with 1 Axes>"
      ]
     },
     "metadata": {
      "needs_background": "light"
     },
     "output_type": "display_data"
    },
    {
     "name": "stdout",
     "output_type": "stream",
     "text": [
      "state:[3, 1]\n",
      "actions:3\n",
      " rewards:0\n"
     ]
    },
    {
     "data": {
      "image/png": "[encoded data removed]",
      "text/plain": [
       "<Figure size 432x288 with 1 Axes>"
      ]
     },
     "metadata": {
      "needs_background": "light"
     },
     "output_type": "display_data"
    },
    {
     "name": "stdout",
     "output_type": "stream",
     "text": [
      "state:[3, 0]\n",
      "actions:2\n",
      " rewards:0\n"
     ]
    },
    {
     "data": {
      "image/png": "[encoded data removed]",
      "text/plain": [
       "<Figure size 432x288 with 1 Axes>"
      ]
     },
     "metadata": {
      "needs_background": "light"
     },
     "output_type": "display_data"
    },
    {
     "name": "stdout",
     "output_type": "stream",
     "text": [
      "state:[3, 1]\n",
      "actions:0\n",
      " rewards:0\n"
     ]
    },
    {
     "data": {
      "image/png": "[encoded data removed]",
      "text/plain": [
       "<Figure size 432x288 with 1 Axes>"
      ]
     },
     "metadata": {
      "needs_background": "light"
     },
     "output_type": "display_data"
    },
    {
     "name": "stdout",
     "output_type": "stream",
     "text": [
      "state:[4, 1]\n",
      "actions:2\n",
      " rewards:0\n"
     ]
    },
    {
     "data": {
      "image/png": "[encoded data removed]",
      "text/plain": [
       "<Figure size 432x288 with 1 Axes>"
      ]
     },
     "metadata": {
      "needs_background": "light"
     },
     "output_type": "display_data"
    },
    {
     "name": "stdout",
     "output_type": "stream",
     "text": [
      "state:[4, 2]\n",
      "actions:2\n",
      " rewards:0\n"
     ]
    },
    {
     "data": {
      "image/png": "[encoded data removed]",
      "text/plain": [
       "<Figure size 432x288 with 1 Axes>"
      ]
     },
     "metadata": {
      "needs_background": "light"
     },
     "output_type": "display_data"
    },
    {
     "name": "stdout",
     "output_type": "stream",
     "text": [
      "state:[4, 3]\n",
      "actions:1\n",
      " rewards:0\n"
     ]
    },
    {
     "data": {
      "image/png": "[encoded data removed]",
      "text/plain": [
       "<Figure size 432x288 with 1 Axes>"
      ]
     },
     "metadata": {
      "needs_background": "light"
     },
     "output_type": "display_data"
    },
    {
     "name": "stdout",
     "output_type": "stream",
     "text": [
      "state:[3, 3]\n",
      "actions:2\n",
      " rewards:0\n"
     ]
    },
    {
     "data": {
      "image/png": "[encoded data removed]",
      "text/plain": [
       "<Figure size 432x288 with 1 Axes>"
      ]
     },
     "metadata": {
      "needs_background": "light"
     },
     "output_type": "display_data"
    },
    {
     "name": "stdout",
     "output_type": "stream",
     "text": [
      "state:[3, 4]\n",
      "actions:2\n",
      " rewards:0\n"
     ]
    },
    {
     "data": {
      "image/png": "[encoded data removed]",
      "text/plain": [
       "<Figure size 432x288 with 1 Axes>"
      ]
     },
     "metadata": {
      "needs_background": "light"
     },
     "output_type": "display_data"
    },
    {
     "name": "stdout",
     "output_type": "stream",
     "text": [
      "state:[3, 5]\n",
      "actions:2\n",
      " rewards:0\n"
     ]
    },
    {
     "data": {
      "image/png": "[encoded data removed]",
      "text/plain": [
       "<Figure size 432x288 with 1 Axes>"
      ]
     },
     "metadata": {
      "needs_background": "light"
     },
     "output_type": "display_data"
    },
    {
     "name": "stdout",
     "output_type": "stream",
     "text": [
      "state:[3, 6]\n",
      "actions:2\n",
      " rewards:0\n"
     ]
    },
    {
     "data": {
      "image/png": "[encoded data removed]",
      "text/plain": [
       "<Figure size 432x288 with 1 Axes>"
      ]
     },
     "metadata": {
      "needs_background": "light"
     },
     "output_type": "display_data"
    },
    {
     "name": "stdout",
     "output_type": "stream",
     "text": [
      "state:[3, 7]\n",
      "actions:2\n",
      " rewards:0\n"
     ]
    },
    {
     "data": {
      "image/png": "[encoded data removed]",
      "text/plain": [
       "<Figure size 432x288 with 1 Axes>"
      ]
     },
     "metadata": {
      "needs_background": "light"
     },
     "output_type": "display_data"
    },
    {
     "name": "stdout",
     "output_type": "stream",
     "text": [
      "state:[3, 8]\n",
      "actions:0\n",
      " rewards:0\n"
     ]
    },
    {
     "data": {
      "image/png": "[encoded data removed]",
      "text/plain": [
       "<Figure size 432x288 with 1 Axes>"
      ]
     },
     "metadata": {
      "needs_background": "light"
     },
     "output_type": "display_data"
    },
    {
     "name": "stdout",
     "output_type": "stream",
     "text": [
      "state:[4, 8]\n",
      "actions:1\n",
      " rewards:0\n"
     ]
    },
    {
     "data": {
      "image/png": "[encoded data removed]",
      "text/plain": [
       "<Figure size 432x288 with 1 Axes>"
      ]
     },
     "metadata": {
      "needs_background": "light"
     },
     "output_type": "display_data"
    },
    {
     "name": "stdout",
     "output_type": "stream",
     "text": [
      "state:[3, 8]\n",
      "actions:1\n",
      " rewards:0\n"
     ]
    },
    {
     "data": {
      "image/png": "[encoded data removed]",
      "text/plain": [
       "<Figure size 432x288 with 1 Axes>"
      ]
     },
     "metadata": {
      "needs_background": "light"
     },
     "output_type": "display_data"
    },
    {
     "name": "stdout",
     "output_type": "stream",
     "text": [
      "state:[2, 8]\n",
      "actions:1\n",
      " rewards:0\n"
     ]
    },
    {
     "data": {
      "image/png": "[encoded data removed]",
      "text/plain": [
       "<Figure size 432x288 with 1 Axes>"
      ]
     },
     "metadata": {
      "needs_background": "light"
     },
     "output_type": "display_data"
    },
    {
     "name": "stdout",
     "output_type": "stream",
     "text": [
      "state:[1, 8]\n",
      "actions:1\n",
      " rewards:1\n"
     ]
    },
    {
     "data": {
      "image/png": "[encoded data removed]",
      "text/plain": [
       "<Figure size 432x288 with 1 Axes>"
      ]
     },
     "metadata": {
      "needs_background": "light"
     },
     "output_type": "display_data"
    }
   ],
   "source": [
    "for i,j,k in zip(states,rewards,actions):\n",
    "    plt.imshow(race_map)\n",
    "    plt.scatter(i[1],i[0])\n",
    "    plt.show()\n",
    "    print(f\"state:{i}\")\n",
    "    print(f\"actions:{k}\\n rewards:{j}\")\n",
    "\n",
    "\n",
    "plt.imshow(race_map)\n",
    "plt.scatter(states[-1][1],states[-1][0])\n",
    "plt.show()"
   ]
  },
  {
   "cell_type": "code",
   "execution_count": null,
   "id": "bb84b7be-57bc-4942-9e96-43a33fba1a43",
   "metadata": {},
   "outputs": [],
   "source": []
  }
 ],
 "metadata": {
  "kernelspec": {
   "display_name": "Python 3",
   "language": "python",
   "name": "python3"
  },
  "language_info": {
   "codemirror_mode": {
    "name": "ipython",
    "version": 3
   },
   "file_extension": ".py",
   "mimetype": "text/x-python",
   "name": "python",
   "nbconvert_exporter": "python",
   "pygments_lexer": "ipython3",
   "version": "3.8.5"
  }
 },
 "nbformat": 4,
 "nbformat_minor": 5
}
