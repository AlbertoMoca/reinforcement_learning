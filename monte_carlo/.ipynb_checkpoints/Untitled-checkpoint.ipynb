{
 "cells": [
  {
   "cell_type": "code",
   "execution_count": 2,
   "id": "b5667078-06fe-4f3a-9c56-559cef20a579",
   "metadata": {},
   "outputs": [],
   "source": [
    "import numpy as np \n",
    "import matplotlib.pyplot as plt\n"
   ]
  },
  {
   "cell_type": "code",
   "execution_count": 49,
   "id": "cfe41219-772c-4646-ae10-b5d4ac71d405",
   "metadata": {},
   "outputs": [
    {
     "name": "stdout",
     "output_type": "stream",
     "text": [
      "10\n",
      "dfc:8\n",
      "state_index:(7, 0, 1)\n",
      "player_sum:17\n",
      "dealer toma:20\n"
     ]
    },
    {
     "data": {
      "text/plain": [
       "((8, 17, 1), 0)"
      ]
     },
     "execution_count": 49,
     "metadata": {},
     "output_type": "execute_result"
    }
   ],
   "source": [
    "class Model():\n",
    "    def __init__(self):\n",
    "        self.cards = [1,2,3,4,5,6,7,8,9,10,10,10,10]\n",
    "        self.set_of_states = {\n",
    "            \"dealer_showing\": (1,10),\n",
    "            \"player_sum\": (12,21),\n",
    "            \"usable_ace\": (0,1),\n",
    "        }\n",
    "        self.V = np.zeros((   \n",
    "            self.set_of_states[\"dealer_showing\"][1]-self.set_of_states[\"dealer_showing\"][0]+1,\n",
    "            self.set_of_states[\"player_sum\"][1]-self.set_of_states[\"player_sum\"][0]+1,\n",
    "            self.set_of_states[\"usable_ace\"][1]-self.set_of_states[\"usable_ace\"][0]+1))\n",
    "        \n",
    "        self.policy = np.zeros((   \n",
    "            self.set_of_states[\"dealer_showing\"][1]-self.set_of_states[\"dealer_showing\"][0]+1,\n",
    "            self.set_of_states[\"player_sum\"][1]-self.set_of_states[\"player_sum\"][0]+1,\n",
    "            self.set_of_states[\"usable_ace\"][1]-self.set_of_states[\"usable_ace\"][0]+1))\n",
    "        \n",
    "        self.policy[:,-2:,:] = 1\n",
    "        self.Returns = []\n",
    "        \n",
    "        \n",
    "        for i in self.V:\n",
    "            a = []\n",
    "            for j in self.V:\n",
    "                b = []\n",
    "                for k in self.V:\n",
    "                    b.append([])\n",
    "                a.append(b)\n",
    "            self.Returns.append(a)\n",
    "        self.R = self.V.copy()\n",
    "        \n",
    "        \n",
    "        #print(self.Returns)\n",
    "        print(self.dealer_sum)\n",
    "        \n",
    "    \n",
    "    def aproximateV(self,episodes):\n",
    "        for i in range(eposodes):\n",
    "            generate_episode()\n",
    "            \n",
    "    def generate_episode(self):\n",
    "        \n",
    "        dfc = np.random.choice(self.cards)\n",
    "        dealer_sum = self.dfc + np.random.choice(self.cards)\n",
    "        state = (dfc, 11 + np.random.choice(self.cards), 1)\n",
    "        \n",
    "        while True:\n",
    "            s,r,dealer_sum = m.transition_model(state, dealer_sum)\n",
    "    \n",
    "    def transition_model(self, state, dealer_sum):\n",
    "        \n",
    "        #Player move\n",
    "        reward = 0\n",
    "        print(f'state_index:{(state[0]-self.set_of_states[\"dealer_showing\"][0],state[1]-self.set_of_states[\"player_sum\"][0],state[2]-self.set_of_states[\"usable_ace\"][0])}')\n",
    "        if self.policy[state[0]-self.set_of_states[\"dealer_showing\"][0],state[1]-self.set_of_states[\"player_sum\"][0],state[2]-self.set_of_states[\"usable_ace\"][0]] == 0: #take\n",
    "            \n",
    "            player_sum = state[1] + np.random.choice(self.cards)\n",
    "            print(f\"player_sum:{player_sum}\")\n",
    "            if player_sum > 21 and state[2] == 1:\n",
    "                player_sum -= 10\n",
    "                next_state = (state[0],player_sum,0)\n",
    "            elif  player_sum <= 21:\n",
    "                next_state = (state[0],player_sum,state[2])\n",
    "            else:\n",
    "                #player loses\n",
    "                next_state = (-1,-1,-1)\n",
    "                reward = -1\n",
    "        else:\n",
    "            next_state = state\n",
    "            \n",
    "        # Dealer move\n",
    "        if dealer_sum < 17:\n",
    "            \n",
    "            dealer_sum += np.random.choice(self.cards)\n",
    "            print(f\"dealer toma:{dealer_sum}\")\n",
    "            if dealer_sum > 21:\n",
    "                next_state = (-1,-1,-1)\n",
    "                reward = 1\n",
    "        if  self.policy[state[0]-self.set_of_states[\"dealer_showing\"][0],state[1]-self.set_of_states[\"player_sum\"][0],state[2]-self.set_of_states[\"usable_ace\"][0]] == 1 and dealer_sum <= 21: #End game\n",
    "            if dealer_sum > player_sum:\n",
    "                reward = -1\n",
    "            elif dealer_sum == player_sum:\n",
    "                reward = 0\n",
    "            else:\n",
    "                reward = 1\n",
    "            next_state = (-1,-1,-1)\n",
    "        return(next_state, reward, dealer_sum)\n",
    "    \n",
    "m = Model()\n",
    "print(f\"dfc:{m.dfc}\")\n",
    "s,r = m.transition_model(((m.dfc,12,1)))\n",
    "s,r"
   ]
  },
  {
   "cell_type": "code",
   "execution_count": 50,
   "id": "30b5a292-4471-4296-91ad-de65c1ed0af0",
   "metadata": {},
   "outputs": [
    {
     "name": "stdout",
     "output_type": "stream",
     "text": [
      "state_index:(7, 5, 1)\n",
      "player_sum:18\n"
     ]
    },
    {
     "data": {
      "text/plain": [
       "((8, 18, 1), 0)"
      ]
     },
     "execution_count": 50,
     "metadata": {},
     "output_type": "execute_result"
    }
   ],
   "source": [
    "s,r = m.transition_model(s)\n",
    "s,r"
   ]
  },
  {
   "cell_type": "code",
   "execution_count": 51,
   "id": "188e43fa-9202-46af-ae1b-c4944c45fa1c",
   "metadata": {},
   "outputs": [
    {
     "name": "stdout",
     "output_type": "stream",
     "text": [
      "state_index:(7, 6, 1)\n",
      "player_sum:19\n"
     ]
    },
    {
     "data": {
      "text/plain": [
       "((8, 19, 1), 0)"
      ]
     },
     "execution_count": 51,
     "metadata": {},
     "output_type": "execute_result"
    }
   ],
   "source": [
    "s,r = m.transition_model(s)\n",
    "s,r"
   ]
  },
  {
   "cell_type": "code",
   "execution_count": 52,
   "id": "92c8abfb-2dbd-4e2a-8ef8-066690e34852",
   "metadata": {},
   "outputs": [
    {
     "name": "stdout",
     "output_type": "stream",
     "text": [
      "state_index:(7, 7, 1)\n",
      "player_sum:22\n"
     ]
    },
    {
     "data": {
      "text/plain": [
       "((8, 12, 0), 0)"
      ]
     },
     "execution_count": 52,
     "metadata": {},
     "output_type": "execute_result"
    }
   ],
   "source": [
    "s,r = m.transition_model(s)\n",
    "s,r"
   ]
  },
  {
   "cell_type": "code",
   "execution_count": 53,
   "id": "01b13a30-a924-4dde-bb88-a701e388bf9c",
   "metadata": {},
   "outputs": [
    {
     "name": "stdout",
     "output_type": "stream",
     "text": [
      "state_index:(7, 0, 0)\n",
      "player_sum:16\n"
     ]
    },
    {
     "data": {
      "text/plain": [
       "((8, 16, 0), 0)"
      ]
     },
     "execution_count": 53,
     "metadata": {},
     "output_type": "execute_result"
    }
   ],
   "source": [
    "s,r = m.transition_model(s)\n",
    "s,r"
   ]
  },
  {
   "cell_type": "code",
   "execution_count": 54,
   "id": "8638096c-8f1b-4721-9c50-e162a7579280",
   "metadata": {},
   "outputs": [
    {
     "name": "stdout",
     "output_type": "stream",
     "text": [
      "state_index:(7, 4, 0)\n",
      "player_sum:24\n"
     ]
    },
    {
     "data": {
      "text/plain": [
       "((-1, -1, -1), -1)"
      ]
     },
     "execution_count": 54,
     "metadata": {},
     "output_type": "execute_result"
    }
   ],
   "source": [
    "s,r = m.transition_model(s)\n",
    "s,r"
   ]
  },
  {
   "cell_type": "code",
   "execution_count": null,
   "id": "aaec5955-b27d-4225-ad49-01650a3b4cce",
   "metadata": {},
   "outputs": [],
   "source": []
  }
 ],
 "metadata": {
  "kernelspec": {
   "display_name": "Python 3",
   "language": "python",
   "name": "python3"
  },
  "language_info": {
   "codemirror_mode": {
    "name": "ipython",
    "version": 3
   },
   "file_extension": ".py",
   "mimetype": "text/x-python",
   "name": "python",
   "nbconvert_exporter": "python",
   "pygments_lexer": "ipython3",
   "version": "3.8.5"
  }
 },
 "nbformat": 4,
 "nbformat_minor": 5
}
