{
 "cells": [
  {
   "cell_type": "code",
   "execution_count": 1,
   "id": "b3c341ae-e06a-467f-9458-777a77dff0c9",
   "metadata": {},
   "outputs": [],
   "source": [
    "import numpy as np \n"
   ]
  },
  {
   "cell_type": "code",
   "execution_count": null,
   "id": "a5fe71ca-a792-44f1-bcd6-c0bcc62579bc",
   "metadata": {},
   "outputs": [],
   "source": []
  },
  {
   "cell_type": "code",
   "execution_count": 7,
   "id": "78cf3176-5a3e-4371-9ac9-44161f867a71",
   "metadata": {},
   "outputs": [
    {
     "name": "stdout",
     "output_type": "stream",
     "text": [
      "[[0.    1.   ]\n",
      " [0.    0.855]\n",
      " [0.    0.729]\n",
      " [0.    0.   ]\n",
      " [0.    0.   ]\n",
      " [0.    0.   ]\n",
      " [0.    0.   ]]\n"
     ]
    }
   ],
   "source": [
    "N = np.zeros((7,2))\n",
    "Q = np.zeros((7,2))\n",
    "states = [2,1,1,0]\n",
    "rewards = [0,0,0,1]\n",
    "actions =   [1,1,1,1]\n",
    "G = 0\n",
    "for t in range(0,len(states))[::-1]:\n",
    "    G = .9 * G + rewards[t]\n",
    "                \n",
    "    N[states[t],int(actions[t])] += 1\n",
    "    Q[states[t],int(actions[t])] += (G-Q[states[t],int(actions[t])])/N[states[t],int(actions[t])]\n",
    "print(Q)"
   ]
  },
  {
   "cell_type": "code",
   "execution_count": 8,
   "id": "096c3885-f697-494c-b420-7d0ffc31371e",
   "metadata": {},
   "outputs": [
    {
     "data": {
      "text/plain": [
       "0.40540776318336125"
      ]
     },
     "execution_count": 8,
     "metadata": {},
     "output_type": "execute_result"
    }
   ],
   "source": [
    "np.random.random()"
   ]
  },
  {
   "cell_type": "code",
   "execution_count": 13,
   "id": "d06b55a9-4686-4ae7-9739-a4d978140783",
   "metadata": {},
   "outputs": [
    {
     "data": {
      "text/plain": [
       "array([1, 2, 3])"
      ]
     },
     "execution_count": 13,
     "metadata": {},
     "output_type": "execute_result"
    }
   ],
   "source": [
    "np.unique([1,2,3,3])"
   ]
  },
  {
   "cell_type": "code",
   "execution_count": 16,
   "id": "c24f8087-1a80-4c23-a64c-8d7ce9d71e9e",
   "metadata": {},
   "outputs": [
    {
     "data": {
      "text/plain": [
       "(array([[1, 1],\n",
       "        [1, 3],\n",
       "        [3, 1]]),\n",
       " array([2, 1, 1]))"
      ]
     },
     "execution_count": 16,
     "metadata": {},
     "output_type": "execute_result"
    }
   ],
   "source": [
    "np.unique([[1,1],[1,1],[3,1],[1,3]], return_counts=True, axis=0)"
   ]
  },
  {
   "cell_type": "code",
   "execution_count": 53,
   "id": "b6e40344-edb8-42b5-8dc4-912fbd3118cc",
   "metadata": {},
   "outputs": [],
   "source": [
    "a = np.zeros((3,4)).astype(int)"
   ]
  },
  {
   "cell_type": "code",
   "execution_count": 54,
   "id": "3676245e-308e-466d-97a3-8ec7da076a76",
   "metadata": {},
   "outputs": [
    {
     "name": "stderr",
     "output_type": "stream",
     "text": [
      "<ipython-input-54-8af4f4519b45>:1: FutureWarning: Using a non-tuple sequence for multidimensional indexing is deprecated; use `arr[tuple(seq)]` instead of `arr[seq]`. In the future this will be interpreted as an array index, `arr[np.array(seq)]`, which will result either in an error or a different result.\n",
      "  a[[[0,0],[0,1]]] = 1\n"
     ]
    }
   ],
   "source": [
    "a[[[0,0],[0,1]]] = 1"
   ]
  },
  {
   "cell_type": "code",
   "execution_count": 55,
   "id": "68ddd014-e2b2-4782-80c8-b7054cc0faab",
   "metadata": {},
   "outputs": [
    {
     "data": {
      "text/plain": [
       "array([[1, 1, 0, 0],\n",
       "       [0, 0, 0, 0],\n",
       "       [0, 0, 0, 0]])"
      ]
     },
     "execution_count": 55,
     "metadata": {},
     "output_type": "execute_result"
    }
   ],
   "source": [
    "a"
   ]
  },
  {
   "cell_type": "code",
   "execution_count": 56,
   "id": "c6addacf-f949-456a-8963-534475dde12a",
   "metadata": {},
   "outputs": [],
   "source": [
    "a[np.sum(a, axis=-1)==0]=1"
   ]
  },
  {
   "cell_type": "code",
   "execution_count": 57,
   "id": "27259bfd-6890-4303-b7ae-ab4c3fc03ebf",
   "metadata": {},
   "outputs": [
    {
     "data": {
      "text/plain": [
       "array([[1, 1, 0, 0],\n",
       "       [1, 1, 1, 1],\n",
       "       [1, 1, 1, 1]])"
      ]
     },
     "execution_count": 57,
     "metadata": {},
     "output_type": "execute_result"
    }
   ],
   "source": [
    "a"
   ]
  },
  {
   "cell_type": "code",
   "execution_count": 60,
   "id": "51c79713-3374-44be-a3f0-a44b9cc46354",
   "metadata": {},
   "outputs": [
    {
     "data": {
      "text/plain": [
       "array([[1, 1, 0, 0],\n",
       "       [0, 0, 0, 0],\n",
       "       [1, 1, 1, 1]])"
      ]
     },
     "execution_count": 60,
     "metadata": {},
     "output_type": "execute_result"
    }
   ],
   "source": [
    "(a.T * [1,0,1]).T"
   ]
  },
  {
   "cell_type": "code",
   "execution_count": null,
   "id": "cfcccb78-964d-43b2-bc39-b2bc5508c095",
   "metadata": {},
   "outputs": [],
   "source": []
  }
 ],
 "metadata": {
  "kernelspec": {
   "display_name": "Python 3",
   "language": "python",
   "name": "python3"
  },
  "language_info": {
   "codemirror_mode": {
    "name": "ipython",
    "version": 3
   },
   "file_extension": ".py",
   "mimetype": "text/x-python",
   "name": "python",
   "nbconvert_exporter": "python",
   "pygments_lexer": "ipython3",
   "version": "3.8.5"
  }
 },
 "nbformat": 4,
 "nbformat_minor": 5
}
