{
 "cells": [
  {
   "cell_type": "code",
   "execution_count": 65,
   "id": "b5667078-06fe-4f3a-9c56-559cef20a579",
   "metadata": {},
   "outputs": [],
   "source": [
    "import numpy as np \n",
    "import matplotlib.pyplot as plt\n",
    "from tqdm import tqdm \n",
    "from matplotlib import cm"
   ]
  },
  {
   "cell_type": "code",
   "execution_count": 56,
   "id": "98b81cd9-f0aa-4969-ba12-da72e793274d",
   "metadata": {},
   "outputs": [],
   "source": [
    "%matplotlib widget"
   ]
  },
  {
   "cell_type": "code",
   "execution_count": 7,
   "id": "4a57ee13-f886-4f06-be07-e9aed2d09190",
   "metadata": {},
   "outputs": [
    {
     "data": {
      "text/plain": [
       "[3, 2, 1, 0]"
      ]
     },
     "execution_count": 7,
     "metadata": {},
     "output_type": "execute_result"
    }
   ],
   "source": [
    "list(range(0,4)[::-1])"
   ]
  },
  {
   "cell_type": "code",
   "execution_count": 57,
   "id": "cfe41219-772c-4646-ae10-b5d4ac71d405",
   "metadata": {
    "tags": []
   },
   "outputs": [],
   "source": [
    "class Model():\n",
    "    def __init__(self):\n",
    "        self.cards = [1,2,3,4,5,6,7,8,9,10,10,10,10]\n",
    "        self.set_of_states = {\n",
    "            \"dealer_showing\": (1,10),\n",
    "            \"player_sum\": (12,21),\n",
    "            \"usable_ace\": (0,1),\n",
    "        }\n",
    "        self.V = np.zeros((   \n",
    "            self.set_of_states[\"dealer_showing\"][1]-self.set_of_states[\"dealer_showing\"][0]+1,\n",
    "            self.set_of_states[\"player_sum\"][1]-self.set_of_states[\"player_sum\"][0]+1,\n",
    "            self.set_of_states[\"usable_ace\"][1]-self.set_of_states[\"usable_ace\"][0]+1))\n",
    "        \n",
    "        self.policy = np.zeros((   \n",
    "            self.set_of_states[\"dealer_showing\"][1]-self.set_of_states[\"dealer_showing\"][0]+1,\n",
    "            self.set_of_states[\"player_sum\"][1]-self.set_of_states[\"player_sum\"][0]+1,\n",
    "            self.set_of_states[\"usable_ace\"][1]-self.set_of_states[\"usable_ace\"][0]+1))\n",
    "        \n",
    "        self.policy[:,-2:,:] = 1\n",
    "        self.Returns = []\n",
    "        \n",
    "        self.gamma = .5\n",
    "        \n",
    "        \n",
    "        for i in self.V:\n",
    "            a = []\n",
    "            for j in self.V:\n",
    "                b = []\n",
    "                for k in self.V:\n",
    "                    b.append([])\n",
    "                a.append(b)\n",
    "            self.Returns.append(a)\n",
    "        self.R = self.V.copy()\n",
    "        \n",
    "        \n",
    "        \n",
    "    \n",
    "    def aproximateV(self,episodes):\n",
    "        for i in tqdm(range(episodes)):\n",
    "            states, rewards, actions = self.generate_episode()\n",
    "            G = 0\n",
    "            for t in range(0,len(states))[::-1]:\n",
    "                G = self.gamma * G + rewards[t]\n",
    "                #print(states[t])\n",
    "                self.Returns[states[t][0]-self.set_of_states[\"dealer_showing\"][0]][states[t][1]-self.set_of_states[\"player_sum\"][0]][states[t][2]-self.set_of_states[\"usable_ace\"][0]].append(G)\n",
    "                self.V[states[t][0]-self.set_of_states[\"dealer_showing\"][0]][states[t][1]-self.set_of_states[\"player_sum\"][0]][states[t][2]-self.set_of_states[\"usable_ace\"][0]] = np.mean(self.Returns[states[t][0]-self.set_of_states[\"dealer_showing\"][0]][states[t][1]-self.set_of_states[\"player_sum\"][0]][states[t][2]-self.set_of_states[\"usable_ace\"][0]])\n",
    "            \n",
    "            \n",
    "    def generate_episode(self):\n",
    "        \n",
    "        dfc = np.random.choice(self.cards)\n",
    "        dealer_sum = dfc + np.random.choice(self.cards)\n",
    "        state = (dfc, 11 + np.random.choice(self.cards), 1)\n",
    "        states = []\n",
    "        rewards = []\n",
    "        actions = []\n",
    "        \n",
    "        #print(f\"dealer_sum:{dealer_sum}\")\n",
    "        #print(f\"player_sum:{state[1]}\")\n",
    "        while True:\n",
    "            states.append(state)\n",
    "            actions.append(self.policy[state[0]-self.set_of_states[\"dealer_showing\"][0],state[1]-self.set_of_states[\"player_sum\"][0],state[2]-self.set_of_states[\"usable_ace\"][0]])\n",
    "            state,r,dealer_sum = self.transition_model(state, dealer_sum)\n",
    "            rewards.append(r)\n",
    "            \n",
    "            #print(f\"dealer_sum:{dealer_sum}\")\n",
    "            #print(f\"state:{state}\")\n",
    "            #print(f\"reward:{r}\")\n",
    "            \n",
    "            if state[0] == -1:\n",
    "                break\n",
    "        #print(f\"states:{states}\")\n",
    "        #print(f\"rewards:{rewards}\")\n",
    "        #print(f\"actions:{actions}\")\n",
    "        return states, rewards, actions\n",
    "                \n",
    "                \n",
    "    def transition_model(self, state, dealer_sum):\n",
    "        \n",
    "        #Player move\n",
    "        reward = 0\n",
    "        #print(f'state_index:{(state[0]-self.set_of_states[\"dealer_showing\"][0],state[1]-self.set_of_states[\"player_sum\"][0],state[2]-self.set_of_states[\"usable_ace\"][0])}')\n",
    "        if self.policy[state[0]-self.set_of_states[\"dealer_showing\"][0],state[1]-self.set_of_states[\"player_sum\"][0],state[2]-self.set_of_states[\"usable_ace\"][0]] == 0: #take   \n",
    "            #print(\"Player hits\")\n",
    "            player_sum = state[1] + np.random.choice(self.cards)\n",
    "            #print(f\"player_sum:{player_sum}\")\n",
    "            if player_sum > 21 and state[2] == 1:\n",
    "                player_sum -= 10\n",
    "                next_state = (state[0],player_sum,0)\n",
    "            elif  player_sum <= 21:\n",
    "                next_state = (state[0],player_sum,state[2])\n",
    "            else:\n",
    "                #player loses\n",
    "                next_state = (-1,player_sum,-1)\n",
    "                reward = -1\n",
    "                #print(\"Player burst\")\n",
    "        else:\n",
    "            #print(\"Player stiks\")\n",
    "            player_sum = state[1]\n",
    "            next_state = state\n",
    "            \n",
    "        # Dealer move\n",
    "        if dealer_sum < 17:\n",
    "            #print(\"Dealer hits\")\n",
    "            dealer_sum += np.random.choice(self.cards)\n",
    "            #print(f\"dealer toma:{dealer_sum}\")\n",
    "            if dealer_sum > 21:\n",
    "                next_state = (-1,player_sum,-1)\n",
    "                reward = 1\n",
    "                \n",
    "                #print(\"Dialer burst\")\n",
    "        \n",
    "        if  self.policy[state[0]-self.set_of_states[\"dealer_showing\"][0],state[1]-self.set_of_states[\"player_sum\"][0],state[2]-self.set_of_states[\"usable_ace\"][0]] == 1 and dealer_sum <= 21: #End game\n",
    "            if dealer_sum > player_sum:\n",
    "                reward = -1\n",
    "            elif dealer_sum == player_sum:\n",
    "                reward = 0\n",
    "            else:\n",
    "                reward = 1\n",
    "            next_state = (-1,player_sum,-1)\n",
    "            #print(\"No more moves\")\n",
    "        return(next_state, reward, dealer_sum)\n",
    "    \n",
    "m = Model()"
   ]
  },
  {
   "cell_type": "code",
   "execution_count": 61,
   "id": "aaec5955-b27d-4225-ad49-01650a3b4cce",
   "metadata": {
    "tags": []
   },
   "outputs": [
    {
     "name": "stderr",
     "output_type": "stream",
     "text": [
      "100%|██████████| 500000/500000 [10:25<00:00, 799.04it/s] \n"
     ]
    }
   ],
   "source": [
    "m.aproximateV(500000)"
   ]
  },
  {
   "cell_type": "code",
   "execution_count": 63,
   "id": "7c3a1dc2-9fa5-4235-99bc-673944f6915e",
   "metadata": {
    "tags": []
   },
   "outputs": [
    {
     "name": "stderr",
     "output_type": "stream",
     "text": [
      "100%|██████████| 10000/10000 [00:01<00:00, 9270.04it/s]\n"
     ]
    }
   ],
   "source": [
    "m1 = Model()\n",
    "m1.aproximateV(10000)"
   ]
  },
  {
   "cell_type": "code",
   "execution_count": 73,
   "id": "5b0e1e85-3d9a-4366-86a9-119ebec82bbf",
   "metadata": {},
   "outputs": [
    {
     "data": {
      "application/vnd.jupyter.widget-view+json": {
       "model_id": "7fd0ba0273174413957c4f8006d06cd0",
       "version_major": 2,
       "version_minor": 0
      },
      "text/plain": [
       "Canvas(toolbar=Toolbar(toolitems=[('Home', 'Reset original view', 'home', 'home'), ('Back', 'Back to previous …"
      ]
     },
     "metadata": {},
     "output_type": "display_data"
    }
   ],
   "source": [
    "fig = plt.figure(figsize=plt.figaspect(0.5))\n",
    "fig.set_size_inches(10, 10)\n",
    "ax = fig.add_subplot(2, 2, 1, projection='3d')\n",
    "\n",
    "# Make data.\n",
    "X = np.arange(12,22)\n",
    "Y = np.arange(1,11)\n",
    "X, Y = np.meshgrid(X, Y)\n",
    "\n",
    "ax.plot_surface(X, Y, m.V[:,:,0], linewidth=0, antialiased=False,cmap=cm.plasma)\n",
    "\n",
    "ax = fig.add_subplot(2, 2, 2, projection='3d')\n",
    "\n",
    "ax.plot_surface(X, Y, m.V[:,:,1], linewidth=0, antialiased=False,cmap=cm.plasma)\n",
    "\n",
    "ax = fig.add_subplot(2, 2, 3, projection='3d')\n",
    "\n",
    "ax.plot_surface(X, Y, m1.V[:,:,0], linewidth=0, antialiased=False, cmap=cm.coolwarm)\n",
    "\n",
    "ax = fig.add_subplot(2, 2, 4, projection='3d')\n",
    "\n",
    "ax.plot_surface(X, Y, m1.V[:,:,1], linewidth=0, antialiased=False, cmap=cm.coolwarm)\n",
    "\n",
    "plt.show()"
   ]
  },
  {
   "cell_type": "code",
   "execution_count": null,
   "id": "1cc56c6b-fd6e-4f28-bdcc-6b461f74a092",
   "metadata": {},
   "outputs": [],
   "source": []
  }
 ],
 "metadata": {
  "kernelspec": {
   "display_name": "Python 3",
   "language": "python",
   "name": "python3"
  },
  "language_info": {
   "codemirror_mode": {
    "name": "ipython",
    "version": 3
   },
   "file_extension": ".py",
   "mimetype": "text/x-python",
   "name": "python",
   "nbconvert_exporter": "python",
   "pygments_lexer": "ipython3",
   "version": "3.8.5"
  }
 },
 "nbformat": 4,
 "nbformat_minor": 5
}
