{
 "cells": [
  {
   "cell_type": "code",
   "execution_count": 4,
   "id": "21f2bf7e-82ce-47ea-b42b-3a8d9832dec5",
   "metadata": {},
   "outputs": [],
   "source": [
    "import numpy as np\n",
    "import matplotlib.pyplot as plt\n",
    "from tqdm import tqdm"
   ]
  },
  {
   "cell_type": "code",
   "execution_count": 5,
   "id": "3a84eb76-3cff-424e-9284-3c4e2aefc80a",
   "metadata": {},
   "outputs": [
    {
     "data": {
      "text/plain": [
       "<matplotlib.image.AxesImage at 0x7f22ec09a640>"
      ]
     },
     "execution_count": 5,
     "metadata": {},
     "output_type": "execute_result"
    },
    {
     "data": {
      "image/png": "[encoded data removed]",
      "text/plain": [
       "<Figure size 432x288 with 1 Axes>"
      ]
     },
     "metadata": {
      "needs_background": "light"
     },
     "output_type": "display_data"
    }
   ],
   "source": [
    "\n",
    "map_size = (3,10)\n",
    "n_patches = 3\n",
    "\n",
    "race_map = np.zeros((map_size[0], map_size[1]))\n",
    "\n",
    "\n",
    "race_map[0,:] = 1\n",
    "\n",
    "race_map[0,0] = 2\n",
    "race_map[0,-1] = 3\n",
    "\n",
    "\n",
    "plt.imshow(race_map)"
   ]
  },
  {
   "cell_type": "code",
   "execution_count": 6,
   "id": "61b57348-94bb-4247-8978-fc2891ecc6a0",
   "metadata": {},
   "outputs": [],
   "source": [
    "def step(state, action):\n",
    "        \n",
    "    next_state =  state.copy()\n",
    "        \n",
    "    if action == 0:\n",
    "        next_state[0] += 1\n",
    "    elif action == 1:\n",
    "        next_state[0] -= 1\n",
    "    elif action == 2:\n",
    "        next_state[1] += 1\n",
    "    elif action == 3:\n",
    "        next_state[1] -= 1\n",
    "        \n",
    "    next_state[0] = next_state[0] if next_state[0] >= 0 else 0\n",
    "    next_state[0] = next_state[0] if next_state[0] < map_size[0] else map_size[0]-1\n",
    "        \n",
    "    next_state[1] = next_state[1] if next_state[1] >= 0 else 0\n",
    "    next_state[1] = next_state[1] if next_state[1] < map_size[1] else map_size[1]-1\n",
    "            \n",
    "            \n",
    "    reward = -1\n",
    "    reward = 30 if next_state[0] == 0 and next_state[1] == race_map.shape[1]-1 else reward            \n",
    "    reward = -100 if race_map[next_state[0],next_state[1]] == 1 else reward\n",
    "    \n",
    "    return (next_state,reward)"
   ]
  },
  {
   "cell_type": "code",
   "execution_count": 7,
   "id": "e7ef9da5-bb39-412d-aa91-b8d341f41c17",
   "metadata": {},
   "outputs": [],
   "source": [
    "Q = np.random.rand(map_size[0],map_size[1],4) + 200\n",
    "C = np.zeros((map_size[0],map_size[1],4))\n",
    "\n",
    "policy_pi = np.argmax(Q,axis=-1)"
   ]
  },
  {
   "cell_type": "code",
   "execution_count": 9,
   "id": "dd059d85-264a-4742-99c2-59154c1de081",
   "metadata": {},
   "outputs": [],
   "source": [
    "time_to_end=[]"
   ]
  },
  {
   "cell_type": "code",
   "execution_count": 10,
   "id": "20e2492c-ea1f-49d3-9ec8-825ec561db1a",
   "metadata": {},
   "outputs": [
    {
     "name": "stderr",
     "output_type": "stream",
     "text": [
      "100%|██████████| 5000/5000 [00:05<00:00, 876.64it/s]\n"
     ]
    }
   ],
   "source": [
    "episodes = 5000\n",
    "gamma = 1\n",
    "\n",
    "for episode_idx in tqdm(range(episodes)):\n",
    "    \n",
    "    state = [0, 0]\n",
    "    \n",
    "    # Prepare soft policy\n",
    "    rsh_pi = policy_pi.reshape((map_size[0]*map_size[1]))\n",
    "    policy_b = np.zeros((rsh_pi.size, 4))\n",
    "    policy_b[:,:] = .1/3\n",
    "    policy_b[np.arange(rsh_pi.size),rsh_pi] = .9\n",
    "    policy_b = policy_b.reshape(Q.shape)\n",
    "    \n",
    "    episode_len = 0\n",
    "    while True:\n",
    "        episode_len+=1\n",
    "        \n",
    "        action = np.random.choice(4,p=policy_b[state[0],state[1]])\n",
    "        \n",
    "        state_p, R = step(state, action)\n",
    "        \n",
    "        action_p = np.random.choice(4,p=policy_b[state_p[0],state_p[1]])\n",
    "        C[state[0],state[1],action] += 1\n",
    "        Q[state[0],state[1],action] += (R + gamma * np.max(Q[state_p[0],state_p[1]]) - Q[state[0],state[1],action])/C[state[0],state[1],action]\n",
    "        \n",
    "        policy_pi = np.argmax(Q,axis=-1)\n",
    "        \n",
    "        # Prepare soft policy\n",
    "        policy_b[state[0],state[1],:] = .1/3\n",
    "        policy_b[state[0],state[1],policy_pi[state[0],state[1]]] = .9\n",
    "        \n",
    "        action = action_p\n",
    "        state = state_p\n",
    "        \n",
    "        if state[0] == 0 and state[1] == race_map.shape[1]-1:\n",
    "            break\n",
    "    time_to_end.append(episode_len)"
   ]
  },
  {
   "cell_type": "code",
   "execution_count": 11,
   "id": "711b2a4b-ef08-42b8-9234-9b62cca77a9f",
   "metadata": {},
   "outputs": [
    {
     "data": {
      "text/plain": [
       "[<matplotlib.lines.Line2D at 0x7f22eb71feb0>]"
      ]
     },
     "execution_count": 11,
     "metadata": {},
     "output_type": "execute_result"
    },
    {
     "data": {
      "image/png": "[encoded data removed]",
      "text/plain": [
       "<Figure size 432x288 with 1 Axes>"
      ]
     },
     "metadata": {
      "needs_background": "light"
     },
     "output_type": "display_data"
    }
   ],
   "source": [
    "mean = []\n",
    "ran = []\n",
    "window_size = 100\n",
    "te = time_to_end[-50000:]\n",
    "for i in range(len(te)-window_size):\n",
    "    mean.append(np.mean(te[i:i+window_size]))\n",
    "    ran.append(np.mean(np.abs(te[i:i+window_size]-mean[-1])))\n",
    "\n",
    "plt.fill_between(np.arange(len(mean)),np.array(mean)+np.array(ran), np.array(mean)-np.array(ran),alpha=0.3,facecolor=\"c\")\n",
    "plt.plot(mean,c=\"c\")"
   ]
  },
  {
   "cell_type": "code",
   "execution_count": 12,
   "id": "709da1f1-85c4-4f18-bc1d-d76a132ba741",
   "metadata": {},
   "outputs": [
    {
     "data": {
      "text/plain": [
       "[<matplotlib.lines.Line2D at 0x7f22eb7065b0>]"
      ]
     },
     "execution_count": 12,
     "metadata": {},
     "output_type": "execute_result"
    },
    {
     "data": {
      "image/png": "[encoded data removed]",
      "text/plain": [
       "<Figure size 432x288 with 1 Axes>"
      ]
     },
     "metadata": {
      "needs_background": "light"
     },
     "output_type": "display_data"
    }
   ],
   "source": [
    "mean = []\n",
    "ran = []\n",
    "window_size = 500\n",
    "for i in range(len(time_to_end)-window_size):\n",
    "    mean.append(np.mean(time_to_end[i:i+window_size]))\n",
    "    ran.append(np.mean(np.abs(time_to_end[i:i+window_size]-mean[-1])))\n",
    "\n",
    "#plt.fill_between(np.arange(len(mean)),np.array(mean)+np.array(ran), np.array(mean)-np.array(ran),alpha=0.3,facecolor=\"c\")\n",
    "plt.plot(mean[0:100],c=\"c\")"
   ]
  },
  {
   "cell_type": "code",
   "execution_count": 13,
   "id": "b048d185-3678-48eb-a972-8a9cac732e7e",
   "metadata": {},
   "outputs": [],
   "source": [
    "state = [0, 0]\n",
    "\n",
    "# Prepare soft policy\n",
    "rsh_pi = policy_pi.reshape((map_size[0]*map_size[1] ))\n",
    "policy_b = np.zeros((rsh_pi.size, 4))\n",
    "policy_b[:,:] = .1/3\n",
    "policy_b[np.arange(rsh_pi.size),rsh_pi] = .9\n",
    "policy_b = policy_b.reshape(Q.shape)\n",
    "    \n",
    "action = np.random.choice(4,p=policy_b[state[0],state[1]])\n",
    "action = 0 if episode_idx==0 else action\n",
    "    \n",
    "\n",
    "states,actions,rewards = [state],[action],[]\n",
    "\n",
    "episode_len = 0\n",
    "while True:\n",
    "    episode_len+=1\n",
    "    state_p, R = step(state, action)\n",
    "        \n",
    "    action_p = np.random.choice(4,p=policy_b[state_p[0],state_p[1]])\n",
    "    \n",
    "    action = action_p\n",
    "    state = state_p\n",
    "    states.append(state)\n",
    "    actions.append(action)\n",
    "    rewards.append(R)\n",
    "    \n",
    "    if state[0] == 0 and state[1] == race_map.shape[1]-1:\n",
    "        break"
   ]
  },
  {
   "cell_type": "code",
   "execution_count": 14,
   "id": "bbbf46d3-052d-4b73-a160-1118bd70cfa9",
   "metadata": {
    "tags": []
   },
   "outputs": [
    {
     "data": {
      "image/png": "[encoded data removed]",
      "text/plain": [
       "<Figure size 432x288 with 1 Axes>"
      ]
     },
     "metadata": {
      "needs_background": "light"
     },
     "output_type": "display_data"
    },
    {
     "name": "stdout",
     "output_type": "stream",
     "text": [
      "state:[0, 0]\n",
      "actions:0\n",
      " rewards:-1\n"
     ]
    },
    {
     "data": {
      "image/png": "[encoded data removed]",
      "text/plain": [
       "<Figure size 432x288 with 1 Axes>"
      ]
     },
     "metadata": {
      "needs_background": "light"
     },
     "output_type": "display_data"
    },
    {
     "name": "stdout",
     "output_type": "stream",
     "text": [
      "state:[1, 0]\n",
      "actions:2\n",
      " rewards:-1\n"
     ]
    },
    {
     "data": {
      "image/png": "[encoded data removed]",
      "text/plain": [
       "<Figure size 432x288 with 1 Axes>"
      ]
     },
     "metadata": {
      "needs_background": "light"
     },
     "output_type": "display_data"
    },
    {
     "name": "stdout",
     "output_type": "stream",
     "text": [
      "state:[1, 1]\n",
      "actions:2\n",
      " rewards:-1\n"
     ]
    },
    {
     "data": {
      "image/png": "[encoded data removed]",
      "text/plain": [
       "<Figure size 432x288 with 1 Axes>"
      ]
     },
     "metadata": {
      "needs_background": "light"
     },
     "output_type": "display_data"
    },
    {
     "name": "stdout",
     "output_type": "stream",
     "text": [
      "state:[1, 2]\n",
      "actions:2\n",
      " rewards:-1\n"
     ]
    },
    {
     "data": {
      "image/png": "[encoded data removed]",
      "text/plain": [
       "<Figure size 432x288 with 1 Axes>"
      ]
     },
     "metadata": {
      "needs_background": "light"
     },
     "output_type": "display_data"
    },
    {
     "name": "stdout",
     "output_type": "stream",
     "text": [
      "state:[1, 3]\n",
      "actions:2\n",
      " rewards:-1\n"
     ]
    },
    {
     "data": {
      "image/png": "[encoded data removed]",
      "text/plain": [
       "<Figure size 432x288 with 1 Axes>"
      ]
     },
     "metadata": {
      "needs_background": "light"
     },
     "output_type": "display_data"
    },
    {
     "name": "stdout",
     "output_type": "stream",
     "text": [
      "state:[1, 4]\n",
      "actions:2\n",
      " rewards:-1\n"
     ]
    },
    {
     "data": {
      "image/png": "[encoded data removed]",
      "text/plain": [
       "<Figure size 432x288 with 1 Axes>"
      ]
     },
     "metadata": {
      "needs_background": "light"
     },
     "output_type": "display_data"
    },
    {
     "name": "stdout",
     "output_type": "stream",
     "text": [
      "state:[1, 5]\n",
      "actions:2\n",
      " rewards:-1\n"
     ]
    },
    {
     "data": {
      "image/png": "[encoded data removed]",
      "text/plain": [
       "<Figure size 432x288 with 1 Axes>"
      ]
     },
     "metadata": {
      "needs_background": "light"
     },
     "output_type": "display_data"
    },
    {
     "name": "stdout",
     "output_type": "stream",
     "text": [
      "state:[1, 6]\n",
      "actions:2\n",
      " rewards:-1\n"
     ]
    },
    {
     "data": {
      "image/png": "[encoded data removed]",
      "text/plain": [
       "<Figure size 432x288 with 1 Axes>"
      ]
     },
     "metadata": {
      "needs_background": "light"
     },
     "output_type": "display_data"
    },
    {
     "name": "stdout",
     "output_type": "stream",
     "text": [
      "state:[1, 7]\n",
      "actions:2\n",
      " rewards:-1\n"
     ]
    },
    {
     "data": {
      "image/png": "[encoded data removed]",
      "text/plain": [
       "<Figure size 432x288 with 1 Axes>"
      ]
     },
     "metadata": {
      "needs_background": "light"
     },
     "output_type": "display_data"
    },
    {
     "name": "stdout",
     "output_type": "stream",
     "text": [
      "state:[1, 8]\n",
      "actions:2\n",
      " rewards:-1\n"
     ]
    },
    {
     "data": {
      "image/png": "[encoded data removed]",
      "text/plain": [
       "<Figure size 432x288 with 1 Axes>"
      ]
     },
     "metadata": {
      "needs_background": "light"
     },
     "output_type": "display_data"
    },
    {
     "name": "stdout",
     "output_type": "stream",
     "text": [
      "state:[1, 9]\n",
      "actions:3\n",
      " rewards:-1\n"
     ]
    },
    {
     "data": {
      "image/png": "[encoded data removed]",
      "text/plain": [
       "<Figure size 432x288 with 1 Axes>"
      ]
     },
     "metadata": {
      "needs_background": "light"
     },
     "output_type": "display_data"
    },
    {
     "name": "stdout",
     "output_type": "stream",
     "text": [
      "state:[1, 8]\n",
      "actions:2\n",
      " rewards:-1\n"
     ]
    },
    {
     "data": {
      "image/png": "[encoded data removed]",
      "text/plain": [
       "<Figure size 432x288 with 1 Axes>"
      ]
     },
     "metadata": {
      "needs_background": "light"
     },
     "output_type": "display_data"
    },
    {
     "name": "stdout",
     "output_type": "stream",
     "text": [
      "state:[1, 9]\n",
      "actions:1\n",
      " rewards:30\n"
     ]
    },
    {
     "data": {
      "image/png": "[encoded data removed]",
      "text/plain": [
       "<Figure size 432x288 with 1 Axes>"
      ]
     },
     "metadata": {
      "needs_background": "light"
     },
     "output_type": "display_data"
    }
   ],
   "source": [
    "for i,j,k in zip(states,rewards,actions):\n",
    "    plt.imshow(race_map)\n",
    "    plt.scatter(i[1],i[0])\n",
    "    plt.show()\n",
    "    print(f\"state:{i}\")\n",
    "    print(f\"actions:{k}\\n rewards:{j}\")\n",
    "\n",
    "\n",
    "plt.imshow(race_map)\n",
    "plt.scatter(states[-1][1],states[-1][0])\n",
    "plt.show()"
   ]
  },
  {
   "cell_type": "code",
   "execution_count": null,
   "id": "382ac8a8-7b91-4e4a-84e0-3c0640dcff6e",
   "metadata": {},
   "outputs": [],
   "source": []
  }
 ],
 "metadata": {
  "kernelspec": {
   "display_name": "Python 3",
   "language": "python",
   "name": "python3"
  },
  "language_info": {
   "codemirror_mode": {
    "name": "ipython",
    "version": 3
   },
   "file_extension": ".py",
   "mimetype": "text/x-python",
   "name": "python",
   "nbconvert_exporter": "python",
   "pygments_lexer": "ipython3",
   "version": "3.8.5"
  }
 },
 "nbformat": 4,
 "nbformat_minor": 5
}
