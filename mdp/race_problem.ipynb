{
 "cells": [
  {
   "cell_type": "code",
   "execution_count": 468,
   "id": "36240294-6a19-43a8-a5a5-70e9f9229243",
   "metadata": {},
   "outputs": [],
   "source": [
    "import numpy as np\n",
    "import matplotlib.pyplot as plt\n",
    "from tqdm import tqdm"
   ]
  },
  {
   "cell_type": "code",
   "execution_count": 476,
   "id": "41044921-9ff8-44bf-aa7c-27078869e596",
   "metadata": {},
   "outputs": [
    {
     "data": {
      "text/plain": [
       "<matplotlib.image.AxesImage at 0x7f34001e6dc0>"
      ]
     },
     "execution_count": 476,
     "metadata": {},
     "output_type": "execute_result"
    },
    {
     "data": {
      "image/png": "[encoded data removed]",
      "text/plain": [
       "<Figure size 432x288 with 1 Axes>"
      ]
     },
     "metadata": {
      "needs_background": "light"
     },
     "output_type": "display_data"
    }
   ],
   "source": [
    "patches_size = 10\n",
    "map_size = 20\n",
    "n_patches = 3\n",
    "\n",
    "race_map = np.zeros((map_size+patches_size, map_size+patches_size))\n",
    "\n",
    "for i in range(n_patches):\n",
    "    size = int(np.random.random()*patches_size)\n",
    "    center = (int(np.random.random()*map_size),int(np.random.random()*map_size))\n",
    "    race_map[center[0]:center[0]+size,center[1]:center[1]+size]=1\n",
    "race_map = race_map[:-patches_size,:-patches_size]\n",
    "#race_map[:5,-5:] =1\n",
    "\n",
    "#Lines\n",
    "race_map[0,:5] = 2\n",
    "race_map[-5:,-3:] = 3\n",
    "\n",
    "\n",
    "plt.imshow(race_map)"
   ]
  },
  {
   "cell_type": "markdown",
   "id": "ea47f2ba-4ddb-461f-829d-56c645aa9105",
   "metadata": {},
   "source": [
    "### Enviroment"
   ]
  },
  {
   "cell_type": "code",
   "execution_count": 477,
   "id": "f8f4082f-48f8-4e5c-b284-f0db64d1695e",
   "metadata": {},
   "outputs": [],
   "source": [
    "set_of_actions = [\n",
    "    [-1,-1],\n",
    "    [-1, 0],\n",
    "    [-1, 1],\n",
    "    [ 0,-1],\n",
    "    [ 0, 0],\n",
    "    [ 0, 1],\n",
    "    [ 1,-1],\n",
    "    [ 1, 0],\n",
    "    [ 1, 1],\n",
    "]\n",
    "\n",
    "def simulate_episode(policy):\n",
    "    def step(state, action):\n",
    "        \n",
    "        next_state =  state.copy()\n",
    "        next_state[0] += state[2]\n",
    "        next_state[1] += state[3]\n",
    "        next_state[2] += action[0]\n",
    "        next_state[3] += action[1]\n",
    "        \n",
    "        \n",
    "        next_state[2] = next_state[2] if next_state[2] > -1 else 0\n",
    "        next_state[3] = next_state[3] if next_state[3] > -1 else 0\n",
    "        \n",
    "        next_state[2] = next_state[2] if next_state[2] <= 4 else 4\n",
    "        next_state[3] = next_state[3] if next_state[3] <= 4 else 4\n",
    "        \n",
    "        if next_state[0]<0 or next_state[0]>=map_size or  next_state[1]<0 or next_state[1]>=map_size :\n",
    "            \n",
    "            next_state = state.copy()\n",
    "            \n",
    "            next_state[2] = 0\n",
    "            next_state[3] = 0\n",
    "            \n",
    "            return (next_state,-3)\n",
    "            \n",
    "        if race_map[next_state[0],next_state[1]] == 1:\n",
    "            next_state = state.copy()\n",
    "            next_state[2] = 0\n",
    "            next_state[3] = 0\n",
    "            \n",
    "            return (next_state,-3)\n",
    "            \n",
    "        # End case\n",
    "        if ((np.argwhere(race_map==3)[:,0] == next_state[0]) & (np.argwhere(race_map==3)[:,1] == next_state[1])).any(): \n",
    "            \n",
    "            return (next_state,30)\n",
    "        \n",
    "        return (next_state,-1)\n",
    "        \n",
    "    start_point = np.argwhere(race_map==2)[np.random.choice(len(np.argwhere(race_map==2)))]\n",
    "    state = [ \n",
    "        start_point[0],\n",
    "        start_point[1],\n",
    "        0, 0\n",
    "    ]\n",
    "    \n",
    "    states = [state]\n",
    "    actions = []\n",
    "    rewards = []\n",
    "    \n",
    "    while True:\n",
    "        \n",
    "        action = set_of_actions[np.random.choice(9,p=policy[state[0],state[1],state[2],state[3]])]\n",
    "        action = set_of_actions[8] if len(states) == 1 else action\n",
    "        state,reward = step(state, action)\n",
    "\n",
    "        states.append(state)\n",
    "        actions.append(action)\n",
    "        rewards.append(reward)\n",
    "        \n",
    "        if ((np.argwhere(race_map==3)[:,0] == state[0]) & (np.argwhere(race_map==3)[:,1] == state[1])).any(): \n",
    "            return (states,actions,rewards)\n",
    "\n"
   ]
  },
  {
   "cell_type": "markdown",
   "id": "6bdb66f7-3cd6-4fee-9ca6-114ad98e24bd",
   "metadata": {},
   "source": [
    "### Train"
   ]
  },
  {
   "cell_type": "code",
   "execution_count": 478,
   "id": "7e051a5d-9e66-43a0-af8d-8f184f86bb39",
   "metadata": {},
   "outputs": [],
   "source": [
    "Q = np.random.rand(map_size,map_size,6,6,9) + 20\n",
    "C = np.zeros((map_size,map_size,6,6,9))\n",
    "\n",
    "policy_pi = np.argmax(Q,axis=-1)\n"
   ]
  },
  {
   "cell_type": "code",
   "execution_count": 480,
   "id": "bd113648-498a-4326-bd83-7ab19e005995",
   "metadata": {},
   "outputs": [],
   "source": [
    "time_to_end = []"
   ]
  },
  {
   "cell_type": "code",
   "execution_count": 482,
   "id": "8caa58ac-b65b-4539-b0d4-1989efbcc9f7",
   "metadata": {
    "tags": []
   },
   "outputs": [
    {
     "name": "stderr",
     "output_type": "stream",
     "text": [
      "100%|██████████| 50000/50000 [04:55<00:00, 169.20it/s]\n"
     ]
    }
   ],
   "source": [
    "episodes = 50000\n",
    "gamma = .99\n",
    "\n",
    "for episode_idx in tqdm(range(episodes)):\n",
    "    \n",
    "    # Prepare soft policy\n",
    "    rsh_pi = policy_pi.reshape((map_size**2 * 6**2))\n",
    "    policy_b = np.zeros((rsh_pi.size, rsh_pi.max()+1))\n",
    "    policy_b[:,:] = .4/8\n",
    "    policy_b[np.arange(rsh_pi.size),rsh_pi] = .6\n",
    "    policy_b = policy_b.reshape(Q.shape)\n",
    "    \n",
    "    # Generate episode\n",
    "    states,actions,rewards = simulate_episode(policy_b)\n",
    "    time_to_end.append(len(rewards))\n",
    "    G = 0\n",
    "    W = 1\n",
    "    \n",
    "    for i in range(len(states)-1):\n",
    "        s,a,r = states[-(i+2)], actions[-(i+1)], rewards[-(i+1)]\n",
    "        a_idx = (a[0]+1)*3+(a[1]+1)\n",
    "        G = r + gamma * G\n",
    "        C[s[0],s[1],s[2],s[3],a_idx] += W\n",
    "        \n",
    "        Q[s[0],s[1],s[2],s[3],a_idx] += W*(G - Q[s[0],s[1],s[2],s[3],a_idx])/C[s[0],s[1],s[2],s[3],a_idx]\n",
    "        policy_pi = np.argmax(Q,axis=-1)\n",
    "        if policy_pi[s[0],s[1],s[2],s[3]] != a_idx or policy_b[s[0],s[1],s[2],s[3],a_idx] == 0:\n",
    "            break\n",
    "        \n",
    "        W /= policy_b[s[0],s[1],s[2],s[3],a_idx]"
   ]
  },
  {
   "cell_type": "markdown",
   "id": "78b22fcc-0c33-46ac-ad4d-c29f36d4014f",
   "metadata": {},
   "source": [
    "### Results"
   ]
  },
  {
   "cell_type": "code",
   "execution_count": 519,
   "id": "0fa9f6e1-6bc2-4508-af9e-577639967e79",
   "metadata": {},
   "outputs": [
    {
     "data": {
      "text/plain": [
       "[<matplotlib.lines.Line2D at 0x7f33ff5a0d30>]"
      ]
     },
     "execution_count": 519,
     "metadata": {},
     "output_type": "execute_result"
    },
    {
     "data": {
      "image/png": "[encoded data removed]",
      "text/plain": [
       "<Figure size 432x288 with 1 Axes>"
      ]
     },
     "metadata": {
      "needs_background": "light"
     },
     "output_type": "display_data"
    }
   ],
   "source": [
    "mean = []\n",
    "ran = []\n",
    "window_size = 500\n",
    "for i in range(len(time_to_end)-window_size):\n",
    "    mean.append(np.mean(time_to_end[i:i+window_size]))\n",
    "    ran.append(np.mean(np.abs(time_to_end[i:i+window_size]-mean[-1])))\n",
    "\n",
    "plt.fill_between(np.arange(len(mean)),np.array(mean)+np.array(ran), np.array(mean)-np.array(ran),alpha=0.3,facecolor=\"c\")\n",
    "plt.plot(mean,c=\"c\")"
   ]
  },
  {
   "cell_type": "code",
   "execution_count": 487,
   "id": "7af20c59-4f26-4f82-bf96-c5f6c0f77816",
   "metadata": {},
   "outputs": [],
   "source": [
    "rsh_pi = policy_pi.reshape((map_size**2 * 6**2))\n",
    "policy_b = np.zeros((rsh_pi.size, rsh_pi.max()+1))\n",
    "policy_b[:,:] = .1/8\n",
    "policy_b[np.arange(rsh_pi.size),rsh_pi] = .9\n",
    "policy_b = policy_b.reshape(Q.shape)"
   ]
  },
  {
   "cell_type": "code",
   "execution_count": 488,
   "id": "3ae8e0a5-670e-44ba-b877-e20653df3715",
   "metadata": {},
   "outputs": [],
   "source": [
    "states,actions,rewards = simulate_episode(policy_b)"
   ]
  },
  {
   "cell_type": "code",
   "execution_count": 490,
   "id": "ef6c80b2-e20f-41ff-8b12-74ff075532a5",
   "metadata": {
    "tags": []
   },
   "outputs": [
    {
     "data": {
      "image/png": "[encoded data removed]",
      "text/plain": [
       "<Figure size 432x288 with 1 Axes>"
      ]
     },
     "metadata": {
      "needs_background": "light"
     },
     "output_type": "display_data"
    },
    {
     "name": "stdout",
     "output_type": "stream",
     "text": [
      "state:[0, 1, 0, 0]\n",
      "actions:[1, 1]\n",
      " rewards:-1\n"
     ]
    },
    {
     "data": {
      "image/png": "[encoded data removed]",
      "text/plain": [
       "<Figure size 432x288 with 1 Axes>"
      ]
     },
     "metadata": {
      "needs_background": "light"
     },
     "output_type": "display_data"
    },
    {
     "name": "stdout",
     "output_type": "stream",
     "text": [
      "state:[0, 1, 1, 1]\n",
      "actions:[1, 0]\n",
      " rewards:-1\n"
     ]
    },
    {
     "data": {
      "image/png": "[encoded data removed]",
      "text/plain": [
       "<Figure size 432x288 with 1 Axes>"
      ]
     },
     "metadata": {
      "needs_background": "light"
     },
     "output_type": "display_data"
    },
    {
     "name": "stdout",
     "output_type": "stream",
     "text": [
      "state:[1, 2, 2, 1]\n",
      "actions:[1, 0]\n",
      " rewards:-1\n"
     ]
    },
    {
     "data": {
      "image/png": "[encoded data removed]",
      "text/plain": [
       "<Figure size 432x288 with 1 Axes>"
      ]
     },
     "metadata": {
      "needs_background": "light"
     },
     "output_type": "display_data"
    },
    {
     "name": "stdout",
     "output_type": "stream",
     "text": [
      "state:[3, 3, 3, 1]\n",
      "actions:[0, 1]\n",
      " rewards:-1\n"
     ]
    },
    {
     "data": {
      "image/png": "[encoded data removed]",
      "text/plain": [
       "<Figure size 432x288 with 1 Axes>"
      ]
     },
     "metadata": {
      "needs_background": "light"
     },
     "output_type": "display_data"
    },
    {
     "name": "stdout",
     "output_type": "stream",
     "text": [
      "state:[6, 4, 3, 2]\n",
      "actions:[-1, 1]\n",
      " rewards:-1\n"
     ]
    },
    {
     "data": {
      "image/png": "[encoded data removed]",
      "text/plain": [
       "<Figure size 432x288 with 1 Axes>"
      ]
     },
     "metadata": {
      "needs_background": "light"
     },
     "output_type": "display_data"
    },
    {
     "name": "stdout",
     "output_type": "stream",
     "text": [
      "state:[9, 6, 2, 3]\n",
      "actions:[1, 1]\n",
      " rewards:-1\n"
     ]
    },
    {
     "data": {
      "image/png": "[encoded data removed]",
      "text/plain": [
       "<Figure size 432x288 with 1 Axes>"
      ]
     },
     "metadata": {
      "needs_background": "light"
     },
     "output_type": "display_data"
    },
    {
     "name": "stdout",
     "output_type": "stream",
     "text": [
      "state:[11, 9, 3, 4]\n",
      "actions:[0, 1]\n",
      " rewards:-1\n"
     ]
    },
    {
     "data": {
      "image/png": "[encoded data removed]",
      "text/plain": [
       "<Figure size 432x288 with 1 Axes>"
      ]
     },
     "metadata": {
      "needs_background": "light"
     },
     "output_type": "display_data"
    },
    {
     "name": "stdout",
     "output_type": "stream",
     "text": [
      "state:[14, 13, 3, 4]\n",
      "actions:[-1, -1]\n",
      " rewards:30\n"
     ]
    },
    {
     "data": {
      "image/png": "[encoded data removed]",
      "text/plain": [
       "<Figure size 432x288 with 1 Axes>"
      ]
     },
     "metadata": {
      "needs_background": "light"
     },
     "output_type": "display_data"
    }
   ],
   "source": [
    "for i,j,k in zip(states,rewards,actions):\n",
    "    plt.imshow(race_map)\n",
    "    plt.scatter(i[1],i[0])\n",
    "    plt.show()\n",
    "    print(f\"state:{i}\")\n",
    "    print(f\"actions:{k}\\n rewards:{j}\")\n",
    "\n",
    "\n",
    "plt.imshow(race_map)\n",
    "plt.scatter(states[-1][1],states[-1][0])\n",
    "plt.show()"
   ]
  },
  {
   "cell_type": "code",
   "execution_count": null,
   "id": "8d6bf1cf-932c-4e4c-9798-47307dd5b302",
   "metadata": {},
   "outputs": [],
   "source": []
  },
  {
   "cell_type": "code",
   "execution_count": null,
   "id": "67d5ed66-51dc-44d1-91d7-22e3f73ebc48",
   "metadata": {},
   "outputs": [],
   "source": []
  }
 ],
 "metadata": {
  "kernelspec": {
   "display_name": "Python 3",
   "language": "python",
   "name": "python3"
  },
  "language_info": {
   "codemirror_mode": {
    "name": "ipython",
    "version": 3
   },
   "file_extension": ".py",
   "mimetype": "text/x-python",
   "name": "python",
   "nbconvert_exporter": "python",
   "pygments_lexer": "ipython3",
   "version": "3.8.5"
  }
 },
 "nbformat": 4,
 "nbformat_minor": 5
}
