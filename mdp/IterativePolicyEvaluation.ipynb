{
 "cells": [
  {
   "cell_type": "code",
   "execution_count": 3,
   "id": "47ed7812-b930-4ded-a89f-8e7d13473a6e",
   "metadata": {},
   "outputs": [],
   "source": [
    "import numpy as np"
   ]
  },
  {
   "cell_type": "code",
   "execution_count": null,
   "id": "bc3ecb8c-8564-418e-afee-d9962a4c9b5d",
   "metadata": {},
   "outputs": [],
   "source": []
  },
  {
   "cell_type": "code",
   "execution_count": 68,
   "id": "ce64c131-0850-4859-b7b1-9ebb2b2fa15d",
   "metadata": {},
   "outputs": [],
   "source": [
    "class Model():\n",
    "    def __init__(self):\n",
    "        self.reward_map = -np.ones((4,4))\n",
    "        #self.reward_map[((0,3),(0,3))] = 0\n",
    "        self.V = np.zeros(self.reward_map.shape)\n",
    "        self.gamma = 1\n",
    "        self.epsilon = .001\n",
    "        #print(self.reward_map)\n",
    "        \n",
    "    def train(self):\n",
    "        \n",
    "        while True:\n",
    "            V_update = np.zeros(self.reward_map.shape)\n",
    "\n",
    "            actions = np.array([[-1,0],[+1,0],[0,1],[0,-1]])\n",
    "            p = [.25,.25,.25,.25]\n",
    "\n",
    "            for i in range(self.reward_map.shape[0]):\n",
    "                for j in range(self.reward_map.shape[1]):\n",
    "\n",
    "                    state = [i,j]\n",
    "\n",
    "                    #print(state)\n",
    "\n",
    "                    if state != [0,0] and state != [3,3]:    \n",
    "                        # V update\n",
    "                        for a,action_prob in zip(actions,p):\n",
    "                            next_state = [state[0]+a[0],state[1]+a[1]]\n",
    "\n",
    "                            next_state[0] = state[0] if next_state[0] == -1 else next_state[0]\n",
    "                            next_state[1] = state[1] if next_state[1] == -1 else next_state[1]\n",
    "                            next_state[0] = state[0] if next_state[0] == 4 else next_state[0]\n",
    "                            next_state[1] = state[1] if next_state[1] == 4 else next_state[1]\n",
    "\n",
    "                            #print(next_state)\n",
    "                            #print(f\"{action_prob}*({self.reward_map[tuple(next_state)]} + {self.gamma} * {self.V[next_state]})\")\n",
    "                            V_update[tuple(state)] += action_prob*(self.reward_map[tuple(next_state)] + self.gamma * self.V[tuple(next_state)])\n",
    "            \n",
    "            err = np.max(np.absolute(V_update-self.V))\n",
    "            self.V = V_update\n",
    "\n",
    "            if err < self.epsilon:\n",
    "                print(V_update)\n",
    "                break"
   ]
  },
  {
   "cell_type": "code",
   "execution_count": 69,
   "id": "c71a544c-4db2-438c-9d65-9b2fc16f7310",
   "metadata": {},
   "outputs": [],
   "source": [
    "model = Model()"
   ]
  },
  {
   "cell_type": "code",
   "execution_count": 70,
   "id": "bfb76d4b-b7a2-44a2-a7e6-b077e861f328",
   "metadata": {},
   "outputs": [
    {
     "name": "stdout",
     "output_type": "stream",
     "text": [
      "[[  0.         -13.98945772 -19.98437823 -21.98251832]\n",
      " [-13.98945772 -17.98623815 -19.98448273 -19.98437823]\n",
      " [-19.98437823 -19.98448273 -17.98623815 -13.98945772]\n",
      " [-21.98251832 -19.98437823 -13.98945772   0.        ]]\n"
     ]
    }
   ],
   "source": [
    "model.train()"
   ]
  },
  {
   "cell_type": "code",
   "execution_count": null,
   "id": "df159f1d-ec5f-498f-9989-1714283fba53",
   "metadata": {},
   "outputs": [],
   "source": []
  }
 ],
 "metadata": {
  "kernelspec": {
   "display_name": "Python 3",
   "language": "python",
   "name": "python3"
  },
  "language_info": {
   "codemirror_mode": {
    "name": "ipython",
    "version": 3
   },
   "file_extension": ".py",
   "mimetype": "text/x-python",
   "name": "python",
   "nbconvert_exporter": "python",
   "pygments_lexer": "ipython3",
   "version": "3.8.5"
  }
 },
 "nbformat": 4,
 "nbformat_minor": 5
}
