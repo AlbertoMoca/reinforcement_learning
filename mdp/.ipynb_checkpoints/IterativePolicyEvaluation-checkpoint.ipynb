{
 "cells": [
  {
   "cell_type": "code",
   "execution_count": 3,
   "id": "47ed7812-b930-4ded-a89f-8e7d13473a6e",
   "metadata": {},
   "outputs": [],
   "source": [
    "import numpy as np\n",
    "import matplotlib.pyplot as plt"
   ]
  },
  {
   "cell_type": "code",
   "execution_count": null,
   "id": "bc3ecb8c-8564-418e-afee-d9962a4c9b5d",
   "metadata": {},
   "outputs": [],
   "source": []
  },
  {
   "cell_type": "code",
   "execution_count": 94,
   "id": "ce64c131-0850-4859-b7b1-9ebb2b2fa15d",
   "metadata": {},
   "outputs": [],
   "source": [
    "class Model():\n",
    "    def __init__(self):\n",
    "        self.reward_map = -np.ones((4,4))\n",
    "        self.reward_map[([0,0,0,2,2,2],[1,2,3,0,1,2])] = -10\n",
    "        self.V = np.zeros(self.reward_map.shape)\n",
    "        self.gamma = 1\n",
    "        self.epsilon = .001\n",
    "        self.policy = np.zeros((4,4,4))\n",
    "        self.policy[:,:] = [.25,.25,.25,.25]\n",
    "        \n",
    "        self.actions = np.array([[-1,0],[+1,0],[0,1],[0,-1]])\n",
    "        #print(self.reward_map)\n",
    "        \n",
    "    def updateV(self):\n",
    "        \n",
    "        while True:\n",
    "            V_update = np.zeros(self.reward_map.shape)\n",
    "\n",
    "            \n",
    "\n",
    "            for i in range(self.reward_map.shape[0]):\n",
    "                for j in range(self.reward_map.shape[1]):\n",
    "\n",
    "                    state = [i,j]\n",
    "\n",
    "                    #print(state)\n",
    "\n",
    "                    if state != [0,0] :    \n",
    "                        # V update\n",
    "                        for a,action_prob in zip(self.actions,self.policy[tuple(state)]):\n",
    "                            next_state = [state[0]+a[0],state[1]+a[1]]\n",
    "\n",
    "                            next_state[0] = state[0] if next_state[0] == -1 else next_state[0]\n",
    "                            next_state[1] = state[1] if next_state[1] == -1 else next_state[1]\n",
    "                            next_state[0] = state[0] if next_state[0] == 4 else next_state[0]\n",
    "                            next_state[1] = state[1] if next_state[1] == 4 else next_state[1]\n",
    "\n",
    "                            #print(next_state)\n",
    "                            #print(f\"{action_prob}*({self.reward_map[tuple(next_state)]} + {self.gamma} * {self.V[next_state]})\")\n",
    "                            V_update[tuple(state)] += action_prob*(self.reward_map[tuple(next_state)] + self.gamma * self.V[tuple(next_state)])\n",
    "            \n",
    "            err = np.max(np.absolute(V_update-self.V))\n",
    "            self.V = V_update\n",
    "\n",
    "            if err < self.epsilon:\n",
    "                print(V_update)\n",
    "                break\n",
    "\n",
    "                \n",
    "            \n",
    "    def plot(self):\n",
    "        fig, axs = plt.subplots(1,2)\n",
    "        \n",
    "        axs[0].imshow(-self.V,cmap=\"YlGn\")\n",
    "        for i in range(self.policy.shape[0]):\n",
    "            for j in range(self.policy.shape[1]):\n",
    "                #print(f\"State:{(i,j)}\")\n",
    "                #print(self.policy[i,j])\n",
    "                #print(\"*\"*50)\n",
    "                for action in np.argwhere(self.policy[j,i] > np.max(self.policy[j,i])-.1):\n",
    "                    if action[0] ==0:\n",
    "                        axs[0].arrow(j, i, -.3, 0, width = 0.05,color=\"y\")\n",
    "                    if action[0] == 1:\n",
    "                        axs[0].arrow(j, i, .3, 0, width = 0.05,color=\"y\")\n",
    "                    if action[0] == 2:\n",
    "                        axs[0].arrow(j, i, 0, +.3, width = 0.05,color=\"y\")\n",
    "                    if action[0] == 3:\n",
    "                        axs[0].arrow(j, i, 0, -.3, width = 0.05,color=\"y\")\n",
    "        axs[1].imshow(self.reward_map)\n",
    "        \n",
    "        plt.show()\n",
    "                        \n",
    "    def update_policy(self):\n",
    "        for i in range(self.policy.shape[0]):\n",
    "            for j in range(self.policy.shape[1]):\n",
    "\n",
    "                state = [i,j]\n",
    "\n",
    "                #print(state)\n",
    "\n",
    "                if state != [0,0]:    \n",
    "                   \n",
    "                    q = []\n",
    "                    for a in self.actions:\n",
    "                        next_state = [state[0]+a[0],state[1]+a[1]]\n",
    "                        next_state[0] = state[0] if next_state[0] == -1 else next_state[0]\n",
    "                        next_state[1] = state[1] if next_state[1] == -1 else next_state[1]\n",
    "                        next_state[0] = state[0] if next_state[0] == 4 else next_state[0]\n",
    "                        next_state[1] = state[1] if next_state[1] == 4 else next_state[1]\n",
    "                        q.append(self.V[tuple(next_state)])\n",
    "                    \n",
    "                    q = np.array(q)\n",
    "                    print(f\"State: {(i,j)}\")\n",
    "                    print(q)\n",
    "                    best_actions = np.argwhere(q >= np.max(q) -.1).flatten()\n",
    "                    \n",
    "                    print(best_actions)\n",
    "                    \n",
    "                    self.policy[tuple(state)] = 0\n",
    "                    self.policy[tuple(state)][best_actions] = 1/len(best_actions)\n",
    "                    \n",
    "                    print(self.policy[tuple(state)])"
   ]
  },
  {
   "cell_type": "code",
   "execution_count": 95,
   "id": "d2b3f98c-2897-4574-9e75-bf86da83ff8a",
   "metadata": {},
   "outputs": [
    {
     "ename": "NameError",
     "evalue": "name 'ab' is not defined",
     "output_type": "error",
     "traceback": [
      "\u001b[0;31m---------------------------------------------------------------------------\u001b[0m",
      "\u001b[0;31mNameError\u001b[0m                                 Traceback (most recent call last)",
      "\u001b[0;32m<ipython-input-95-5b01b79d2eb3>\u001b[0m in \u001b[0;36m<module>\u001b[0;34m\u001b[0m\n\u001b[1;32m      3\u001b[0m \u001b[0;34m\u001b[0m\u001b[0m\n\u001b[1;32m      4\u001b[0m \u001b[0;34m[\u001b[0m\u001b[0;34m\"ariba\"\u001b[0m\u001b[0;34m,\u001b[0m\u001b[0;34m\"abajo\"\u001b[0m\u001b[0;34m,\u001b[0m\u001b[0;34m\"derecha\"\u001b[0m\u001b[0;34m,\u001b[0m\u001b[0;34m\"izquierda\"\u001b[0m\u001b[0;34m]\u001b[0m\u001b[0;34m\u001b[0m\u001b[0;34m\u001b[0m\u001b[0m\n\u001b[0;32m----> 5\u001b[0;31m \u001b[0mab\u001b[0m\u001b[0;34m\u001b[0m\u001b[0;34m\u001b[0m\u001b[0m\n\u001b[0m\u001b[1;32m      6\u001b[0m \u001b[0md\u001b[0m\u001b[0;34m\u001b[0m\u001b[0;34m\u001b[0m\u001b[0m\n\u001b[1;32m      7\u001b[0m \u001b[0mi\u001b[0m\u001b[0;34m\u001b[0m\u001b[0;34m\u001b[0m\u001b[0m\n",
      "\u001b[0;31mNameError\u001b[0m: name 'ab' is not defined"
     ]
    }
   ],
   "source": [
    "[[-1,0],[+1,0],[0,1],[0,-1]]\n",
    "\n",
    "\n",
    "[\"ariba\",\"abajo\",\"derecha\",\"izquierda\"]\n",
    "ab\n",
    "d\n",
    "i"
   ]
  },
  {
   "cell_type": "code",
   "execution_count": null,
   "id": "f4e54183-2466-4dee-85ea-4a098db009d6",
   "metadata": {},
   "outputs": [],
   "source": []
  },
  {
   "cell_type": "code",
   "execution_count": 96,
   "id": "bfb76d4b-b7a2-44a2-a7e6-b077e861f328",
   "metadata": {
    "collapsed": true,
    "jupyter": {
     "outputs_hidden": true
    },
    "tags": []
   },
   "outputs": [
    {
     "data": {
      "image/png": "[encoded data removed]",
      "text/plain": [
       "<Figure size 432x288 with 2 Axes>"
      ]
     },
     "metadata": {
      "needs_background": "light"
     },
     "output_type": "display_data"
    },
    {
     "name": "stdout",
     "output_type": "stream",
     "text": [
      "[[   0.         -137.49454985 -209.5177201  -239.38702892]\n",
      " [-129.45883556 -180.96777634 -220.67442241 -238.25962963]\n",
      " [-194.41057724 -214.24585098 -231.9557224  -241.72091954]\n",
      " [-217.52988607 -227.65248677 -238.18520525 -241.95112598]]\n"
     ]
    },
    {
     "data": {
      "image/png": "[encoded data removed]",
      "text/plain": [
       "<Figure size 432x288 with 2 Axes>"
      ]
     },
     "metadata": {
      "needs_background": "light"
     },
     "output_type": "display_data"
    },
    {
     "name": "stdout",
     "output_type": "stream",
     "text": [
      "State: (0, 1)\n",
      "[-137.49454985 -180.96777634 -209.5177201     0.        ]\n",
      "[3]\n",
      "[0. 0. 0. 1.]\n",
      "State: (0, 2)\n",
      "[-209.5177201  -220.67442241 -239.38702892 -137.49454985]\n",
      "[3]\n",
      "[0. 0. 0. 1.]\n",
      "State: (0, 3)\n",
      "[-239.38702892 -238.25962963 -239.38702892 -209.5177201 ]\n",
      "[3]\n",
      "[0. 0. 0. 1.]\n",
      "State: (1, 0)\n",
      "[   0.         -194.41057724 -180.96777634 -129.45883556]\n",
      "[0]\n",
      "[1. 0. 0. 0.]\n",
      "State: (1, 1)\n",
      "[-137.49454985 -214.24585098 -220.67442241 -129.45883556]\n",
      "[3]\n",
      "[0. 0. 0. 1.]\n",
      "State: (1, 2)\n",
      "[-209.5177201  -231.9557224  -238.25962963 -180.96777634]\n",
      "[3]\n",
      "[0. 0. 0. 1.]\n",
      "State: (1, 3)\n",
      "[-239.38702892 -241.72091954 -238.25962963 -220.67442241]\n",
      "[3]\n",
      "[0. 0. 0. 1.]\n",
      "State: (2, 0)\n",
      "[-129.45883556 -217.52988607 -214.24585098 -194.41057724]\n",
      "[0]\n",
      "[1. 0. 0. 0.]\n",
      "State: (2, 1)\n",
      "[-180.96777634 -227.65248677 -231.9557224  -194.41057724]\n",
      "[0]\n",
      "[1. 0. 0. 0.]\n",
      "State: (2, 2)\n",
      "[-220.67442241 -238.18520525 -241.72091954 -214.24585098]\n",
      "[3]\n",
      "[0. 0. 0. 1.]\n",
      "State: (2, 3)\n",
      "[-238.25962963 -241.95112598 -241.72091954 -231.9557224 ]\n",
      "[3]\n",
      "[0. 0. 0. 1.]\n",
      "State: (3, 0)\n",
      "[-194.41057724 -217.52988607 -227.65248677 -217.52988607]\n",
      "[0]\n",
      "[1. 0. 0. 0.]\n",
      "State: (3, 1)\n",
      "[-214.24585098 -227.65248677 -238.18520525 -217.52988607]\n",
      "[0]\n",
      "[1. 0. 0. 0.]\n",
      "State: (3, 2)\n",
      "[-231.9557224  -238.18520525 -241.95112598 -227.65248677]\n",
      "[3]\n",
      "[0. 0. 0. 1.]\n",
      "State: (3, 3)\n",
      "[-241.72091954 -241.95112598 -241.95112598 -238.18520525]\n",
      "[3]\n",
      "[0. 0. 0. 1.]\n"
     ]
    },
    {
     "data": {
      "image/png": "[encoded data removed]",
      "text/plain": [
       "<Figure size 432x288 with 2 Axes>"
      ]
     },
     "metadata": {
      "needs_background": "light"
     },
     "output_type": "display_data"
    },
    {
     "name": "stdout",
     "output_type": "stream",
     "text": [
      "[[[0.25 0.25 0.25 0.25]\n",
      "  [0.   0.   0.   1.  ]\n",
      "  [0.   0.   0.   1.  ]\n",
      "  [0.   0.   0.   1.  ]]\n",
      "\n",
      " [[1.   0.   0.   0.  ]\n",
      "  [0.   0.   0.   1.  ]\n",
      "  [0.   0.   0.   1.  ]\n",
      "  [0.   0.   0.   1.  ]]\n",
      "\n",
      " [[1.   0.   0.   0.  ]\n",
      "  [1.   0.   0.   0.  ]\n",
      "  [0.   0.   0.   1.  ]\n",
      "  [0.   0.   0.   1.  ]]\n",
      "\n",
      " [[1.   0.   0.   0.  ]\n",
      "  [1.   0.   0.   0.  ]\n",
      "  [0.   0.   0.   1.  ]\n",
      "  [0.   0.   0.   1.  ]]]\n",
      "//////////////////////////////////////////////////\n",
      "[[  0.  -1. -11. -21.]\n",
      " [ -1.  -2.  -3.  -4.]\n",
      " [ -2.  -3. -13. -23.]\n",
      " [-12. -13. -14. -15.]]\n"
     ]
    },
    {
     "data": {
      "image/png": "[encoded data removed]",
      "text/plain": [
       "<Figure size 432x288 with 2 Axes>"
      ]
     },
     "metadata": {
      "needs_background": "light"
     },
     "output_type": "display_data"
    },
    {
     "name": "stdout",
     "output_type": "stream",
     "text": [
      "State: (0, 1)\n",
      "[ -1.  -2. -11.   0.]\n",
      "[3]\n",
      "[0. 0. 0. 1.]\n",
      "State: (0, 2)\n",
      "[-11.  -3. -21.  -1.]\n",
      "[3]\n",
      "[0. 0. 0. 1.]\n",
      "State: (0, 3)\n",
      "[-21.  -4. -21. -11.]\n",
      "[1]\n",
      "[0. 1. 0. 0.]\n",
      "State: (1, 0)\n",
      "[ 0. -2. -2. -1.]\n",
      "[0]\n",
      "[1. 0. 0. 0.]\n",
      "State: (1, 1)\n",
      "[-1. -3. -3. -1.]\n",
      "[0 3]\n",
      "[0.5 0.  0.  0.5]\n",
      "State: (1, 2)\n",
      "[-11. -13.  -4.  -2.]\n",
      "[3]\n",
      "[0. 0. 0. 1.]\n",
      "State: (1, 3)\n",
      "[-21. -23.  -4.  -3.]\n",
      "[3]\n",
      "[0. 0. 0. 1.]\n",
      "State: (2, 0)\n",
      "[ -1. -12.  -3.  -2.]\n",
      "[0]\n",
      "[1. 0. 0. 0.]\n",
      "State: (2, 1)\n",
      "[ -2. -13. -13.  -2.]\n",
      "[0 3]\n",
      "[0.5 0.  0.  0.5]\n",
      "State: (2, 2)\n",
      "[ -3. -14. -23.  -3.]\n",
      "[0 3]\n",
      "[0.5 0.  0.  0.5]\n",
      "State: (2, 3)\n",
      "[ -4. -15. -23. -13.]\n",
      "[0]\n",
      "[1. 0. 0. 0.]\n",
      "State: (3, 0)\n",
      "[ -2. -12. -13. -12.]\n",
      "[0]\n",
      "[1. 0. 0. 0.]\n",
      "State: (3, 1)\n",
      "[ -3. -13. -14. -12.]\n",
      "[0]\n",
      "[1. 0. 0. 0.]\n",
      "State: (3, 2)\n",
      "[-13. -14. -15. -13.]\n",
      "[0 3]\n",
      "[0.5 0.  0.  0.5]\n",
      "State: (3, 3)\n",
      "[-23. -15. -15. -14.]\n",
      "[3]\n",
      "[0. 0. 0. 1.]\n"
     ]
    },
    {
     "data": {
      "image/png": "[encoded data removed]",
      "text/plain": [
       "<Figure size 432x288 with 2 Axes>"
      ]
     },
     "metadata": {
      "needs_background": "light"
     },
     "output_type": "display_data"
    },
    {
     "name": "stdout",
     "output_type": "stream",
     "text": [
      "[[[0.25 0.25 0.25 0.25]\n",
      "  [0.   0.   0.   1.  ]\n",
      "  [0.   0.   0.   1.  ]\n",
      "  [0.   1.   0.   0.  ]]\n",
      "\n",
      " [[1.   0.   0.   0.  ]\n",
      "  [0.5  0.   0.   0.5 ]\n",
      "  [0.   0.   0.   1.  ]\n",
      "  [0.   0.   0.   1.  ]]\n",
      "\n",
      " [[1.   0.   0.   0.  ]\n",
      "  [0.5  0.   0.   0.5 ]\n",
      "  [0.5  0.   0.   0.5 ]\n",
      "  [1.   0.   0.   0.  ]]\n",
      "\n",
      " [[1.   0.   0.   0.  ]\n",
      "  [1.   0.   0.   0.  ]\n",
      "  [0.5  0.   0.   0.5 ]\n",
      "  [0.   0.   0.   1.  ]]]\n",
      "//////////////////////////////////////////////////\n",
      "[[  0.      -1.     -11.      -9.5   ]\n",
      " [ -1.      -6.5     -7.5     -8.5   ]\n",
      " [ -2.      -9.75   -14.125   -9.5   ]\n",
      " [-12.     -19.75   -22.4375 -23.4375]]\n"
     ]
    },
    {
     "data": {
      "image/png": "[encoded data removed]",
      "text/plain": [
       "<Figure size 432x288 with 2 Axes>"
      ]
     },
     "metadata": {
      "needs_background": "light"
     },
     "output_type": "display_data"
    },
    {
     "name": "stdout",
     "output_type": "stream",
     "text": [
      "State: (0, 1)\n",
      "[ -1.   -6.5 -11.    0. ]\n",
      "[3]\n",
      "[0. 0. 0. 1.]\n",
      "State: (0, 2)\n",
      "[-11.   -7.5  -9.5  -1. ]\n",
      "[3]\n",
      "[0. 0. 0. 1.]\n",
      "State: (0, 3)\n",
      "[ -9.5  -8.5  -9.5 -11. ]\n",
      "[1]\n",
      "[0. 1. 0. 0.]\n",
      "State: (1, 0)\n",
      "[ 0.  -2.  -6.5 -1. ]\n",
      "[0]\n",
      "[1. 0. 0. 0.]\n",
      "State: (1, 1)\n",
      "[-1.   -9.75 -7.5  -1.  ]\n",
      "[0 3]\n",
      "[0.5 0.  0.  0.5]\n",
      "State: (1, 2)\n",
      "[-11.    -14.125  -8.5    -6.5  ]\n",
      "[3]\n",
      "[0. 0. 0. 1.]\n",
      "State: (1, 3)\n",
      "[-9.5 -9.5 -8.5 -7.5]\n",
      "[3]\n",
      "[0. 0. 0. 1.]\n",
      "State: (2, 0)\n",
      "[ -1.   -12.    -9.75  -2.  ]\n",
      "[0]\n",
      "[1. 0. 0. 0.]\n",
      "State: (2, 1)\n",
      "[ -6.5   -19.75  -14.125  -2.   ]\n",
      "[3]\n",
      "[0. 0. 0. 1.]\n",
      "State: (2, 2)\n",
      "[ -7.5    -22.4375  -9.5     -9.75  ]\n",
      "[0]\n",
      "[1. 0. 0. 0.]\n",
      "State: (2, 3)\n",
      "[ -8.5    -23.4375  -9.5    -14.125 ]\n",
      "[0]\n",
      "[1. 0. 0. 0.]\n",
      "State: (3, 0)\n",
      "[ -2.   -12.   -19.75 -12.  ]\n",
      "[0]\n",
      "[1. 0. 0. 0.]\n",
      "State: (3, 1)\n",
      "[ -9.75   -19.75   -22.4375 -12.    ]\n",
      "[0]\n",
      "[1. 0. 0. 0.]\n",
      "State: (3, 2)\n",
      "[-14.125  -22.4375 -23.4375 -19.75  ]\n",
      "[0]\n",
      "[1. 0. 0. 0.]\n",
      "State: (3, 3)\n",
      "[ -9.5    -23.4375 -23.4375 -22.4375]\n",
      "[0]\n",
      "[1. 0. 0. 0.]\n"
     ]
    },
    {
     "data": {
      "image/png": "[encoded data removed]",
      "text/plain": [
       "<Figure size 432x288 with 2 Axes>"
      ]
     },
     "metadata": {
      "needs_background": "light"
     },
     "output_type": "display_data"
    },
    {
     "name": "stdout",
     "output_type": "stream",
     "text": [
      "[[[0.25 0.25 0.25 0.25]\n",
      "  [0.   0.   0.   1.  ]\n",
      "  [0.   0.   0.   1.  ]\n",
      "  [0.   1.   0.   0.  ]]\n",
      "\n",
      " [[1.   0.   0.   0.  ]\n",
      "  [0.5  0.   0.   0.5 ]\n",
      "  [0.   0.   0.   1.  ]\n",
      "  [0.   0.   0.   1.  ]]\n",
      "\n",
      " [[1.   0.   0.   0.  ]\n",
      "  [0.   0.   0.   1.  ]\n",
      "  [1.   0.   0.   0.  ]\n",
      "  [1.   0.   0.   0.  ]]\n",
      "\n",
      " [[1.   0.   0.   0.  ]\n",
      "  [1.   0.   0.   0.  ]\n",
      "  [1.   0.   0.   0.  ]\n",
      "  [1.   0.   0.   0.  ]]]\n",
      "//////////////////////////////////////////////////\n",
      "[[  0.   -1.  -11.   -9.5]\n",
      " [ -1.   -6.5  -7.5  -8.5]\n",
      " [ -2.  -12.   -8.5  -9.5]\n",
      " [-12.  -22.  -18.5 -10.5]]\n"
     ]
    },
    {
     "data": {
      "image/png": "[encoded data removed]",
      "text/plain": [
       "<Figure size 432x288 with 2 Axes>"
      ]
     },
     "metadata": {
      "needs_background": "light"
     },
     "output_type": "display_data"
    },
    {
     "name": "stdout",
     "output_type": "stream",
     "text": [
      "State: (0, 1)\n",
      "[ -1.   -6.5 -11.    0. ]\n",
      "[3]\n",
      "[0. 0. 0. 1.]\n",
      "State: (0, 2)\n",
      "[-11.   -7.5  -9.5  -1. ]\n",
      "[3]\n",
      "[0. 0. 0. 1.]\n",
      "State: (0, 3)\n",
      "[ -9.5  -8.5  -9.5 -11. ]\n",
      "[1]\n",
      "[0. 1. 0. 0.]\n",
      "State: (1, 0)\n",
      "[ 0.  -2.  -6.5 -1. ]\n",
      "[0]\n",
      "[1. 0. 0. 0.]\n",
      "State: (1, 1)\n",
      "[ -1.  -12.   -7.5  -1. ]\n",
      "[0 3]\n",
      "[0.5 0.  0.  0.5]\n",
      "State: (1, 2)\n",
      "[-11.   -8.5  -8.5  -6.5]\n",
      "[3]\n",
      "[0. 0. 0. 1.]\n",
      "State: (1, 3)\n",
      "[-9.5 -9.5 -8.5 -7.5]\n",
      "[3]\n",
      "[0. 0. 0. 1.]\n",
      "State: (2, 0)\n",
      "[ -1. -12. -12.  -2.]\n",
      "[0]\n",
      "[1. 0. 0. 0.]\n",
      "State: (2, 1)\n",
      "[ -6.5 -22.   -8.5  -2. ]\n",
      "[3]\n",
      "[0. 0. 0. 1.]\n",
      "State: (2, 2)\n",
      "[ -7.5 -18.5  -9.5 -12. ]\n",
      "[0]\n",
      "[1. 0. 0. 0.]\n",
      "State: (2, 3)\n",
      "[ -8.5 -10.5  -9.5  -8.5]\n",
      "[0 3]\n",
      "[0.5 0.  0.  0.5]\n",
      "State: (3, 0)\n",
      "[ -2. -12. -22. -12.]\n",
      "[0]\n",
      "[1. 0. 0. 0.]\n",
      "State: (3, 1)\n",
      "[-12.  -22.  -18.5 -12. ]\n",
      "[0 3]\n",
      "[0.5 0.  0.  0.5]\n",
      "State: (3, 2)\n",
      "[ -8.5 -18.5 -10.5 -22. ]\n",
      "[0]\n",
      "[1. 0. 0. 0.]\n",
      "State: (3, 3)\n",
      "[ -9.5 -10.5 -10.5 -18.5]\n",
      "[0]\n",
      "[1. 0. 0. 0.]\n"
     ]
    },
    {
     "data": {
      "image/png": "[encoded data removed]",
      "text/plain": [
       "<Figure size 432x288 with 2 Axes>"
      ]
     },
     "metadata": {
      "needs_background": "light"
     },
     "output_type": "display_data"
    },
    {
     "name": "stdout",
     "output_type": "stream",
     "text": [
      "[[[0.25 0.25 0.25 0.25]\n",
      "  [0.   0.   0.   1.  ]\n",
      "  [0.   0.   0.   1.  ]\n",
      "  [0.   1.   0.   0.  ]]\n",
      "\n",
      " [[1.   0.   0.   0.  ]\n",
      "  [0.5  0.   0.   0.5 ]\n",
      "  [0.   0.   0.   1.  ]\n",
      "  [0.   0.   0.   1.  ]]\n",
      "\n",
      " [[1.   0.   0.   0.  ]\n",
      "  [0.   0.   0.   1.  ]\n",
      "  [1.   0.   0.   0.  ]\n",
      "  [0.5  0.   0.   0.5 ]]\n",
      "\n",
      " [[1.   0.   0.   0.  ]\n",
      "  [0.5  0.   0.   0.5 ]\n",
      "  [1.   0.   0.   0.  ]\n",
      "  [1.   0.   0.   0.  ]]]\n",
      "//////////////////////////////////////////////////\n",
      "[[  0.   -1.  -11.   -9.5]\n",
      " [ -1.   -6.5  -7.5  -8.5]\n",
      " [ -2.  -12.   -8.5 -14. ]\n",
      " [-12.  -17.5 -18.5 -15. ]]\n"
     ]
    },
    {
     "data": {
      "image/png": "[encoded data removed]",
      "text/plain": [
       "<Figure size 432x288 with 2 Axes>"
      ]
     },
     "metadata": {
      "needs_background": "light"
     },
     "output_type": "display_data"
    },
    {
     "name": "stdout",
     "output_type": "stream",
     "text": [
      "State: (0, 1)\n",
      "[ -1.   -6.5 -11.    0. ]\n",
      "[3]\n",
      "[0. 0. 0. 1.]\n",
      "State: (0, 2)\n",
      "[-11.   -7.5  -9.5  -1. ]\n",
      "[3]\n",
      "[0. 0. 0. 1.]\n",
      "State: (0, 3)\n",
      "[ -9.5  -8.5  -9.5 -11. ]\n",
      "[1]\n",
      "[0. 1. 0. 0.]\n",
      "State: (1, 0)\n",
      "[ 0.  -2.  -6.5 -1. ]\n",
      "[0]\n",
      "[1. 0. 0. 0.]\n",
      "State: (1, 1)\n",
      "[ -1.  -12.   -7.5  -1. ]\n",
      "[0 3]\n",
      "[0.5 0.  0.  0.5]\n",
      "State: (1, 2)\n",
      "[-11.   -8.5  -8.5  -6.5]\n",
      "[3]\n",
      "[0. 0. 0. 1.]\n",
      "State: (1, 3)\n",
      "[ -9.5 -14.   -8.5  -7.5]\n",
      "[3]\n",
      "[0. 0. 0. 1.]\n",
      "State: (2, 0)\n",
      "[ -1. -12. -12.  -2.]\n",
      "[0]\n",
      "[1. 0. 0. 0.]\n",
      "State: (2, 1)\n",
      "[ -6.5 -17.5  -8.5  -2. ]\n",
      "[3]\n",
      "[0. 0. 0. 1.]\n",
      "State: (2, 2)\n",
      "[ -7.5 -18.5 -14.  -12. ]\n",
      "[0]\n",
      "[1. 0. 0. 0.]\n",
      "State: (2, 3)\n",
      "[ -8.5 -15.  -14.   -8.5]\n",
      "[0 3]\n",
      "[0.5 0.  0.  0.5]\n",
      "State: (3, 0)\n",
      "[ -2.  -12.  -17.5 -12. ]\n",
      "[0]\n",
      "[1. 0. 0. 0.]\n",
      "State: (3, 1)\n",
      "[-12.  -17.5 -18.5 -12. ]\n",
      "[0 3]\n",
      "[0.5 0.  0.  0.5]\n",
      "State: (3, 2)\n",
      "[ -8.5 -18.5 -15.  -17.5]\n",
      "[0]\n",
      "[1. 0. 0. 0.]\n",
      "State: (3, 3)\n",
      "[-14.  -15.  -15.  -18.5]\n",
      "[0]\n",
      "[1. 0. 0. 0.]\n"
     ]
    },
    {
     "data": {
      "image/png": "[encoded data removed]",
      "text/plain": [
       "<Figure size 432x288 with 2 Axes>"
      ]
     },
     "metadata": {
      "needs_background": "light"
     },
     "output_type": "display_data"
    },
    {
     "name": "stdout",
     "output_type": "stream",
     "text": [
      "[[[0.25 0.25 0.25 0.25]\n",
      "  [0.   0.   0.   1.  ]\n",
      "  [0.   0.   0.   1.  ]\n",
      "  [0.   1.   0.   0.  ]]\n",
      "\n",
      " [[1.   0.   0.   0.  ]\n",
      "  [0.5  0.   0.   0.5 ]\n",
      "  [0.   0.   0.   1.  ]\n",
      "  [0.   0.   0.   1.  ]]\n",
      "\n",
      " [[1.   0.   0.   0.  ]\n",
      "  [0.   0.   0.   1.  ]\n",
      "  [1.   0.   0.   0.  ]\n",
      "  [0.5  0.   0.   0.5 ]]\n",
      "\n",
      " [[1.   0.   0.   0.  ]\n",
      "  [0.5  0.   0.   0.5 ]\n",
      "  [1.   0.   0.   0.  ]\n",
      "  [1.   0.   0.   0.  ]]]\n",
      "//////////////////////////////////////////////////\n",
      "[[  0.   -1.  -11.   -9.5]\n",
      " [ -1.   -6.5  -7.5  -8.5]\n",
      " [ -2.  -12.   -8.5 -14. ]\n",
      " [-12.  -17.5 -18.5 -15. ]]\n"
     ]
    },
    {
     "data": {
      "image/png": "[encoded data removed]",
      "text/plain": [
       "<Figure size 432x288 with 2 Axes>"
      ]
     },
     "metadata": {
      "needs_background": "light"
     },
     "output_type": "display_data"
    },
    {
     "name": "stdout",
     "output_type": "stream",
     "text": [
      "State: (0, 1)\n",
      "[ -1.   -6.5 -11.    0. ]\n",
      "[3]\n",
      "[0. 0. 0. 1.]\n",
      "State: (0, 2)\n",
      "[-11.   -7.5  -9.5  -1. ]\n",
      "[3]\n",
      "[0. 0. 0. 1.]\n",
      "State: (0, 3)\n",
      "[ -9.5  -8.5  -9.5 -11. ]\n",
      "[1]\n",
      "[0. 1. 0. 0.]\n",
      "State: (1, 0)\n",
      "[ 0.  -2.  -6.5 -1. ]\n",
      "[0]\n",
      "[1. 0. 0. 0.]\n",
      "State: (1, 1)\n",
      "[ -1.  -12.   -7.5  -1. ]\n",
      "[0 3]\n",
      "[0.5 0.  0.  0.5]\n",
      "State: (1, 2)\n",
      "[-11.   -8.5  -8.5  -6.5]\n",
      "[3]\n",
      "[0. 0. 0. 1.]\n",
      "State: (1, 3)\n",
      "[ -9.5 -14.   -8.5  -7.5]\n",
      "[3]\n",
      "[0. 0. 0. 1.]\n",
      "State: (2, 0)\n",
      "[ -1. -12. -12.  -2.]\n",
      "[0]\n",
      "[1. 0. 0. 0.]\n",
      "State: (2, 1)\n",
      "[ -6.5 -17.5  -8.5  -2. ]\n",
      "[3]\n",
      "[0. 0. 0. 1.]\n",
      "State: (2, 2)\n",
      "[ -7.5 -18.5 -14.  -12. ]\n",
      "[0]\n",
      "[1. 0. 0. 0.]\n",
      "State: (2, 3)\n",
      "[ -8.5 -15.  -14.   -8.5]\n",
      "[0 3]\n",
      "[0.5 0.  0.  0.5]\n",
      "State: (3, 0)\n",
      "[ -2.  -12.  -17.5 -12. ]\n",
      "[0]\n",
      "[1. 0. 0. 0.]\n",
      "State: (3, 1)\n",
      "[-12.  -17.5 -18.5 -12. ]\n",
      "[0 3]\n",
      "[0.5 0.  0.  0.5]\n",
      "State: (3, 2)\n",
      "[ -8.5 -18.5 -15.  -17.5]\n",
      "[0]\n",
      "[1. 0. 0. 0.]\n",
      "State: (3, 3)\n",
      "[-14.  -15.  -15.  -18.5]\n",
      "[0]\n",
      "[1. 0. 0. 0.]\n"
     ]
    },
    {
     "data": {
      "image/png": "[encoded data removed]",
      "text/plain": [
       "<Figure size 432x288 with 2 Axes>"
      ]
     },
     "metadata": {
      "needs_background": "light"
     },
     "output_type": "display_data"
    },
    {
     "name": "stdout",
     "output_type": "stream",
     "text": [
      "[[[0.25 0.25 0.25 0.25]\n",
      "  [0.   0.   0.   1.  ]\n",
      "  [0.   0.   0.   1.  ]\n",
      "  [0.   1.   0.   0.  ]]\n",
      "\n",
      " [[1.   0.   0.   0.  ]\n",
      "  [0.5  0.   0.   0.5 ]\n",
      "  [0.   0.   0.   1.  ]\n",
      "  [0.   0.   0.   1.  ]]\n",
      "\n",
      " [[1.   0.   0.   0.  ]\n",
      "  [0.   0.   0.   1.  ]\n",
      "  [1.   0.   0.   0.  ]\n",
      "  [0.5  0.   0.   0.5 ]]\n",
      "\n",
      " [[1.   0.   0.   0.  ]\n",
      "  [0.5  0.   0.   0.5 ]\n",
      "  [1.   0.   0.   0.  ]\n",
      "  [1.   0.   0.   0.  ]]]\n",
      "//////////////////////////////////////////////////\n",
      "[[  0.   -1.  -11.   -9.5]\n",
      " [ -1.   -6.5  -7.5  -8.5]\n",
      " [ -2.  -12.   -8.5 -14. ]\n",
      " [-12.  -17.5 -18.5 -15. ]]\n"
     ]
    },
    {
     "data": {
      "image/png": "[encoded data removed]",
      "text/plain": [
       "<Figure size 432x288 with 2 Axes>"
      ]
     },
     "metadata": {
      "needs_background": "light"
     },
     "output_type": "display_data"
    },
    {
     "name": "stdout",
     "output_type": "stream",
     "text": [
      "State: (0, 1)\n",
      "[ -1.   -6.5 -11.    0. ]\n",
      "[3]\n",
      "[0. 0. 0. 1.]\n",
      "State: (0, 2)\n",
      "[-11.   -7.5  -9.5  -1. ]\n",
      "[3]\n",
      "[0. 0. 0. 1.]\n",
      "State: (0, 3)\n",
      "[ -9.5  -8.5  -9.5 -11. ]\n",
      "[1]\n",
      "[0. 1. 0. 0.]\n",
      "State: (1, 0)\n",
      "[ 0.  -2.  -6.5 -1. ]\n",
      "[0]\n",
      "[1. 0. 0. 0.]\n",
      "State: (1, 1)\n",
      "[ -1.  -12.   -7.5  -1. ]\n",
      "[0 3]\n",
      "[0.5 0.  0.  0.5]\n",
      "State: (1, 2)\n",
      "[-11.   -8.5  -8.5  -6.5]\n",
      "[3]\n",
      "[0. 0. 0. 1.]\n",
      "State: (1, 3)\n",
      "[ -9.5 -14.   -8.5  -7.5]\n",
      "[3]\n",
      "[0. 0. 0. 1.]\n",
      "State: (2, 0)\n",
      "[ -1. -12. -12.  -2.]\n",
      "[0]\n",
      "[1. 0. 0. 0.]\n",
      "State: (2, 1)\n",
      "[ -6.5 -17.5  -8.5  -2. ]\n",
      "[3]\n",
      "[0. 0. 0. 1.]\n",
      "State: (2, 2)\n",
      "[ -7.5 -18.5 -14.  -12. ]\n",
      "[0]\n",
      "[1. 0. 0. 0.]\n",
      "State: (2, 3)\n",
      "[ -8.5 -15.  -14.   -8.5]\n",
      "[0 3]\n",
      "[0.5 0.  0.  0.5]\n",
      "State: (3, 0)\n",
      "[ -2.  -12.  -17.5 -12. ]\n",
      "[0]\n",
      "[1. 0. 0. 0.]\n",
      "State: (3, 1)\n",
      "[-12.  -17.5 -18.5 -12. ]\n",
      "[0 3]\n",
      "[0.5 0.  0.  0.5]\n",
      "State: (3, 2)\n",
      "[ -8.5 -18.5 -15.  -17.5]\n",
      "[0]\n",
      "[1. 0. 0. 0.]\n",
      "State: (3, 3)\n",
      "[-14.  -15.  -15.  -18.5]\n",
      "[0]\n",
      "[1. 0. 0. 0.]\n"
     ]
    },
    {
     "data": {
      "image/png": "[encoded data removed]",
      "text/plain": [
       "<Figure size 432x288 with 2 Axes>"
      ]
     },
     "metadata": {
      "needs_background": "light"
     },
     "output_type": "display_data"
    },
    {
     "name": "stdout",
     "output_type": "stream",
     "text": [
      "[[[0.25 0.25 0.25 0.25]\n",
      "  [0.   0.   0.   1.  ]\n",
      "  [0.   0.   0.   1.  ]\n",
      "  [0.   1.   0.   0.  ]]\n",
      "\n",
      " [[1.   0.   0.   0.  ]\n",
      "  [0.5  0.   0.   0.5 ]\n",
      "  [0.   0.   0.   1.  ]\n",
      "  [0.   0.   0.   1.  ]]\n",
      "\n",
      " [[1.   0.   0.   0.  ]\n",
      "  [0.   0.   0.   1.  ]\n",
      "  [1.   0.   0.   0.  ]\n",
      "  [0.5  0.   0.   0.5 ]]\n",
      "\n",
      " [[1.   0.   0.   0.  ]\n",
      "  [0.5  0.   0.   0.5 ]\n",
      "  [1.   0.   0.   0.  ]\n",
      "  [1.   0.   0.   0.  ]]]\n",
      "//////////////////////////////////////////////////\n",
      "[[  0.   -1.  -11.   -9.5]\n",
      " [ -1.   -6.5  -7.5  -8.5]\n",
      " [ -2.  -12.   -8.5 -14. ]\n",
      " [-12.  -17.5 -18.5 -15. ]]\n"
     ]
    },
    {
     "data": {
      "image/png": "[encoded data removed]",
      "text/plain": [
       "<Figure size 432x288 with 2 Axes>"
      ]
     },
     "metadata": {
      "needs_background": "light"
     },
     "output_type": "display_data"
    },
    {
     "name": "stdout",
     "output_type": "stream",
     "text": [
      "State: (0, 1)\n",
      "[ -1.   -6.5 -11.    0. ]\n",
      "[3]\n",
      "[0. 0. 0. 1.]\n",
      "State: (0, 2)\n",
      "[-11.   -7.5  -9.5  -1. ]\n",
      "[3]\n",
      "[0. 0. 0. 1.]\n",
      "State: (0, 3)\n",
      "[ -9.5  -8.5  -9.5 -11. ]\n",
      "[1]\n",
      "[0. 1. 0. 0.]\n",
      "State: (1, 0)\n",
      "[ 0.  -2.  -6.5 -1. ]\n",
      "[0]\n",
      "[1. 0. 0. 0.]\n",
      "State: (1, 1)\n",
      "[ -1.  -12.   -7.5  -1. ]\n",
      "[0 3]\n",
      "[0.5 0.  0.  0.5]\n",
      "State: (1, 2)\n",
      "[-11.   -8.5  -8.5  -6.5]\n",
      "[3]\n",
      "[0. 0. 0. 1.]\n",
      "State: (1, 3)\n",
      "[ -9.5 -14.   -8.5  -7.5]\n",
      "[3]\n",
      "[0. 0. 0. 1.]\n",
      "State: (2, 0)\n",
      "[ -1. -12. -12.  -2.]\n",
      "[0]\n",
      "[1. 0. 0. 0.]\n",
      "State: (2, 1)\n",
      "[ -6.5 -17.5  -8.5  -2. ]\n",
      "[3]\n",
      "[0. 0. 0. 1.]\n",
      "State: (2, 2)\n",
      "[ -7.5 -18.5 -14.  -12. ]\n",
      "[0]\n",
      "[1. 0. 0. 0.]\n",
      "State: (2, 3)\n",
      "[ -8.5 -15.  -14.   -8.5]\n",
      "[0 3]\n",
      "[0.5 0.  0.  0.5]\n",
      "State: (3, 0)\n",
      "[ -2.  -12.  -17.5 -12. ]\n",
      "[0]\n",
      "[1. 0. 0. 0.]\n",
      "State: (3, 1)\n",
      "[-12.  -17.5 -18.5 -12. ]\n",
      "[0 3]\n",
      "[0.5 0.  0.  0.5]\n",
      "State: (3, 2)\n",
      "[ -8.5 -18.5 -15.  -17.5]\n",
      "[0]\n",
      "[1. 0. 0. 0.]\n",
      "State: (3, 3)\n",
      "[-14.  -15.  -15.  -18.5]\n",
      "[0]\n",
      "[1. 0. 0. 0.]\n"
     ]
    },
    {
     "data": {
      "image/png": "[encoded data removed]",
      "text/plain": [
       "<Figure size 432x288 with 2 Axes>"
      ]
     },
     "metadata": {
      "needs_background": "light"
     },
     "output_type": "display_data"
    },
    {
     "name": "stdout",
     "output_type": "stream",
     "text": [
      "[[[0.25 0.25 0.25 0.25]\n",
      "  [0.   0.   0.   1.  ]\n",
      "  [0.   0.   0.   1.  ]\n",
      "  [0.   1.   0.   0.  ]]\n",
      "\n",
      " [[1.   0.   0.   0.  ]\n",
      "  [0.5  0.   0.   0.5 ]\n",
      "  [0.   0.   0.   1.  ]\n",
      "  [0.   0.   0.   1.  ]]\n",
      "\n",
      " [[1.   0.   0.   0.  ]\n",
      "  [0.   0.   0.   1.  ]\n",
      "  [1.   0.   0.   0.  ]\n",
      "  [0.5  0.   0.   0.5 ]]\n",
      "\n",
      " [[1.   0.   0.   0.  ]\n",
      "  [0.5  0.   0.   0.5 ]\n",
      "  [1.   0.   0.   0.  ]\n",
      "  [1.   0.   0.   0.  ]]]\n",
      "//////////////////////////////////////////////////\n",
      "[[  0.   -1.  -11.   -9.5]\n",
      " [ -1.   -6.5  -7.5  -8.5]\n",
      " [ -2.  -12.   -8.5 -14. ]\n",
      " [-12.  -17.5 -18.5 -15. ]]\n"
     ]
    },
    {
     "data": {
      "image/png": "[encoded data removed]",
      "text/plain": [
       "<Figure size 432x288 with 2 Axes>"
      ]
     },
     "metadata": {
      "needs_background": "light"
     },
     "output_type": "display_data"
    },
    {
     "name": "stdout",
     "output_type": "stream",
     "text": [
      "State: (0, 1)\n",
      "[ -1.   -6.5 -11.    0. ]\n",
      "[3]\n",
      "[0. 0. 0. 1.]\n",
      "State: (0, 2)\n",
      "[-11.   -7.5  -9.5  -1. ]\n",
      "[3]\n",
      "[0. 0. 0. 1.]\n",
      "State: (0, 3)\n",
      "[ -9.5  -8.5  -9.5 -11. ]\n",
      "[1]\n",
      "[0. 1. 0. 0.]\n",
      "State: (1, 0)\n",
      "[ 0.  -2.  -6.5 -1. ]\n",
      "[0]\n",
      "[1. 0. 0. 0.]\n",
      "State: (1, 1)\n",
      "[ -1.  -12.   -7.5  -1. ]\n",
      "[0 3]\n",
      "[0.5 0.  0.  0.5]\n",
      "State: (1, 2)\n",
      "[-11.   -8.5  -8.5  -6.5]\n",
      "[3]\n",
      "[0. 0. 0. 1.]\n",
      "State: (1, 3)\n",
      "[ -9.5 -14.   -8.5  -7.5]\n",
      "[3]\n",
      "[0. 0. 0. 1.]\n",
      "State: (2, 0)\n",
      "[ -1. -12. -12.  -2.]\n",
      "[0]\n",
      "[1. 0. 0. 0.]\n",
      "State: (2, 1)\n",
      "[ -6.5 -17.5  -8.5  -2. ]\n",
      "[3]\n",
      "[0. 0. 0. 1.]\n",
      "State: (2, 2)\n",
      "[ -7.5 -18.5 -14.  -12. ]\n",
      "[0]\n",
      "[1. 0. 0. 0.]\n",
      "State: (2, 3)\n",
      "[ -8.5 -15.  -14.   -8.5]\n",
      "[0 3]\n",
      "[0.5 0.  0.  0.5]\n",
      "State: (3, 0)\n",
      "[ -2.  -12.  -17.5 -12. ]\n",
      "[0]\n",
      "[1. 0. 0. 0.]\n",
      "State: (3, 1)\n",
      "[-12.  -17.5 -18.5 -12. ]\n",
      "[0 3]\n",
      "[0.5 0.  0.  0.5]\n",
      "State: (3, 2)\n",
      "[ -8.5 -18.5 -15.  -17.5]\n",
      "[0]\n",
      "[1. 0. 0. 0.]\n",
      "State: (3, 3)\n",
      "[-14.  -15.  -15.  -18.5]\n",
      "[0]\n",
      "[1. 0. 0. 0.]\n"
     ]
    },
    {
     "data": {
      "image/png": "[encoded data removed]",
      "text/plain": [
       "<Figure size 432x288 with 2 Axes>"
      ]
     },
     "metadata": {
      "needs_background": "light"
     },
     "output_type": "display_data"
    },
    {
     "name": "stdout",
     "output_type": "stream",
     "text": [
      "[[[0.25 0.25 0.25 0.25]\n",
      "  [0.   0.   0.   1.  ]\n",
      "  [0.   0.   0.   1.  ]\n",
      "  [0.   1.   0.   0.  ]]\n",
      "\n",
      " [[1.   0.   0.   0.  ]\n",
      "  [0.5  0.   0.   0.5 ]\n",
      "  [0.   0.   0.   1.  ]\n",
      "  [0.   0.   0.   1.  ]]\n",
      "\n",
      " [[1.   0.   0.   0.  ]\n",
      "  [0.   0.   0.   1.  ]\n",
      "  [1.   0.   0.   0.  ]\n",
      "  [0.5  0.   0.   0.5 ]]\n",
      "\n",
      " [[1.   0.   0.   0.  ]\n",
      "  [0.5  0.   0.   0.5 ]\n",
      "  [1.   0.   0.   0.  ]\n",
      "  [1.   0.   0.   0.  ]]]\n",
      "//////////////////////////////////////////////////\n",
      "[[  0.   -1.  -11.   -9.5]\n",
      " [ -1.   -6.5  -7.5  -8.5]\n",
      " [ -2.  -12.   -8.5 -14. ]\n",
      " [-12.  -17.5 -18.5 -15. ]]\n"
     ]
    },
    {
     "data": {
      "image/png": "[encoded data removed]",
      "text/plain": [
       "<Figure size 432x288 with 2 Axes>"
      ]
     },
     "metadata": {
      "needs_background": "light"
     },
     "output_type": "display_data"
    },
    {
     "name": "stdout",
     "output_type": "stream",
     "text": [
      "State: (0, 1)\n",
      "[ -1.   -6.5 -11.    0. ]\n",
      "[3]\n",
      "[0. 0. 0. 1.]\n",
      "State: (0, 2)\n",
      "[-11.   -7.5  -9.5  -1. ]\n",
      "[3]\n",
      "[0. 0. 0. 1.]\n",
      "State: (0, 3)\n",
      "[ -9.5  -8.5  -9.5 -11. ]\n",
      "[1]\n",
      "[0. 1. 0. 0.]\n",
      "State: (1, 0)\n",
      "[ 0.  -2.  -6.5 -1. ]\n",
      "[0]\n",
      "[1. 0. 0. 0.]\n",
      "State: (1, 1)\n",
      "[ -1.  -12.   -7.5  -1. ]\n",
      "[0 3]\n",
      "[0.5 0.  0.  0.5]\n",
      "State: (1, 2)\n",
      "[-11.   -8.5  -8.5  -6.5]\n",
      "[3]\n",
      "[0. 0. 0. 1.]\n",
      "State: (1, 3)\n",
      "[ -9.5 -14.   -8.5  -7.5]\n",
      "[3]\n",
      "[0. 0. 0. 1.]\n",
      "State: (2, 0)\n",
      "[ -1. -12. -12.  -2.]\n",
      "[0]\n",
      "[1. 0. 0. 0.]\n",
      "State: (2, 1)\n",
      "[ -6.5 -17.5  -8.5  -2. ]\n",
      "[3]\n",
      "[0. 0. 0. 1.]\n",
      "State: (2, 2)\n",
      "[ -7.5 -18.5 -14.  -12. ]\n",
      "[0]\n",
      "[1. 0. 0. 0.]\n",
      "State: (2, 3)\n",
      "[ -8.5 -15.  -14.   -8.5]\n",
      "[0 3]\n",
      "[0.5 0.  0.  0.5]\n",
      "State: (3, 0)\n",
      "[ -2.  -12.  -17.5 -12. ]\n",
      "[0]\n",
      "[1. 0. 0. 0.]\n",
      "State: (3, 1)\n",
      "[-12.  -17.5 -18.5 -12. ]\n",
      "[0 3]\n",
      "[0.5 0.  0.  0.5]\n",
      "State: (3, 2)\n",
      "[ -8.5 -18.5 -15.  -17.5]\n",
      "[0]\n",
      "[1. 0. 0. 0.]\n",
      "State: (3, 3)\n",
      "[-14.  -15.  -15.  -18.5]\n",
      "[0]\n",
      "[1. 0. 0. 0.]\n"
     ]
    },
    {
     "data": {
      "image/png": "[encoded data removed]",
      "text/plain": [
       "<Figure size 432x288 with 2 Axes>"
      ]
     },
     "metadata": {
      "needs_background": "light"
     },
     "output_type": "display_data"
    },
    {
     "name": "stdout",
     "output_type": "stream",
     "text": [
      "[[[0.25 0.25 0.25 0.25]\n",
      "  [0.   0.   0.   1.  ]\n",
      "  [0.   0.   0.   1.  ]\n",
      "  [0.   1.   0.   0.  ]]\n",
      "\n",
      " [[1.   0.   0.   0.  ]\n",
      "  [0.5  0.   0.   0.5 ]\n",
      "  [0.   0.   0.   1.  ]\n",
      "  [0.   0.   0.   1.  ]]\n",
      "\n",
      " [[1.   0.   0.   0.  ]\n",
      "  [0.   0.   0.   1.  ]\n",
      "  [1.   0.   0.   0.  ]\n",
      "  [0.5  0.   0.   0.5 ]]\n",
      "\n",
      " [[1.   0.   0.   0.  ]\n",
      "  [0.5  0.   0.   0.5 ]\n",
      "  [1.   0.   0.   0.  ]\n",
      "  [1.   0.   0.   0.  ]]]\n",
      "//////////////////////////////////////////////////\n"
     ]
    }
   ],
   "source": [
    "model = Model()\n",
    "\n",
    "model.plot()\n",
    "for i in range(10):\n",
    "    model.updateV()\n",
    "    model.plot()\n",
    "    model.update_policy()\n",
    "    model.plot()\n",
    "    print(model.policy)\n",
    "    print(\"/\"*50)\n"
   ]
  },
  {
   "cell_type": "code",
   "execution_count": 97,
   "id": "dda91002-f22d-4f40-9ce1-f733ba06f398",
   "metadata": {},
   "outputs": [
    {
     "data": {
      "text/plain": [
       "array([1., 1., 1.])"
      ]
     },
     "execution_count": 97,
     "metadata": {},
     "output_type": "execute_result"
    }
   ],
   "source": [
    "np.ones((10,10))[([1,2,3],[1,2,3])]"
   ]
  },
  {
   "cell_type": "code",
   "execution_count": 98,
   "id": "392dd3a0-f58a-4cb7-a29f-f4d868c81e24",
   "metadata": {},
   "outputs": [
    {
     "ename": "SyntaxError",
     "evalue": "f-string: empty expression not allowed (<ipython-input-98-08c6d18ccfc5>, line 93)",
     "output_type": "error",
     "traceback": [
      "\u001b[0;36m  File \u001b[0;32m\"<ipython-input-98-08c6d18ccfc5>\"\u001b[0;36m, line \u001b[0;32m93\u001b[0m\n\u001b[0;31m    print(f\"{}\")\u001b[0m\n\u001b[0m          ^\u001b[0m\n\u001b[0;31mSyntaxError\u001b[0m\u001b[0;31m:\u001b[0m f-string: empty expression not allowed\n"
     ]
    }
   ],
   "source": [
    "class Model():\n",
    "    def __init__(self):\n",
    "        self.reward_map = -np.ones((4,4))\n",
    "        self.reward_map[([0,0,0,2,2,2],[1,2,3,0,1,2])] = -10\n",
    "        self.V = np.zeros(self.reward_map.shape)\n",
    "        self.gamma = 1\n",
    "        self.epsilon = .001\n",
    "        self.policy = np.zeros((4,4,4))\n",
    "        self.policy[:,:] = [.25,.25,.25,.25]\n",
    "        \n",
    "        self.actions = np.array([[-1,0],[+1,0],[0,1],[0,-1]])\n",
    "        #print(self.reward_map)\n",
    "        \n",
    "    def updateV(self):\n",
    "        \n",
    "        while True:\n",
    "            V_update = np.zeros(self.reward_map.shape)\n",
    "\n",
    "            \n",
    "\n",
    "            for i in range(self.reward_map.shape[0]):\n",
    "                for j in range(self.reward_map.shape[1]):\n",
    "\n",
    "                    state = [i,j]\n",
    "\n",
    "                    #print(state)\n",
    "\n",
    "                    if state != [0,0] :    \n",
    "                        # V update\n",
    "                        for a,action_prob in zip(self.actions,self.policy[tuple(state)]):\n",
    "                            next_state = [state[0]+a[0],state[1]+a[1]]\n",
    "\n",
    "                            next_state[0] = state[0] if next_state[0] == -1 else next_state[0]\n",
    "                            next_state[1] = state[1] if next_state[1] == -1 else next_state[1]\n",
    "                            next_state[0] = state[0] if next_state[0] == 4 else next_state[0]\n",
    "                            next_state[1] = state[1] if next_state[1] == 4 else next_state[1]\n",
    "\n",
    "                            #print(next_state)\n",
    "                            #print(f\"{action_prob}*({self.reward_map[tuple(next_state)]} + {self.gamma} * {self.V[next_state]})\")\n",
    "                            V_update[tuple(state)] += action_prob*(self.reward_map[tuple(next_state)] + self.gamma * self.V[tuple(next_state)])\n",
    "            \n",
    "            err = np.max(np.absolute(V_update-self.V))\n",
    "            self.V = V_update\n",
    "\n",
    "            if err < self.epsilon:\n",
    "                print(V_update)\n",
    "                break\n",
    "\n",
    "                \n",
    "            \n",
    "    def plot(self):\n",
    "        fig, axs = plt.subplots(1,2)\n",
    "        \n",
    "        axs[0].imshow(-self.V,cmap=\"YlGn\")\n",
    "        for i in range(self.policy.shape[0]):\n",
    "            for j in range(self.policy.shape[1]):\n",
    "                #print(f\"State:{(i,j)}\")\n",
    "                #print(self.policy[i,j])\n",
    "                #print(\"*\"*50)\n",
    "                for action in np.argwhere(self.policy[i,j] > np.max(self.policy[i,j])-.1):\n",
    "                    if action[0] ==0:\n",
    "                        axs[0].arrow(i, j, -.3, 0, width = 0.05,color=\"y\")\n",
    "                    if action[0] == 1:\n",
    "                        axs[0].arrow(i, j, .3, 0, width = 0.05,color=\"y\")\n",
    "                    if action[0] == 2:\n",
    "                        axs[0].arrow(i, j, 0, +.3, width = 0.05,color=\"y\")\n",
    "                    if action[0] == 3:\n",
    "                        axs[0].arrow(i, j, 0, -.3, width = 0.05,color=\"y\")\n",
    "        axs[1].imshow(self.reward_map)\n",
    "        \n",
    "        plt.show()\n",
    "                        \n",
    "    def update_policy(self):\n",
    "        for i in range(self.policy.shape[0]):\n",
    "            for j in range(self.policy.shape[1]):\n",
    "\n",
    "                state = [i,j]\n",
    "\n",
    "                #print(state)\n",
    "\n",
    "                if state != [0,0]:    \n",
    "                   \n",
    "                    q = []\n",
    "                    for a in self.actions:\n",
    "                        next_state = [state[0]+a[0],state[1]+a[1]]\n",
    "                        next_state[0] = state[0] if next_state[0] == -1 else next_state[0]\n",
    "                        next_state[1] = state[1] if next_state[1] == -1 else next_state[1]\n",
    "                        next_state[0] = state[0] if next_state[0] == 4 else next_state[0]\n",
    "                        next_state[1] = state[1] if next_state[1] == 4 else next_state[1]\n",
    "                        q.append(self.V[tuple(next_state)])\n",
    "                    \n",
    "                    q = np.array(q)\n",
    "                    print(f\"{}\")\n",
    "                    print(q)\n",
    "                    best_actions = np.argwhere(q >= np.max(q) -.1).flatten()\n",
    "                    \n",
    "                    self.policy[tuple(state)] = 0\n",
    "                    self.policy[tuple(state)][best_actions] = 1/len(best_actions)"
   ]
  },
  {
   "cell_type": "code",
   "execution_count": null,
   "id": "efdf81bb-e83e-480f-aec9-0d6a789c38dc",
   "metadata": {},
   "outputs": [],
   "source": []
  },
  {
   "cell_type": "code",
   "execution_count": null,
   "id": "f0626d32-794d-4427-b793-4039fe707575",
   "metadata": {},
   "outputs": [],
   "source": []
  }
 ],
 "metadata": {
  "kernelspec": {
   "display_name": "Python 3",
   "language": "python",
   "name": "python3"
  },
  "language_info": {
   "codemirror_mode": {
    "name": "ipython",
    "version": 3
   },
   "file_extension": ".py",
   "mimetype": "text/x-python",
   "name": "python",
   "nbconvert_exporter": "python",
   "pygments_lexer": "ipython3",
   "version": "3.8.5"
  }
 },
 "nbformat": 4,
 "nbformat_minor": 5
}
