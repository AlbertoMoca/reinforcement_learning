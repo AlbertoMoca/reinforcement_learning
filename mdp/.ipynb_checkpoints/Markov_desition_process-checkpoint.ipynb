{
 "cells": [
  {
   "cell_type": "markdown",
   "metadata": {},
   "source": [
    "### Markov Desicion Process"
   ]
  },
  {
   "cell_type": "code",
   "execution_count": 1,
   "metadata": {},
   "outputs": [],
   "source": [
    "import numpy as np"
   ]
  },
  {
   "cell_type": "code",
   "execution_count": 7,
   "metadata": {},
   "outputs": [
    {
     "data": {
      "text/plain": [
       "array([[ -1.,  -1.,  -1.,  30.],\n",
       "       [ -1.,  -2.,  -1., -10.],\n",
       "       [ -1.,  -1.,  -1.,  -1.]])"
      ]
     },
     "execution_count": 7,
     "metadata": {},
     "output_type": "execute_result"
    }
   ],
   "source": [
    "reward_map = -np.ones((3,4))\n",
    "reward_map[1,1]=-2\n",
    "reward_map[0,3]=30\n",
    "reward_map[1,3]=-10\n",
    "reward_map"
   ]
  },
  {
   "cell_type": "code",
   "execution_count": 9,
   "metadata": {},
   "outputs": [
    {
     "data": {
      "text/plain": [
       "array([ -1.,  -1.,  -1.,  30.,  -1.,  -2.,  -1., -10.,  -1.,  -1.,  -1.,\n",
       "        -1.])"
      ]
     },
     "execution_count": 9,
     "metadata": {},
     "output_type": "execute_result"
    }
   ],
   "source": [
    "reward_map.flatten()"
   ]
  },
  {
   "cell_type": "code",
   "execution_count": 13,
   "metadata": {},
   "outputs": [
    {
     "data": {
      "text/plain": [
       "5"
      ]
     },
     "execution_count": 13,
     "metadata": {},
     "output_type": "execute_result"
    }
   ],
   "source": [
    "reward_map.shape[0]+2"
   ]
  },
  {
   "cell_type": "code",
   "execution_count": 30,
   "metadata": {},
   "outputs": [
    {
     "name": "stdout",
     "output_type": "stream",
     "text": [
      "[[0.1 0.8 0.  0. ]\n",
      " [0.1 0.  0.  0. ]\n",
      " [0.  0.  0.  0. ]]\n",
      "----------\n",
      "[[0.  0.1 0.8 0. ]\n",
      " [0.  0.1 0.  0. ]\n",
      " [0.  0.  0.  0. ]]\n",
      "----------\n",
      "[[0.  0.  0.1 0.8]\n",
      " [0.  0.  0.1 0. ]\n",
      " [0.  0.  0.  0. ]]\n",
      "----------\n",
      "[[0.  0.  0.  0.9]\n",
      " [0.  0.  0.  0.1]\n",
      " [0.  0.  0.  0. ]]\n",
      "----------\n",
      "[[0.1 0.  0.  0. ]\n",
      " [0.  0.8 0.  0. ]\n",
      " [0.1 0.  0.  0. ]]\n",
      "----------\n",
      "[[0.  0.1 0.  0. ]\n",
      " [0.  0.  0.8 0. ]\n",
      " [0.  0.1 0.  0. ]]\n",
      "----------\n",
      "[[0.  0.  0.1 0. ]\n",
      " [0.  0.  0.  0.8]\n",
      " [0.  0.  0.1 0. ]]\n",
      "----------\n",
      "[[0.  0.  0.  0.1]\n",
      " [0.  0.  0.  0.8]\n",
      " [0.  0.  0.  0.1]]\n",
      "----------\n",
      "[[0.  0.  0.  0. ]\n",
      " [0.1 0.  0.  0. ]\n",
      " [0.1 0.8 0.  0. ]]\n",
      "----------\n",
      "[[0.  0.  0.  0. ]\n",
      " [0.  0.1 0.  0. ]\n",
      " [0.  0.1 0.8 0. ]]\n",
      "----------\n",
      "[[0.  0.  0.  0. ]\n",
      " [0.  0.  0.1 0. ]\n",
      " [0.  0.  0.1 0.8]]\n",
      "----------\n",
      "[[0.  0.  0.  0. ]\n",
      " [0.  0.  0.  0.1]\n",
      " [0.  0.  0.  0.9]]\n",
      "----------\n"
     ]
    }
   ],
   "source": [
    "def transition_probabilities(action):\n",
    "    \n",
    "    for i in range(reward_map.shape[0]):\n",
    "        for j in range(reward_map.shape[1]):\n",
    "            P = np.zeros((reward_map.shape[0]+2,reward_map.shape[1]+2))\n",
    "            state = [i,j]\n",
    "            if action == 0:\n",
    "                P[state[0],state[1]+1] = .8\n",
    "                P[state[0]+1,state[1]] = .1\n",
    "                P[state[0]+1,state[1]+2] = .1\n",
    "            elif action == 1:\n",
    "                P[state[0]+2,state[1]+1] = .8\n",
    "                P[state[0]+1,state[1]] = .1\n",
    "                P[state[0]+1,state[1]+2] = .1\n",
    "            elif action == 2:\n",
    "                P[state[0]+1,state[1]+2] = .8\n",
    "                P[state[0],state[1]+1] = .1\n",
    "                P[state[0]+2,state[1]+1] = .1\n",
    "            elif action == 3:\n",
    "                P[state[0]+1,state[1]] = .8\n",
    "                P[state[0],state[1]+1] = .1\n",
    "                P[state[0]+2,state[1]+1] = .1\n",
    "\n",
    "            P[state[0]+1,state[1]+1] = np.sum(P) - np.sum(P[1:-1,1:-1]) \n",
    "\n",
    "            print(P[1:-1,1:-1])\n",
    "            print(\"-\"*10)\n",
    "    \n",
    "transition_probabilities(2)"
   ]
  },
  {
   "cell_type": "code",
   "execution_count": null,
   "metadata": {},
   "outputs": [],
   "source": []
  },
  {
   "cell_type": "code",
   "execution_count": null,
   "metadata": {},
   "outputs": [],
   "source": []
  }
 ],
 "metadata": {
  "kernelspec": {
   "display_name": "Python 3",
   "language": "python",
   "name": "python3"
  },
  "language_info": {
   "codemirror_mode": {
    "name": "ipython",
    "version": 3
   },
   "file_extension": ".py",
   "mimetype": "text/x-python",
   "name": "python",
   "nbconvert_exporter": "python",
   "pygments_lexer": "ipython3",
   "version": "3.8.5"
  }
 },
 "nbformat": 4,
 "nbformat_minor": 4
}
