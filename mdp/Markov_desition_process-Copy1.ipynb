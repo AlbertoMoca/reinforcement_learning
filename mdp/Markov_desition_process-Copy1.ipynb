{
 "cells": [
  {
   "cell_type": "markdown",
   "metadata": {},
   "source": [
    "### Markov Desicion Process"
   ]
  },
  {
   "cell_type": "code",
   "execution_count": 4,
   "metadata": {},
   "outputs": [],
   "source": [
    "import numpy as np"
   ]
  },
  {
   "cell_type": "code",
   "execution_count": 5,
   "metadata": {},
   "outputs": [],
   "source": [
    "reward_map = - .04 * np.ones((3,4))\n",
    "reward_map[1,1]= -1\n",
    "reward_map[0,3]= +1\n",
    "reward_map[1,3]= -1\n",
    "R = np.reshape(reward_map,(reward_map.shape[0]*reward_map.shape[1],1))"
   ]
  },
  {
   "cell_type": "code",
   "execution_count": null,
   "metadata": {},
   "outputs": [],
   "source": []
  },
  {
   "cell_type": "code",
   "execution_count": 6,
   "metadata": {},
   "outputs": [
    {
     "data": {
      "text/plain": [
       "array([[0.9, 0.1, 0. , 0. , 0. , 0. , 0. , 0. , 0. , 0. , 0. , 0. ],\n",
       "       [0.1, 0.8, 0.1, 0. , 0. , 0. , 0. , 0. , 0. , 0. , 0. , 0. ],\n",
       "       [0. , 0.1, 0.8, 0.1, 0. , 0. , 0. , 0. , 0. , 0. , 0. , 0. ],\n",
       "       [0. , 0. , 0.1, 0.9, 0. , 0. , 0. , 0. , 0. , 0. , 0. , 0. ],\n",
       "       [0.8, 0. , 0. , 0. , 0.1, 0.1, 0. , 0. , 0. , 0. , 0. , 0. ],\n",
       "       [0. , 0.8, 0. , 0. , 0.1, 0. , 0.1, 0. , 0. , 0. , 0. , 0. ],\n",
       "       [0. , 0. , 0.8, 0. , 0. , 0.1, 0. , 0.1, 0. , 0. , 0. , 0. ],\n",
       "       [0. , 0. , 0. , 0.8, 0. , 0. , 0.1, 0.1, 0. , 0. , 0. , 0. ],\n",
       "       [0. , 0. , 0. , 0. , 0.8, 0. , 0. , 0. , 0.1, 0.1, 0. , 0. ],\n",
       "       [0. , 0. , 0. , 0. , 0. , 0.8, 0. , 0. , 0.1, 0. , 0.1, 0. ],\n",
       "       [0. , 0. , 0. , 0. , 0. , 0. , 0.8, 0. , 0. , 0.1, 0. , 0.1],\n",
       "       [0. , 0. , 0. , 0. , 0. , 0. , 0. , 0.8, 0. , 0. , 0.1, 0.1]])"
      ]
     },
     "execution_count": 6,
     "metadata": {},
     "output_type": "execute_result"
    }
   ],
   "source": [
    "def transition_probabilities(action):\n",
    "    P = np.zeros((reward_map.shape[0]*reward_map.shape[1],reward_map.shape[0]*reward_map.shape[1]))\n",
    "    \n",
    "    for i in range(reward_map.shape[0]):\n",
    "        for j in range(reward_map.shape[1]):\n",
    "            Ps = np.zeros((reward_map.shape[0]+2,reward_map.shape[1]+2))\n",
    "            state = [i,j]\n",
    "            if action == 0:\n",
    "                Ps[state[0],state[1]+1] = .8\n",
    "                Ps[state[0]+1,state[1]] = .1\n",
    "                Ps[state[0]+1,state[1]+2] = .1\n",
    "            elif action == 1:\n",
    "                Ps[state[0]+2,state[1]+1] = .8\n",
    "                Ps[state[0]+1,state[1]] = .1\n",
    "                Ps[state[0]+1,state[1]+2] = .1\n",
    "            elif action == 2:\n",
    "                Ps[state[0]+1,state[1]+2] = .8\n",
    "                Ps[state[0],state[1]+1] = .1\n",
    "                Ps[state[0]+2,state[1]+1] = .1\n",
    "            elif action == 3:\n",
    "                Ps[state[0]+1,state[1]] = .8\n",
    "                Ps[state[0],state[1]+1] = .1\n",
    "                Ps[state[0]+2,state[1]+1] = .1\n",
    "\n",
    "            Ps[state[0]+1,state[1]+1] = np.sum(Ps) - np.sum(Ps[1:-1,1:-1]) \n",
    "\n",
    "            #print(Ps[1:-1,1:-1])\n",
    "            #print(Ps[1:-1,1:-1].flatten())\n",
    "            P[reward_map.shape[1]*i+j,:] = Ps[1:-1,1:-1].flatten()\n",
    "            #print(\"-\"*10)\n",
    "    #print(P)\n",
    "    return(P)\n",
    "transition_probabilities(0)"
   ]
  },
  {
   "cell_type": "code",
   "execution_count": 7,
   "metadata": {},
   "outputs": [],
   "source": [
    "def training(V,iterations,gamma,action):\n",
    "    Vs = np.zeros((reward_map.shape[0]*reward_map.shape[1],4,1))\n",
    "    \n",
    "    for i in range(iterations):\n",
    "        V = R + gamma * np.matmul(transition_probabilities(action),V)\n",
    "    return V\n",
    "\n",
    "Vs = np.zeros((reward_map.shape[0]*reward_map.shape[1],4,1))\n",
    "g = .4\n",
    "Vs[:,0] = training(Vs[:,0],100,g,0)\n",
    "Vs[:,1] = training(Vs[:,1],100,g,1)\n",
    "Vs[:,2] = training(Vs[:,2],100,g,2)\n",
    "Vs[:,3] = training(Vs[:,3],100,g,3)\n"
   ]
  },
  {
   "cell_type": "code",
   "execution_count": 8,
   "metadata": {},
   "outputs": [
    {
     "data": {
      "text/plain": [
       "array([[-0.06577851],\n",
       "       [-0.0524561 ],\n",
       "       [ 0.17402473],\n",
       "       [ 1.41087655],\n",
       "       [-0.16645546],\n",
       "       [-0.06870288],\n",
       "       [-0.13146763],\n",
       "       [ 1.18981436],\n",
       "       [-0.13217769],\n",
       "       [-0.84062082],\n",
       "       [-0.13371981],\n",
       "       [-0.45063354]])"
      ]
     },
     "execution_count": 8,
     "metadata": {},
     "output_type": "execute_result"
    }
   ],
   "source": [
    "np.matmul(transition_probabilities(0),Vs[:,0])"
   ]
  },
  {
   "cell_type": "code",
   "execution_count": 9,
   "metadata": {},
   "outputs": [
    {
     "data": {
      "text/plain": [
       "array([[-0.13246527],\n",
       "       [-0.8418691 ],\n",
       "       [-0.08579316],\n",
       "       [-0.79519699],\n",
       "       [-0.16716217],\n",
       "       [-0.07855863],\n",
       "       [-0.26347035],\n",
       "       [-0.17486682],\n",
       "       [-0.06666667],\n",
       "       [-0.06666667],\n",
       "       [-0.06666667],\n",
       "       [-0.06666667]])"
      ]
     },
     "execution_count": 9,
     "metadata": {},
     "output_type": "execute_result"
    }
   ],
   "source": [
    "np.matmul(transition_probabilities(1),Vs[:,1])"
   ]
  },
  {
   "cell_type": "code",
   "execution_count": 100,
   "metadata": {},
   "outputs": [],
   "source": [
    "Vs = np.reshape(Vs,(reward_map.shape[0]*reward_map.shape[1],4))"
   ]
  },
  {
   "cell_type": "code",
   "execution_count": 101,
   "metadata": {},
   "outputs": [
    {
     "data": {
      "text/plain": [
       "array([[-0.0663114 , -0.09298611, -0.04105236, -0.06666667],\n",
       "       [-0.06098244, -0.37674764,  0.05372396, -0.10680045],\n",
       "       [ 0.02960989, -0.07431726,  0.43045181, -0.0929751 ],\n",
       "       [ 1.56435062,  0.6819212 ,  1.47546296,  0.96539408],\n",
       "       [-0.10658218, -0.10686487, -0.41504825, -0.06666667],\n",
       "       [-1.02748115, -1.03142345, -1.15423955, -1.02987737],\n",
       "       [-0.09258705, -0.14538814, -0.47286015, -0.37699877],\n",
       "       [-0.52407425, -1.06994673, -1.39259259, -1.08674141],\n",
       "       [-0.09287107, -0.06666667, -0.10123754, -0.06666667],\n",
       "       [-0.37624833, -0.06666667, -0.1268316 , -0.10680045],\n",
       "       [-0.09348793, -0.06666667, -0.11121485, -0.0929751 ],\n",
       "       [-0.22025342, -0.06666667, -0.14953704, -0.11793926]])"
      ]
     },
     "execution_count": 101,
     "metadata": {},
     "output_type": "execute_result"
    }
   ],
   "source": [
    "Vs"
   ]
  },
  {
   "cell_type": "code",
   "execution_count": 102,
   "metadata": {},
   "outputs": [
    {
     "data": {
      "text/plain": [
       "array([2, 2, 2, 0, 3, 0, 0, 0, 1, 1, 1, 1])"
      ]
     },
     "execution_count": 102,
     "metadata": {},
     "output_type": "execute_result"
    }
   ],
   "source": [
    "Vs.argmax(axis=-1)"
   ]
  },
  {
   "cell_type": "code",
   "execution_count": 103,
   "metadata": {},
   "outputs": [
    {
     "data": {
      "text/plain": [
       "array([[2, 2, 2, 0],\n",
       "       [3, 0, 0, 0],\n",
       "       [1, 1, 1, 1]])"
      ]
     },
     "execution_count": 103,
     "metadata": {},
     "output_type": "execute_result"
    }
   ],
   "source": [
    "np.reshape(Vs.argmax(axis=-1),(reward_map.shape[0],reward_map.shape[1]))"
   ]
  },
  {
   "cell_type": "code",
   "execution_count": null,
   "metadata": {},
   "outputs": [],
   "source": []
  }
 ],
 "metadata": {
  "kernelspec": {
   "display_name": "Python 3",
   "language": "python",
   "name": "python3"
  },
  "language_info": {
   "codemirror_mode": {
    "name": "ipython",
    "version": 3
   },
   "file_extension": ".py",
   "mimetype": "text/x-python",
   "name": "python",
   "nbconvert_exporter": "python",
   "pygments_lexer": "ipython3",
   "version": "3.8.5"
  }
 },
 "nbformat": 4,
 "nbformat_minor": 4
}
